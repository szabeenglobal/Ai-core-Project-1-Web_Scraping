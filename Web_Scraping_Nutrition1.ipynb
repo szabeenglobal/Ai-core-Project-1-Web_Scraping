{
 "cells": [
  {
   "cell_type": "code",
   "execution_count": 6,
   "metadata": {},
   "outputs": [],
   "source": [
    "from selenium import webdriver\n",
    "from time import sleep\n",
    "import requests\n",
    "from lxml import etree, html "
   ]
  },
  {
   "source": [
    "## Instantiate a Selenium Webdriver"
   ],
   "cell_type": "markdown",
   "metadata": {}
  },
  {
   "cell_type": "code",
   "execution_count": 34,
   "metadata": {},
   "outputs": [],
   "source": [
    "#instantiate a Selenium Webdriver\n",
    "driver = webdriver.Chrome('chrome_driver/chromedriver') \n",
    "#define URL\n",
    "URL = \"https://www.johnlewis.com/search?search-term=tv\"\n",
    "\n",
    "#get the URL\n",
    "driver.get(URL)"
   ]
  },
  {
   "source": [
    "## Find element by XPATH"
   ],
   "cell_type": "markdown",
   "metadata": {}
  },
  {
   "cell_type": "code",
   "execution_count": 56,
   "metadata": {},
   "outputs": [
    {
     "output_type": "stream",
     "name": "stdout",
     "text": [
      "[<Element span at 0x10f844a90>]\n<selenium.webdriver.remote.webelement.WebElement (session=\"6684ae0ae1c97a582e199d219c8a2ef4\", element=\"5dae3ef0-fdb1-4e8c-8962-87245dc28485\")>\n"
     ]
    }
   ],
   "source": [
    "r = requests.get(URL)\n",
    "html_string = r.text\n",
    "tree = html.fromstring(html_string)\n",
    "tree1 = html.fromstring(r.content)\n",
    "\n",
    "images1 = tree.xpath(\"//*[@id='js-plp-body']/div[2]/div[3]/div[1]/section/div/a/div[2]/span\")\n",
    "print(images1)\n",
    "\n",
    "tv_elem = driver.find_element_by_xpath(\"//*[@id='js-plp-body']/div[2]/div[3]/div[1]/section/div/div[1]/a\")\n",
    "tv_elem1 = driver.find_element_by_xpath(\"//*[@id='js-plp-body']/div[2]/div[3]/div[1]/section/div/a/div[2]/span\")\n",
    "\n",
    "print(tv_elem1)"
   ]
  },
  {
   "source": [
    "## get the content of the element"
   ],
   "cell_type": "markdown",
   "metadata": {}
  },
  {
   "cell_type": "code",
   "execution_count": 58,
   "metadata": {},
   "outputs": [
    {
     "output_type": "stream",
     "name": "stdout",
     "text": [
      "£1,399.00\n"
     ]
    }
   ],
   "source": [
    "#get the link\n",
    "results = tv_elem.get_attribute('href')\n",
    "# get the span text in this case price \n",
    "results1 = tv_elem1.text\n",
    "print(results1)"
   ]
  },
  {
   "source": [
    "## go to the link"
   ],
   "cell_type": "markdown",
   "metadata": {}
  },
  {
   "cell_type": "code",
   "execution_count": 60,
   "metadata": {},
   "outputs": [],
   "source": [
    "#driver will open the link that we obtained in the previous step\n",
    "driver.get(results)\n"
   ]
  },
  {
   "cell_type": "code",
   "execution_count": 17,
   "metadata": {},
   "outputs": [],
   "source": [
    "#get the img element that contains the image by assigning it's XPATH \n",
    "imgs = driver.find_element_by_xpath(\"//*[@id='carousel-wrapper']/ul/li[1]/img\")"
   ]
  },
  {
   "source": [
    "## extract the src attribute of the image element which is a link"
   ],
   "cell_type": "markdown",
   "metadata": {}
  },
  {
   "cell_type": "code",
   "execution_count": 18,
   "metadata": {},
   "outputs": [],
   "source": [
    "\n",
    "image = imgs.get_attribute('src')\n",
    "print(image)"
   ]
  },
  {
   "source": [
    "## get the image in the link"
   ],
   "cell_type": "markdown",
   "metadata": {}
  },
  {
   "cell_type": "code",
   "execution_count": 28,
   "metadata": {},
   "outputs": [],
   "source": [
    "\n",
    "save_image = requests.get(image)\n",
    "print(save_image)"
   ]
  },
  {
   "source": [
    "## write and save the image as a file in the current directory"
   ],
   "cell_type": "markdown",
   "metadata": {}
  },
  {
   "cell_type": "code",
   "execution_count": 31,
   "metadata": {},
   "outputs": [],
   "source": [
    "#save the image as a file \n",
    "with open(f'1.jpeg', 'wb') as f:\n",
    "    f.write(save_image.content)\n"
   ]
  },
  {
   "cell_type": "code",
   "execution_count": 63,
   "metadata": {},
   "outputs": [],
   "source": [
    "driver.quit()"
   ]
  },
  {
   "cell_type": "code",
   "execution_count": 266,
   "metadata": {},
   "outputs": [],
   "source": [
    "driver = webdriver.Chrome('chrome_driver/chromedriver') \n",
    "URL = \"https://www.waitrose.com/ecom/shop/search?ct=Breakfast&searchTerm={breakfast}&sortBy=MOST_POPULAR\"\n",
    "driver.get(URL)"
   ]
  },
  {
   "source": [
    "# TESTING "
   ],
   "cell_type": "markdown",
   "metadata": {}
  },
  {
   "cell_type": "code",
   "execution_count": 166,
   "metadata": {},
   "outputs": [],
   "source": [
    "# 1  does not go to the next product in a for loop becaue ids are different\n",
    "\n",
    "    \n",
    "searches = ['breakfast', 'vegetables', 'nuts', 'oil', 'bread', 'rice'] \n",
    "    \n",
    "#for search in searches:\n",
    "\n",
    "sleep(3)\n",
    "def find_href_single():\n",
    "    product_elem = driver.find_element_by_xpath(\"//*[@id='tPp488556-136313-136314']/div/section[1]/div[2]/a\")\n",
    "    href_results = product_elem.get_attribute('href')\n",
    "    driver.get(href_results)\n",
    "#WORKS\n",
    "\n",
    "\n",
    "    # print(f'found{len(results)} results for search \"{search}\"')\n"
   ]
  },
  {
   "cell_type": "code",
   "execution_count": 176,
   "metadata": {
    "tags": []
   },
   "outputs": [
    {
     "output_type": "stream",
     "name": "stdout",
     "text": [
      "['https://www.waitrose.com/ecom/products/waitrose-swiss-style-berry-muesli/488556-136313-136314', 'https://www.waitrose.com/ecom/products/quaker-oat-so-simple-strawberry-raspberry-cranberry-10s/826547-234253-234254', 'https://www.waitrose.com/ecom/products/go-ahead-nutty-crunch-hazelnut/852665-684433-684434', 'https://www.waitrose.com/ecom/products/jordans-country-crisp-chocolate/886869-684485-684486', 'https://www.waitrose.com/ecom/products/mornflake-organic-oats/812287-399956-399957', 'https://www.waitrose.com/ecom/products/eat-natural-bars-with-cranberries-and-macadamias/865494-400009-400010', 'https://www.waitrose.com/ecom/products/jordans-frusli-bars-red-berries/096486-49356-49357', 'https://www.waitrose.com/ecom/products/rankin-selection-ancient-grain-muffins/894034-558750-558751', 'https://www.waitrose.com/ecom/products/eat-natural-nuts-and-seeds-with-honey/871892-675290-675291', 'https://www.waitrose.com/ecom/products/primroses-kitchen-raw-beetroot-ginger-muesli/898379-675407-675408', 'https://www.waitrose.com/ecom/products/biomel-natural-coconut-milk-shot/629077-668635-668636', 'https://www.waitrose.com/ecom/products/biomel-dark-choc-coconut-milk-shot/882928-668669-668670', 'https://www.waitrose.com/ecom/products/essential-high-fibre-bran/526689-704965-704966', 'https://www.waitrose.com/ecom/products/kelloggs-special-k-dark-chocolate-cranberry/497858-690965-690966', 'https://www.waitrose.com/ecom/products/jordans-granola-goji-berry-blackcurrant/794041-693906-693907', 'https://www.waitrose.com/ecom/products/nakd-banofee-pie-bar/724938-722355-722356', 'https://www.waitrose.com/ecom/products/lizis-super-muesli-boost-mango-papaya-turmeric/665169-722912-722913', 'https://www.waitrose.com/ecom/products/moma-bircher-muesli-wild-berry-yogurt/548751-414627-414628', 'https://www.waitrose.com/ecom/products/moma-bircher-muesli-strawberry-banana/638852-414877-414878', 'https://www.waitrose.com/ecom/products/flahavans-irish-porridge-oats-original/085251-43335-43336', 'https://www.waitrose.com/ecom/products/quaker-oat-so-simple-pot-apple-blueberry/513987-151529-151530', 'https://www.waitrose.com/ecom/products/quaker-oat-so-simple-pot-golden-syrup/659679-151595-151596', 'https://www.waitrose.com/ecom/products/quaker-jumbo-rolled-oats/885829-151693-151694', 'https://www.waitrose.com/ecom/products/nestle-curiously-cinnamon/001404-262-263', 'https://www.waitrose.com/ecom/products/essential-fruit-muesli/001326-232-233', 'https://www.waitrose.com/ecom/products/waitrose-original-porridge/852666-479677-479678', 'https://www.waitrose.com/ecom/products/nestle-low-sugar-oat-cheerios/653789-506232-506233', 'https://www.waitrose.com/ecom/products/rude-health-honey-spelt-puffs/859339-506322-506323', 'https://www.waitrose.com/ecom/products/nakd-fancy-mix/594882-680173-680173', 'https://www.waitrose.com/ecom/products/waitrose-flaxseed-maca-cacao/810007-628302-628303', 'https://www.waitrose.com/ecom/products/nairns-blueberry-biscuit-breaks/854068-628434-628435', 'https://www.waitrose.com/ecom/products/deliciously-ella-apple-raisin-bars/893300-695286-695287', 'https://www.waitrose.com/ecom/products/waitrose-lovelife-golden-syrup-flavour-porridge/695362-479552-479553', 'https://www.waitrose.com/ecom/products/tracker-crunchy-peanut-6-pack/499114-274759-274760', 'https://www.waitrose.com/ecom/products/eat-natural-protein-granola-almonds-seeds/712953-674780-674781', 'https://www.waitrose.com/ecom/products/alpen-light-cherry-bakewell-5-bars/477388-506158-506159', 'https://www.waitrose.com/ecom/products/weetabix-weetos-chocolatey-hoops/024012-11644-11645', 'https://www.waitrose.com/ecom/products/kelloggs-frosted-wheats/001057-37-38', 'https://www.waitrose.com/ecom/products/no1-salted-caramel-ginger-granola/606410-442906-442907', 'https://www.waitrose.com/ecom/products/the-paleo-foods-co-grain-free-granola-berry-almond/629573-442916-442917', 'https://www.waitrose.com/ecom/products/the-paleo-foods-co-grain-free-granola-pecan-almond/671189-442946-442947', 'https://www.waitrose.com/ecom/products/flahavans-irish-multi-seed-porridge-oats/870657-443086-443087', 'https://www.waitrose.com/ecom/products/dorset-cereals-gloriously-nutty-muesli/076332-38772-38773', 'https://www.waitrose.com/ecom/products/essential-no-added-sugar-raisin-wheats/543419-704997-704998', 'https://www.waitrose.com/ecom/products/no1-dark-chocolate-sour-cherry-granola/613472-705170-705171', 'https://www.waitrose.com/ecom/products/wk-kellogg-plant-protein-crunch-original/674081-705298-705299', 'https://www.waitrose.com/ecom/products/eat-natural-high-fibre-granola/616962-722888-722889', 'https://www.waitrose.com/ecom/products/wk-kellogg-by-kids-blueberry-apple-beetroot/681895-722920-722921']\n"
     ]
    }
   ],
   "source": [
    "#test 2 : changed find_element_by_xpath to find_elements_by_xpath\n",
    "\n",
    "def find_hrefs1_works():\n",
    "    product_elem = driver.find_elements_by_xpath(\"//a[@href]\")\n",
    "    for elem in product_elem:\n",
    "        print(len(elem.get_attribute(\"href\")))\n",
    "\n",
    "def find_hrefs2_for_all_items_in_the_page_works():\n",
    "    pass\n",
    "list = []\n",
    "\n",
    "for x in range(1, 100):\n",
    "    xpath = \"/html/body/div[2]/div/div/main/div/div[3]/div[2]/div/div[1]/article[\"\n",
    "    # xpath += str(x)\n",
    "    xpath += \"]/div/section[1]/div[2]/a\"\n",
    "    product_elem = driver.find_elements_by_xpath(xpath)\n",
    "    \n",
    "    for elem in product_elem:\n",
    "        results = elem.get_attribute(\"href\")\n",
    "        list.append(results)\n",
    "#goes to each list item \n",
    "# for i in list:\n",
    "#     driver.get(i)\n",
    "\n",
    "\n",
    "   \n",
    "\n",
    "\n",
    "\n",
    "\n"
   ]
  },
  {
   "cell_type": "code",
   "execution_count": 214,
   "metadata": {},
   "outputs": [
    {
     "output_type": "stream",
     "name": "stdout",
     "text": [
      "['https://www.waitrose.com/ecom/products/waitrose-swiss-style-berry-muesli/488556-136313-136314', 'https://www.waitrose.com/ecom/products/quaker-oat-so-simple-strawberry-raspberry-cranberry-10s/826547-234253-234254', 'https://www.waitrose.com/ecom/products/go-ahead-nutty-crunch-hazelnut/852665-684433-684434', 'https://www.waitrose.com/ecom/products/jordans-country-crisp-chocolate/886869-684485-684486', 'https://www.waitrose.com/ecom/products/mornflake-organic-oats/812287-399956-399957', 'https://www.waitrose.com/ecom/products/eat-natural-bars-with-cranberries-and-macadamias/865494-400009-400010', 'https://www.waitrose.com/ecom/products/jordans-frusli-bars-red-berries/096486-49356-49357', 'https://www.waitrose.com/ecom/products/rankin-selection-ancient-grain-muffins/894034-558750-558751', 'https://www.waitrose.com/ecom/products/eat-natural-nuts-and-seeds-with-honey/871892-675290-675291', 'https://www.waitrose.com/ecom/products/primroses-kitchen-raw-beetroot-ginger-muesli/898379-675407-675408', 'https://www.waitrose.com/ecom/products/biomel-natural-coconut-milk-shot/629077-668635-668636', 'https://www.waitrose.com/ecom/products/biomel-dark-choc-coconut-milk-shot/882928-668669-668670', 'https://www.waitrose.com/ecom/products/essential-high-fibre-bran/526689-704965-704966', 'https://www.waitrose.com/ecom/products/kelloggs-special-k-dark-chocolate-cranberry/497858-690965-690966', 'https://www.waitrose.com/ecom/products/jordans-granola-goji-berry-blackcurrant/794041-693906-693907', 'https://www.waitrose.com/ecom/products/nakd-banofee-pie-bar/724938-722355-722356', 'https://www.waitrose.com/ecom/products/lizis-super-muesli-boost-mango-papaya-turmeric/665169-722912-722913', 'https://www.waitrose.com/ecom/products/moma-bircher-muesli-wild-berry-yogurt/548751-414627-414628', 'https://www.waitrose.com/ecom/products/moma-bircher-muesli-strawberry-banana/638852-414877-414878', 'https://www.waitrose.com/ecom/products/flahavans-irish-porridge-oats-original/085251-43335-43336', 'https://www.waitrose.com/ecom/products/quaker-oat-so-simple-pot-apple-blueberry/513987-151529-151530', 'https://www.waitrose.com/ecom/products/quaker-oat-so-simple-pot-golden-syrup/659679-151595-151596', 'https://www.waitrose.com/ecom/products/quaker-jumbo-rolled-oats/885829-151693-151694', 'https://www.waitrose.com/ecom/products/nestle-curiously-cinnamon/001404-262-263', 'https://www.waitrose.com/ecom/products/essential-fruit-muesli/001326-232-233', 'https://www.waitrose.com/ecom/products/waitrose-original-porridge/852666-479677-479678', 'https://www.waitrose.com/ecom/products/nestle-low-sugar-oat-cheerios/653789-506232-506233', 'https://www.waitrose.com/ecom/products/rude-health-honey-spelt-puffs/859339-506322-506323', 'https://www.waitrose.com/ecom/products/nakd-fancy-mix/594882-680173-680173', 'https://www.waitrose.com/ecom/products/waitrose-flaxseed-maca-cacao/810007-628302-628303', 'https://www.waitrose.com/ecom/products/nairns-blueberry-biscuit-breaks/854068-628434-628435', 'https://www.waitrose.com/ecom/products/deliciously-ella-apple-raisin-bars/893300-695286-695287', 'https://www.waitrose.com/ecom/products/waitrose-lovelife-golden-syrup-flavour-porridge/695362-479552-479553', 'https://www.waitrose.com/ecom/products/tracker-crunchy-peanut-6-pack/499114-274759-274760', 'https://www.waitrose.com/ecom/products/eat-natural-protein-granola-almonds-seeds/712953-674780-674781', 'https://www.waitrose.com/ecom/products/alpen-light-cherry-bakewell-5-bars/477388-506158-506159', 'https://www.waitrose.com/ecom/products/weetabix-weetos-chocolatey-hoops/024012-11644-11645', 'https://www.waitrose.com/ecom/products/kelloggs-frosted-wheats/001057-37-38', 'https://www.waitrose.com/ecom/products/no1-salted-caramel-ginger-granola/606410-442906-442907', 'https://www.waitrose.com/ecom/products/the-paleo-foods-co-grain-free-granola-berry-almond/629573-442916-442917', 'https://www.waitrose.com/ecom/products/the-paleo-foods-co-grain-free-granola-pecan-almond/671189-442946-442947', 'https://www.waitrose.com/ecom/products/flahavans-irish-multi-seed-porridge-oats/870657-443086-443087', 'https://www.waitrose.com/ecom/products/dorset-cereals-gloriously-nutty-muesli/076332-38772-38773', 'https://www.waitrose.com/ecom/products/essential-no-added-sugar-raisin-wheats/543419-704997-704998', 'https://www.waitrose.com/ecom/products/no1-dark-chocolate-sour-cherry-granola/613472-705170-705171', 'https://www.waitrose.com/ecom/products/wk-kellogg-plant-protein-crunch-original/674081-705298-705299', 'https://www.waitrose.com/ecom/products/eat-natural-high-fibre-granola/616962-722888-722889', 'https://www.waitrose.com/ecom/products/wk-kellogg-by-kids-blueberry-apple-beetroot/681895-722920-722921']\n"
     ]
    }
   ],
   "source": [
    "print(list)"
   ]
  },
  {
   "cell_type": "code",
   "execution_count": null,
   "metadata": {},
   "outputs": [],
   "source": []
  },
  {
   "cell_type": "code",
   "execution_count": 1,
   "metadata": {},
   "outputs": [
    {
     "output_type": "execute_result",
     "data": {
      "text/plain": [
       "'/Users/sz742/Desktop/Projects/Practical-ML-DS/Machine-Learning-Practice-Zabeen'"
      ]
     },
     "metadata": {},
     "execution_count": 1
    }
   ],
   "source": [
    "pwd"
   ]
  },
  {
   "cell_type": "code",
   "execution_count": 223,
   "metadata": {},
   "outputs": [
    {
     "output_type": "stream",
     "name": "stdout",
     "text": [
      "Done = https://www.waitrose.com/ecom/products/waitrose-swiss-style-berry-muesli/488556-136313-136314\n",
      "Done = https://www.waitrose.com/ecom/products/quaker-oat-so-simple-strawberry-raspberry-cranberry-10s/826547-234253-234254\n",
      "Done = https://www.waitrose.com/ecom/products/go-ahead-nutty-crunch-hazelnut/852665-684433-684434\n",
      "Done = https://www.waitrose.com/ecom/products/jordans-country-crisp-chocolate/886869-684485-684486\n",
      "Done = https://www.waitrose.com/ecom/products/mornflake-organic-oats/812287-399956-399957\n",
      "Done = https://www.waitrose.com/ecom/products/eat-natural-bars-with-cranberries-and-macadamias/865494-400009-400010\n",
      "Done = https://www.waitrose.com/ecom/products/jordans-frusli-bars-red-berries/096486-49356-49357\n",
      "Done = https://www.waitrose.com/ecom/products/rankin-selection-ancient-grain-muffins/894034-558750-558751\n",
      "Done = https://www.waitrose.com/ecom/products/eat-natural-nuts-and-seeds-with-honey/871892-675290-675291\n",
      "Done = https://www.waitrose.com/ecom/products/primroses-kitchen-raw-beetroot-ginger-muesli/898379-675407-675408\n"
     ]
    },
    {
     "output_type": "execute_result",
     "data": {
      "text/plain": [
       "{'product_name': ['Waitrose Swiss Style Berry Muesli',\n",
       "  'Quaker Oat So Simple Strawberry Raspberry & Cranberry 10s',\n",
       "  'Go Ahead! Nutty Crunch Hazelnut',\n",
       "  'Jordans Country Crisp Chocolate',\n",
       "  'Mornflake Organic Oats',\n",
       "  'Eat Natural bars with cranberries and macadamias',\n",
       "  'Jordans Frusli Bars Red Berries',\n",
       "  'Rankin Selection Ancient Grain Muffins',\n",
       "  'Eat Natural Nuts and Seeds with Honey',\n",
       "  \"Primrose's Kitchen Raw Beetroot & Ginger Muesli\"],\n",
       " 'weight': ['750g',\n",
       "  '339g',\n",
       "  '117g',\n",
       "  '500g',\n",
       "  '1kg',\n",
       "  '3x45g',\n",
       "  '6x30g',\n",
       "  '4s',\n",
       "  '450g',\n",
       "  '300g'],\n",
       " 'servings': [],\n",
       " 'price': ['£2.50',\n",
       "  '£2.80',\n",
       "  '£2.29',\n",
       "  '£3.00',\n",
       "  '£2.75',\n",
       "  '£2.00',\n",
       "  '£2.00',\n",
       "  '£1.00',\n",
       "  '£3.00',\n",
       "  '£2.95']}"
      ]
     },
     "metadata": {},
     "execution_count": 223
    }
   ],
   "source": [
    "def get_product_name_list_works():\n",
    "    '''\n",
    "    extracts products names from XPATH\n",
    "    '''\n",
    "    product_name_list = []\n",
    "    for i in list[:10]:\n",
    "        driver.get(i) \n",
    "        xpath = \"//*[@id='productName']/span[1]\"\n",
    "        product_elem = driver.find_element_by_xpath(xpath)\n",
    "        print(product_elem)\n",
    "        results = product_elem.text\n",
    "        product_name_list.append(results)\n",
    "\n",
    "\n",
    "\n",
    "def get_product_data_works():\n",
    "    #create an empty dictionary\n",
    "    product_data = {'product_name' : [], 'weight' : [], 'servings':[], 'price' : [], }\n",
    "    product_name_list = []\n",
    "    for i in list[:10]: #links of the  products \n",
    "        driver.get(i) \n",
    "        #get product_name\n",
    "        xpath1 = \"//*[@id='productName']/span[1]\"\n",
    "        product_elem_name = driver.find_element_by_xpath(xpath1)\n",
    "        \n",
    "        names = product_elem_name.text\n",
    "        product_name_list.append(names)\n",
    "        product_data[\"product_name\"].append(names)\n",
    "        #get weight \n",
    "\n",
    "        xpath2 = \"//*[@id='productName']/span[2]\"\n",
    "        product_elem_weight = driver.find_element_by_xpath(xpath2)\n",
    "        results = product_elem_weight.text\n",
    "        product_data[\"weight\"].append(results)\n",
    "\n",
    "        # get price\n",
    "        xpath3 = \"//*[@id='main']/div/article/section[2]/div[3]/div[1]/section[1]/span[1]/span\"\n",
    "        product_elem_price = driver.find_element_by_xpath(xpath3)\n",
    "        \n",
    "        results = product_elem_price.text\n",
    "        product_data[\"price\"].append(product_elem_price.text)\n",
    "        print(f'Done = {i}')\n",
    "    return product_data\n",
    "\n",
    "    \n",
    "def get_product_data_method_2_works():\n",
    "    product_data = {'product_name' : [], 'weight' : [], 'servings':[], 'price' : [], }\n",
    "    product_name_list = []\n",
    "    XPATH_prod_data = {'product_name': \"//*[@id ='productName']/span[1]\", \n",
    "    'weight': \"//*[@id='productName']/span[2]\", 'price' : \"//*[@id='main']/div/article/section[2]/div[3]/div[1]/section[1]/span[1]/span\"}\n",
    "    for i in list[:10]:\n",
    "        driver.get(i) \n",
    "        for item, xpath in XPATH_prod_data.items():\n",
    "            product_elem = driver.find_element_by_xpath(xpath)\n",
    "            names = product_elem.text\n",
    "            if item == 'product_name':\n",
    "                product_data[\"product_name\"].append(names)\n",
    "            elif item == 'weight' :\n",
    "                product_data[\"weight\"].append(names)\n",
    "            elif item == 'servings':\n",
    "                product_data[\"servings\"].append(names)\n",
    "            else:\n",
    "                product_data[\"price\"].append(names) \n",
    "            #get weight \n",
    "\n",
    "        print(f'Done = {i}')\n",
    "    return product_data\n",
    "\n",
    "def get_ingredients():\n",
    "    XPATHing = []\n",
    "    pass\n",
    "def get_nutrition_waitrose():\n",
    "    XPATH_nutri_w = []\n",
    "    pass\n",
    "def get_nutrition_typical():\n",
    "    XPATH_nutri_w = []\n",
    "    pass\n",
    "\n",
    "get_product_data_works()\n",
    "\n"
   ]
  },
  {
   "cell_type": "code",
   "execution_count": 209,
   "metadata": {},
   "outputs": [
    {
     "output_type": "execute_result",
     "data": {
      "text/plain": [
       "                                        product_name weight servings  price\n",
       "0                  Waitrose Swiss Style Berry Muesli   750g     None  £2.50\n",
       "1  Quaker Oat So Simple Strawberry Raspberry & Cr...   339g     None  £2.80\n",
       "2                    Go Ahead! Nutty Crunch Hazelnut   117g     None  £2.29\n",
       "3                    Jordans Country Crisp Chocolate   500g     None  £3.00\n",
       "4                             Mornflake Organic Oats    1kg     None  £2.75\n",
       "5   Eat Natural bars with cranberries and macadamias  3x45g     None  £2.00\n",
       "6                    Jordans Frusli Bars Red Berries  6x30g     None  £2.00\n",
       "7             Rankin Selection Ancient Grain Muffins     4s     None  £1.00\n",
       "8              Eat Natural Nuts and Seeds with Honey   450g     None  £3.00\n",
       "9    Primrose's Kitchen Raw Beetroot & Ginger Muesli   300g     None  £2.95"
      ],
      "text/html": "<div>\n<style scoped>\n    .dataframe tbody tr th:only-of-type {\n        vertical-align: middle;\n    }\n\n    .dataframe tbody tr th {\n        vertical-align: top;\n    }\n\n    .dataframe thead th {\n        text-align: right;\n    }\n</style>\n<table border=\"1\" class=\"dataframe\">\n  <thead>\n    <tr style=\"text-align: right;\">\n      <th></th>\n      <th>product_name</th>\n      <th>weight</th>\n      <th>servings</th>\n      <th>price</th>\n    </tr>\n  </thead>\n  <tbody>\n    <tr>\n      <th>0</th>\n      <td>Waitrose Swiss Style Berry Muesli</td>\n      <td>750g</td>\n      <td>None</td>\n      <td>£2.50</td>\n    </tr>\n    <tr>\n      <th>1</th>\n      <td>Quaker Oat So Simple Strawberry Raspberry &amp; Cr...</td>\n      <td>339g</td>\n      <td>None</td>\n      <td>£2.80</td>\n    </tr>\n    <tr>\n      <th>2</th>\n      <td>Go Ahead! Nutty Crunch Hazelnut</td>\n      <td>117g</td>\n      <td>None</td>\n      <td>£2.29</td>\n    </tr>\n    <tr>\n      <th>3</th>\n      <td>Jordans Country Crisp Chocolate</td>\n      <td>500g</td>\n      <td>None</td>\n      <td>£3.00</td>\n    </tr>\n    <tr>\n      <th>4</th>\n      <td>Mornflake Organic Oats</td>\n      <td>1kg</td>\n      <td>None</td>\n      <td>£2.75</td>\n    </tr>\n    <tr>\n      <th>5</th>\n      <td>Eat Natural bars with cranberries and macadamias</td>\n      <td>3x45g</td>\n      <td>None</td>\n      <td>£2.00</td>\n    </tr>\n    <tr>\n      <th>6</th>\n      <td>Jordans Frusli Bars Red Berries</td>\n      <td>6x30g</td>\n      <td>None</td>\n      <td>£2.00</td>\n    </tr>\n    <tr>\n      <th>7</th>\n      <td>Rankin Selection Ancient Grain Muffins</td>\n      <td>4s</td>\n      <td>None</td>\n      <td>£1.00</td>\n    </tr>\n    <tr>\n      <th>8</th>\n      <td>Eat Natural Nuts and Seeds with Honey</td>\n      <td>450g</td>\n      <td>None</td>\n      <td>£3.00</td>\n    </tr>\n    <tr>\n      <th>9</th>\n      <td>Primrose's Kitchen Raw Beetroot &amp; Ginger Muesli</td>\n      <td>300g</td>\n      <td>None</td>\n      <td>£2.95</td>\n    </tr>\n  </tbody>\n</table>\n</div>"
     },
     "metadata": {},
     "execution_count": 209
    }
   ],
   "source": [
    "import pandas as pd\n",
    "#data = get_product_data()\n",
    "df = pd.DataFrame.from_dict(data, orient='index')\n",
    "# product_name_list2 = []\n",
    "df.T\n",
    "# product_name_list[0]"
   ]
  },
  {
   "cell_type": "code",
   "execution_count": 77,
   "metadata": {},
   "outputs": [
    {
     "output_type": "execute_result",
     "data": {
      "text/plain": [
       "<selenium.webdriver.chrome.webdriver.WebDriver (session=\"256b90bb537f90c7094a84ebef06d5ca\")>"
      ]
     },
     "metadata": {},
     "execution_count": 77
    }
   ],
   "source": [
    "#instantiate a Selenium Webdriver\n",
    "def load_and_accept_cookies():\n",
    "        \n",
    "    driver = webdriver.Chrome('chrome_driver/chromedriver') \n",
    "    URL = \"https://www.waitrose.com/ecom/shop/search?ct=Breakfast&searchTerm={breakfast}&sortBy=MOST_POPULAR\"\n",
    "    driver.get(URL)\n",
    "    accept_cookies = driver.find_elements_by_xpath('/html/body/div[3]/div/div/div/section/div[2]/button[1]')\n",
    "\n",
    "    \n",
    "    for button in accept_cookies:\n",
    "        if button.text == \"Yes, allow all\":\n",
    "            relevant_button = button\n",
    "\n",
    "    relevant_button.click()\n",
    "    return driver\n",
    "load_and_accept_cookies()"
   ]
  },
  {
   "cell_type": "code",
   "execution_count": 146,
   "metadata": {},
   "outputs": [
    {
     "output_type": "stream",
     "name": "stdout",
     "text": [
      "['https://www.waitrose.com/ecom/products/undecorated-golden-sponge-cake/705438-100161-100162']\n"
     ]
    },
    {
     "output_type": "error",
     "ename": "NameError",
     "evalue": "name 'asfds' is not defined",
     "traceback": [
      "\u001b[0;31m---------------------------------------------------------------------------\u001b[0m",
      "\u001b[0;31mNameError\u001b[0m                                 Traceback (most recent call last)",
      "\u001b[0;32m<ipython-input-146-4ef615332314>\u001b[0m in \u001b[0;36m<module>\u001b[0;34m\u001b[0m\n\u001b[1;32m     35\u001b[0m         \u001b[0mprint\u001b[0m\u001b[0;34m(\u001b[0m\u001b[0;34mf'found{len(results)} results for search \"{search}\"'\u001b[0m\u001b[0;34m)\u001b[0m\u001b[0;34m\u001b[0m\u001b[0;34m\u001b[0m\u001b[0m\n\u001b[1;32m     36\u001b[0m \u001b[0;34m\u001b[0m\u001b[0m\n\u001b[0;32m---> 37\u001b[0;31m \u001b[0mproduct_details\u001b[0m \u001b[0;34m=\u001b[0m \u001b[0mget_products\u001b[0m\u001b[0;34m(\u001b[0m\u001b[0;34m)\u001b[0m\u001b[0;34m\u001b[0m\u001b[0;34m\u001b[0m\u001b[0m\n\u001b[0m",
      "\u001b[0;32m<ipython-input-146-4ef615332314>\u001b[0m in \u001b[0;36mget_products\u001b[0;34m()\u001b[0m\n\u001b[1;32m     32\u001b[0m \u001b[0;34m\u001b[0m\u001b[0m\n\u001b[1;32m     33\u001b[0m         \u001b[0mprint\u001b[0m\u001b[0;34m(\u001b[0m\u001b[0mlist\u001b[0m\u001b[0;34m)\u001b[0m\u001b[0;34m\u001b[0m\u001b[0;34m\u001b[0m\u001b[0m\n\u001b[0;32m---> 34\u001b[0;31m         \u001b[0masfds\u001b[0m\u001b[0;34m\u001b[0m\u001b[0;34m\u001b[0m\u001b[0m\n\u001b[0m\u001b[1;32m     35\u001b[0m         \u001b[0mprint\u001b[0m\u001b[0;34m(\u001b[0m\u001b[0;34mf'found{len(results)} results for search \"{search}\"'\u001b[0m\u001b[0;34m)\u001b[0m\u001b[0;34m\u001b[0m\u001b[0;34m\u001b[0m\u001b[0m\n\u001b[1;32m     36\u001b[0m \u001b[0;34m\u001b[0m\u001b[0m\n",
      "\u001b[0;31mNameError\u001b[0m: name 'asfds' is not defined"
     ]
    }
   ],
   "source": [
    "def get_products():\n",
    "    driver = load_and_accept_cookies()\n",
    "\n",
    "    # product_data = {'product_name' : [], 'weight' : [], 'servings':[], 'price' : [], }\n",
    "    # ingredients= {product_name: []}\n",
    "    # nutrition_waitrose = {'energy': [], 'fat' : [], 'fat_saturates': [], 'sugars': [], 'fiber' : [], 'protein' : [], 'salt' : [] }\n",
    "    # nutrition_typical = {'energy': [], 'fat_saturates': [], 'carbohydrates_sugars' : [], 'fiber' : [], 'protein' : [], 'salt' : [] }\n",
    "\n",
    "#define URL\n",
    "   \n",
    "\n",
    "#g\n",
    "    \n",
    "    searches = ['breakfast', 'vegetables', 'nuts', 'oil', 'bread', 'rice'] \n",
    "    search_base = \"https://www.waitrose.com/ecom/shop/search?ct=&{search}Term={search}&sortBy=MOST_POPULAR\"\n",
    "    \n",
    "    for search in searches:\n",
    "        sleep(3)\n",
    "        driver.get(search_base)\n",
    "        list = [] #list stores all the product links\n",
    "        for x in range(1, 100):\n",
    "            xpath = \"/html/body/div[2]/div/div/main/div/div[3]/div[2]/div/div[1]/article[\"\n",
    "            # xpath += str(x)\n",
    "            xpath += \"]/div/section[1]/div[2]/a\"\n",
    "            product_elem = driver.find_elements_by_xpath(xpath)\n",
    "    \n",
    "            for elem in product_elem:\n",
    "                product_link = elem.get_attribute(\"href\")\n",
    "                list.append(product_link)\n",
    "                driver.get(product_link)\n",
    "\n",
    "        \n",
    "\n",
    "        print(list)\n",
    "        asfds\n",
    "        print(f'found{len(results)} results for search \"{search}\"')\n",
    "\n",
    "product_details = get_products() "
   ]
  },
  {
   "cell_type": "code",
   "execution_count": 87,
   "metadata": {},
   "outputs": [
    {
     "output_type": "error",
     "ename": "MaxRetryError",
     "evalue": "HTTPConnectionPool(host='127.0.0.1', port=58461): Max retries exceeded with url: /session/96fa17deb16ea1345fd7dfb1120c1541/element (Caused by NewConnectionError('<urllib3.connection.HTTPConnection object at 0x1130f4070>: Failed to establish a new connection: [Errno 61] Connection refused'))",
     "traceback": [
      "\u001b[0;31m---------------------------------------------------------------------------\u001b[0m",
      "\u001b[0;31mConnectionRefusedError\u001b[0m                    Traceback (most recent call last)",
      "\u001b[0;32m/Library/Frameworks/Python.framework/Versions/3.8/lib/python3.8/site-packages/urllib3/connection.py\u001b[0m in \u001b[0;36m_new_conn\u001b[0;34m(self)\u001b[0m\n\u001b[1;32m    158\u001b[0m         \u001b[0;32mtry\u001b[0m\u001b[0;34m:\u001b[0m\u001b[0;34m\u001b[0m\u001b[0;34m\u001b[0m\u001b[0m\n\u001b[0;32m--> 159\u001b[0;31m             conn = connection.create_connection(\n\u001b[0m\u001b[1;32m    160\u001b[0m                 \u001b[0;34m(\u001b[0m\u001b[0mself\u001b[0m\u001b[0;34m.\u001b[0m\u001b[0m_dns_host\u001b[0m\u001b[0;34m,\u001b[0m \u001b[0mself\u001b[0m\u001b[0;34m.\u001b[0m\u001b[0mport\u001b[0m\u001b[0;34m)\u001b[0m\u001b[0;34m,\u001b[0m \u001b[0mself\u001b[0m\u001b[0;34m.\u001b[0m\u001b[0mtimeout\u001b[0m\u001b[0;34m,\u001b[0m \u001b[0;34m**\u001b[0m\u001b[0mextra_kw\u001b[0m\u001b[0;34m\u001b[0m\u001b[0;34m\u001b[0m\u001b[0m\n",
      "\u001b[0;32m/Library/Frameworks/Python.framework/Versions/3.8/lib/python3.8/site-packages/urllib3/util/connection.py\u001b[0m in \u001b[0;36mcreate_connection\u001b[0;34m(address, timeout, source_address, socket_options)\u001b[0m\n\u001b[1;32m     83\u001b[0m     \u001b[0;32mif\u001b[0m \u001b[0merr\u001b[0m \u001b[0;32mis\u001b[0m \u001b[0;32mnot\u001b[0m \u001b[0;32mNone\u001b[0m\u001b[0;34m:\u001b[0m\u001b[0;34m\u001b[0m\u001b[0;34m\u001b[0m\u001b[0m\n\u001b[0;32m---> 84\u001b[0;31m         \u001b[0;32mraise\u001b[0m \u001b[0merr\u001b[0m\u001b[0;34m\u001b[0m\u001b[0;34m\u001b[0m\u001b[0m\n\u001b[0m\u001b[1;32m     85\u001b[0m \u001b[0;34m\u001b[0m\u001b[0m\n",
      "\u001b[0;32m/Library/Frameworks/Python.framework/Versions/3.8/lib/python3.8/site-packages/urllib3/util/connection.py\u001b[0m in \u001b[0;36mcreate_connection\u001b[0;34m(address, timeout, source_address, socket_options)\u001b[0m\n\u001b[1;32m     73\u001b[0m                 \u001b[0msock\u001b[0m\u001b[0;34m.\u001b[0m\u001b[0mbind\u001b[0m\u001b[0;34m(\u001b[0m\u001b[0msource_address\u001b[0m\u001b[0;34m)\u001b[0m\u001b[0;34m\u001b[0m\u001b[0;34m\u001b[0m\u001b[0m\n\u001b[0;32m---> 74\u001b[0;31m             \u001b[0msock\u001b[0m\u001b[0;34m.\u001b[0m\u001b[0mconnect\u001b[0m\u001b[0;34m(\u001b[0m\u001b[0msa\u001b[0m\u001b[0;34m)\u001b[0m\u001b[0;34m\u001b[0m\u001b[0;34m\u001b[0m\u001b[0m\n\u001b[0m\u001b[1;32m     75\u001b[0m             \u001b[0;32mreturn\u001b[0m \u001b[0msock\u001b[0m\u001b[0;34m\u001b[0m\u001b[0;34m\u001b[0m\u001b[0m\n",
      "\u001b[0;31mConnectionRefusedError\u001b[0m: [Errno 61] Connection refused",
      "\nDuring handling of the above exception, another exception occurred:\n",
      "\u001b[0;31mNewConnectionError\u001b[0m                        Traceback (most recent call last)",
      "\u001b[0;32m/Library/Frameworks/Python.framework/Versions/3.8/lib/python3.8/site-packages/urllib3/connectionpool.py\u001b[0m in \u001b[0;36murlopen\u001b[0;34m(self, method, url, body, headers, retries, redirect, assert_same_host, timeout, pool_timeout, release_conn, chunked, body_pos, **response_kw)\u001b[0m\n\u001b[1;32m    669\u001b[0m             \u001b[0;31m# Make the request on the httplib connection object.\u001b[0m\u001b[0;34m\u001b[0m\u001b[0;34m\u001b[0m\u001b[0;34m\u001b[0m\u001b[0m\n\u001b[0;32m--> 670\u001b[0;31m             httplib_response = self._make_request(\n\u001b[0m\u001b[1;32m    671\u001b[0m                 \u001b[0mconn\u001b[0m\u001b[0;34m,\u001b[0m\u001b[0;34m\u001b[0m\u001b[0;34m\u001b[0m\u001b[0m\n",
      "\u001b[0;32m/Library/Frameworks/Python.framework/Versions/3.8/lib/python3.8/site-packages/urllib3/connectionpool.py\u001b[0m in \u001b[0;36m_make_request\u001b[0;34m(self, conn, method, url, timeout, chunked, **httplib_request_kw)\u001b[0m\n\u001b[1;32m    391\u001b[0m         \u001b[0;32melse\u001b[0m\u001b[0;34m:\u001b[0m\u001b[0;34m\u001b[0m\u001b[0;34m\u001b[0m\u001b[0m\n\u001b[0;32m--> 392\u001b[0;31m             \u001b[0mconn\u001b[0m\u001b[0;34m.\u001b[0m\u001b[0mrequest\u001b[0m\u001b[0;34m(\u001b[0m\u001b[0mmethod\u001b[0m\u001b[0;34m,\u001b[0m \u001b[0murl\u001b[0m\u001b[0;34m,\u001b[0m \u001b[0;34m**\u001b[0m\u001b[0mhttplib_request_kw\u001b[0m\u001b[0;34m)\u001b[0m\u001b[0;34m\u001b[0m\u001b[0;34m\u001b[0m\u001b[0m\n\u001b[0m\u001b[1;32m    393\u001b[0m \u001b[0;34m\u001b[0m\u001b[0m\n",
      "\u001b[0;32m/Library/Frameworks/Python.framework/Versions/3.8/lib/python3.8/http/client.py\u001b[0m in \u001b[0;36mrequest\u001b[0;34m(self, method, url, body, headers, encode_chunked)\u001b[0m\n\u001b[1;32m   1229\u001b[0m         \u001b[0;34m\"\"\"Send a complete request to the server.\"\"\"\u001b[0m\u001b[0;34m\u001b[0m\u001b[0;34m\u001b[0m\u001b[0m\n\u001b[0;32m-> 1230\u001b[0;31m         \u001b[0mself\u001b[0m\u001b[0;34m.\u001b[0m\u001b[0m_send_request\u001b[0m\u001b[0;34m(\u001b[0m\u001b[0mmethod\u001b[0m\u001b[0;34m,\u001b[0m \u001b[0murl\u001b[0m\u001b[0;34m,\u001b[0m \u001b[0mbody\u001b[0m\u001b[0;34m,\u001b[0m \u001b[0mheaders\u001b[0m\u001b[0;34m,\u001b[0m \u001b[0mencode_chunked\u001b[0m\u001b[0;34m)\u001b[0m\u001b[0;34m\u001b[0m\u001b[0;34m\u001b[0m\u001b[0m\n\u001b[0m\u001b[1;32m   1231\u001b[0m \u001b[0;34m\u001b[0m\u001b[0m\n",
      "\u001b[0;32m/Library/Frameworks/Python.framework/Versions/3.8/lib/python3.8/http/client.py\u001b[0m in \u001b[0;36m_send_request\u001b[0;34m(self, method, url, body, headers, encode_chunked)\u001b[0m\n\u001b[1;32m   1275\u001b[0m             \u001b[0mbody\u001b[0m \u001b[0;34m=\u001b[0m \u001b[0m_encode\u001b[0m\u001b[0;34m(\u001b[0m\u001b[0mbody\u001b[0m\u001b[0;34m,\u001b[0m \u001b[0;34m'body'\u001b[0m\u001b[0;34m)\u001b[0m\u001b[0;34m\u001b[0m\u001b[0;34m\u001b[0m\u001b[0m\n\u001b[0;32m-> 1276\u001b[0;31m         \u001b[0mself\u001b[0m\u001b[0;34m.\u001b[0m\u001b[0mendheaders\u001b[0m\u001b[0;34m(\u001b[0m\u001b[0mbody\u001b[0m\u001b[0;34m,\u001b[0m \u001b[0mencode_chunked\u001b[0m\u001b[0;34m=\u001b[0m\u001b[0mencode_chunked\u001b[0m\u001b[0;34m)\u001b[0m\u001b[0;34m\u001b[0m\u001b[0;34m\u001b[0m\u001b[0m\n\u001b[0m\u001b[1;32m   1277\u001b[0m \u001b[0;34m\u001b[0m\u001b[0m\n",
      "\u001b[0;32m/Library/Frameworks/Python.framework/Versions/3.8/lib/python3.8/http/client.py\u001b[0m in \u001b[0;36mendheaders\u001b[0;34m(self, message_body, encode_chunked)\u001b[0m\n\u001b[1;32m   1224\u001b[0m             \u001b[0;32mraise\u001b[0m \u001b[0mCannotSendHeader\u001b[0m\u001b[0;34m(\u001b[0m\u001b[0;34m)\u001b[0m\u001b[0;34m\u001b[0m\u001b[0;34m\u001b[0m\u001b[0m\n\u001b[0;32m-> 1225\u001b[0;31m         \u001b[0mself\u001b[0m\u001b[0;34m.\u001b[0m\u001b[0m_send_output\u001b[0m\u001b[0;34m(\u001b[0m\u001b[0mmessage_body\u001b[0m\u001b[0;34m,\u001b[0m \u001b[0mencode_chunked\u001b[0m\u001b[0;34m=\u001b[0m\u001b[0mencode_chunked\u001b[0m\u001b[0;34m)\u001b[0m\u001b[0;34m\u001b[0m\u001b[0;34m\u001b[0m\u001b[0m\n\u001b[0m\u001b[1;32m   1226\u001b[0m \u001b[0;34m\u001b[0m\u001b[0m\n",
      "\u001b[0;32m/Library/Frameworks/Python.framework/Versions/3.8/lib/python3.8/http/client.py\u001b[0m in \u001b[0;36m_send_output\u001b[0;34m(self, message_body, encode_chunked)\u001b[0m\n\u001b[1;32m   1003\u001b[0m         \u001b[0;32mdel\u001b[0m \u001b[0mself\u001b[0m\u001b[0;34m.\u001b[0m\u001b[0m_buffer\u001b[0m\u001b[0;34m[\u001b[0m\u001b[0;34m:\u001b[0m\u001b[0;34m]\u001b[0m\u001b[0;34m\u001b[0m\u001b[0;34m\u001b[0m\u001b[0m\n\u001b[0;32m-> 1004\u001b[0;31m         \u001b[0mself\u001b[0m\u001b[0;34m.\u001b[0m\u001b[0msend\u001b[0m\u001b[0;34m(\u001b[0m\u001b[0mmsg\u001b[0m\u001b[0;34m)\u001b[0m\u001b[0;34m\u001b[0m\u001b[0;34m\u001b[0m\u001b[0m\n\u001b[0m\u001b[1;32m   1005\u001b[0m \u001b[0;34m\u001b[0m\u001b[0m\n",
      "\u001b[0;32m/Library/Frameworks/Python.framework/Versions/3.8/lib/python3.8/http/client.py\u001b[0m in \u001b[0;36msend\u001b[0;34m(self, data)\u001b[0m\n\u001b[1;32m    943\u001b[0m             \u001b[0;32mif\u001b[0m \u001b[0mself\u001b[0m\u001b[0;34m.\u001b[0m\u001b[0mauto_open\u001b[0m\u001b[0;34m:\u001b[0m\u001b[0;34m\u001b[0m\u001b[0;34m\u001b[0m\u001b[0m\n\u001b[0;32m--> 944\u001b[0;31m                 \u001b[0mself\u001b[0m\u001b[0;34m.\u001b[0m\u001b[0mconnect\u001b[0m\u001b[0;34m(\u001b[0m\u001b[0;34m)\u001b[0m\u001b[0;34m\u001b[0m\u001b[0;34m\u001b[0m\u001b[0m\n\u001b[0m\u001b[1;32m    945\u001b[0m             \u001b[0;32melse\u001b[0m\u001b[0;34m:\u001b[0m\u001b[0;34m\u001b[0m\u001b[0;34m\u001b[0m\u001b[0m\n",
      "\u001b[0;32m/Library/Frameworks/Python.framework/Versions/3.8/lib/python3.8/site-packages/urllib3/connection.py\u001b[0m in \u001b[0;36mconnect\u001b[0;34m(self)\u001b[0m\n\u001b[1;32m    186\u001b[0m     \u001b[0;32mdef\u001b[0m \u001b[0mconnect\u001b[0m\u001b[0;34m(\u001b[0m\u001b[0mself\u001b[0m\u001b[0;34m)\u001b[0m\u001b[0;34m:\u001b[0m\u001b[0;34m\u001b[0m\u001b[0;34m\u001b[0m\u001b[0m\n\u001b[0;32m--> 187\u001b[0;31m         \u001b[0mconn\u001b[0m \u001b[0;34m=\u001b[0m \u001b[0mself\u001b[0m\u001b[0;34m.\u001b[0m\u001b[0m_new_conn\u001b[0m\u001b[0;34m(\u001b[0m\u001b[0;34m)\u001b[0m\u001b[0;34m\u001b[0m\u001b[0;34m\u001b[0m\u001b[0m\n\u001b[0m\u001b[1;32m    188\u001b[0m         \u001b[0mself\u001b[0m\u001b[0;34m.\u001b[0m\u001b[0m_prepare_conn\u001b[0m\u001b[0;34m(\u001b[0m\u001b[0mconn\u001b[0m\u001b[0;34m)\u001b[0m\u001b[0;34m\u001b[0m\u001b[0;34m\u001b[0m\u001b[0m\n",
      "\u001b[0;32m/Library/Frameworks/Python.framework/Versions/3.8/lib/python3.8/site-packages/urllib3/connection.py\u001b[0m in \u001b[0;36m_new_conn\u001b[0;34m(self)\u001b[0m\n\u001b[1;32m    170\u001b[0m         \u001b[0;32mexcept\u001b[0m \u001b[0mSocketError\u001b[0m \u001b[0;32mas\u001b[0m \u001b[0me\u001b[0m\u001b[0;34m:\u001b[0m\u001b[0;34m\u001b[0m\u001b[0;34m\u001b[0m\u001b[0m\n\u001b[0;32m--> 171\u001b[0;31m             raise NewConnectionError(\n\u001b[0m\u001b[1;32m    172\u001b[0m                 \u001b[0mself\u001b[0m\u001b[0;34m,\u001b[0m \u001b[0;34m\"Failed to establish a new connection: %s\"\u001b[0m \u001b[0;34m%\u001b[0m \u001b[0me\u001b[0m\u001b[0;34m\u001b[0m\u001b[0;34m\u001b[0m\u001b[0m\n",
      "\u001b[0;31mNewConnectionError\u001b[0m: <urllib3.connection.HTTPConnection object at 0x1130f4070>: Failed to establish a new connection: [Errno 61] Connection refused",
      "\nDuring handling of the above exception, another exception occurred:\n",
      "\u001b[0;31mMaxRetryError\u001b[0m                             Traceback (most recent call last)",
      "\u001b[0;32m<ipython-input-87-927efb3262cb>\u001b[0m in \u001b[0;36m<module>\u001b[0;34m\u001b[0m\n\u001b[0;32m----> 1\u001b[0;31m \u001b[0mresults\u001b[0m \u001b[0;34m=\u001b[0m \u001b[0mdriver\u001b[0m\u001b[0;34m.\u001b[0m\u001b[0mfind_element_by_xpath\u001b[0m\u001b[0;34m(\u001b[0m\u001b[0;34m\"//*[@id='tPp488556-136313-136314']/div/section[1]/div[2]/a\"\u001b[0m\u001b[0;34m)\u001b[0m\u001b[0;34m\u001b[0m\u001b[0;34m\u001b[0m\u001b[0m\n\u001b[0m",
      "\u001b[0;32m/Library/Frameworks/Python.framework/Versions/3.8/lib/python3.8/site-packages/selenium/webdriver/remote/webdriver.py\u001b[0m in \u001b[0;36mfind_element_by_xpath\u001b[0;34m(self, xpath)\u001b[0m\n\u001b[1;32m    392\u001b[0m             \u001b[0melement\u001b[0m \u001b[0;34m=\u001b[0m \u001b[0mdriver\u001b[0m\u001b[0;34m.\u001b[0m\u001b[0mfind_element_by_xpath\u001b[0m\u001b[0;34m(\u001b[0m\u001b[0;34m'//div/td[1]'\u001b[0m\u001b[0;34m)\u001b[0m\u001b[0;34m\u001b[0m\u001b[0;34m\u001b[0m\u001b[0m\n\u001b[1;32m    393\u001b[0m         \"\"\"\n\u001b[0;32m--> 394\u001b[0;31m         \u001b[0;32mreturn\u001b[0m \u001b[0mself\u001b[0m\u001b[0;34m.\u001b[0m\u001b[0mfind_element\u001b[0m\u001b[0;34m(\u001b[0m\u001b[0mby\u001b[0m\u001b[0;34m=\u001b[0m\u001b[0mBy\u001b[0m\u001b[0;34m.\u001b[0m\u001b[0mXPATH\u001b[0m\u001b[0;34m,\u001b[0m \u001b[0mvalue\u001b[0m\u001b[0;34m=\u001b[0m\u001b[0mxpath\u001b[0m\u001b[0;34m)\u001b[0m\u001b[0;34m\u001b[0m\u001b[0;34m\u001b[0m\u001b[0m\n\u001b[0m\u001b[1;32m    395\u001b[0m \u001b[0;34m\u001b[0m\u001b[0m\n\u001b[1;32m    396\u001b[0m     \u001b[0;32mdef\u001b[0m \u001b[0mfind_elements_by_xpath\u001b[0m\u001b[0;34m(\u001b[0m\u001b[0mself\u001b[0m\u001b[0;34m,\u001b[0m \u001b[0mxpath\u001b[0m\u001b[0;34m)\u001b[0m\u001b[0;34m:\u001b[0m\u001b[0;34m\u001b[0m\u001b[0;34m\u001b[0m\u001b[0m\n",
      "\u001b[0;32m/Library/Frameworks/Python.framework/Versions/3.8/lib/python3.8/site-packages/selenium/webdriver/remote/webdriver.py\u001b[0m in \u001b[0;36mfind_element\u001b[0;34m(self, by, value)\u001b[0m\n\u001b[1;32m    974\u001b[0m                 \u001b[0mby\u001b[0m \u001b[0;34m=\u001b[0m \u001b[0mBy\u001b[0m\u001b[0;34m.\u001b[0m\u001b[0mCSS_SELECTOR\u001b[0m\u001b[0;34m\u001b[0m\u001b[0;34m\u001b[0m\u001b[0m\n\u001b[1;32m    975\u001b[0m                 \u001b[0mvalue\u001b[0m \u001b[0;34m=\u001b[0m \u001b[0;34m'[name=\"%s\"]'\u001b[0m \u001b[0;34m%\u001b[0m \u001b[0mvalue\u001b[0m\u001b[0;34m\u001b[0m\u001b[0;34m\u001b[0m\u001b[0m\n\u001b[0;32m--> 976\u001b[0;31m         return self.execute(Command.FIND_ELEMENT, {\n\u001b[0m\u001b[1;32m    977\u001b[0m             \u001b[0;34m'using'\u001b[0m\u001b[0;34m:\u001b[0m \u001b[0mby\u001b[0m\u001b[0;34m,\u001b[0m\u001b[0;34m\u001b[0m\u001b[0;34m\u001b[0m\u001b[0m\n\u001b[1;32m    978\u001b[0m             'value': value})['value']\n",
      "\u001b[0;32m/Library/Frameworks/Python.framework/Versions/3.8/lib/python3.8/site-packages/selenium/webdriver/remote/webdriver.py\u001b[0m in \u001b[0;36mexecute\u001b[0;34m(self, driver_command, params)\u001b[0m\n\u001b[1;32m    317\u001b[0m \u001b[0;34m\u001b[0m\u001b[0m\n\u001b[1;32m    318\u001b[0m         \u001b[0mparams\u001b[0m \u001b[0;34m=\u001b[0m \u001b[0mself\u001b[0m\u001b[0;34m.\u001b[0m\u001b[0m_wrap_value\u001b[0m\u001b[0;34m(\u001b[0m\u001b[0mparams\u001b[0m\u001b[0;34m)\u001b[0m\u001b[0;34m\u001b[0m\u001b[0;34m\u001b[0m\u001b[0m\n\u001b[0;32m--> 319\u001b[0;31m         \u001b[0mresponse\u001b[0m \u001b[0;34m=\u001b[0m \u001b[0mself\u001b[0m\u001b[0;34m.\u001b[0m\u001b[0mcommand_executor\u001b[0m\u001b[0;34m.\u001b[0m\u001b[0mexecute\u001b[0m\u001b[0;34m(\u001b[0m\u001b[0mdriver_command\u001b[0m\u001b[0;34m,\u001b[0m \u001b[0mparams\u001b[0m\u001b[0;34m)\u001b[0m\u001b[0;34m\u001b[0m\u001b[0;34m\u001b[0m\u001b[0m\n\u001b[0m\u001b[1;32m    320\u001b[0m         \u001b[0;32mif\u001b[0m \u001b[0mresponse\u001b[0m\u001b[0;34m:\u001b[0m\u001b[0;34m\u001b[0m\u001b[0;34m\u001b[0m\u001b[0m\n\u001b[1;32m    321\u001b[0m             \u001b[0mself\u001b[0m\u001b[0;34m.\u001b[0m\u001b[0merror_handler\u001b[0m\u001b[0;34m.\u001b[0m\u001b[0mcheck_response\u001b[0m\u001b[0;34m(\u001b[0m\u001b[0mresponse\u001b[0m\u001b[0;34m)\u001b[0m\u001b[0;34m\u001b[0m\u001b[0;34m\u001b[0m\u001b[0m\n",
      "\u001b[0;32m/Library/Frameworks/Python.framework/Versions/3.8/lib/python3.8/site-packages/selenium/webdriver/remote/remote_connection.py\u001b[0m in \u001b[0;36mexecute\u001b[0;34m(self, command, params)\u001b[0m\n\u001b[1;32m    372\u001b[0m         \u001b[0mdata\u001b[0m \u001b[0;34m=\u001b[0m \u001b[0mutils\u001b[0m\u001b[0;34m.\u001b[0m\u001b[0mdump_json\u001b[0m\u001b[0;34m(\u001b[0m\u001b[0mparams\u001b[0m\u001b[0;34m)\u001b[0m\u001b[0;34m\u001b[0m\u001b[0;34m\u001b[0m\u001b[0m\n\u001b[1;32m    373\u001b[0m         \u001b[0murl\u001b[0m \u001b[0;34m=\u001b[0m \u001b[0;34m'%s%s'\u001b[0m \u001b[0;34m%\u001b[0m \u001b[0;34m(\u001b[0m\u001b[0mself\u001b[0m\u001b[0;34m.\u001b[0m\u001b[0m_url\u001b[0m\u001b[0;34m,\u001b[0m \u001b[0mpath\u001b[0m\u001b[0;34m)\u001b[0m\u001b[0;34m\u001b[0m\u001b[0;34m\u001b[0m\u001b[0m\n\u001b[0;32m--> 374\u001b[0;31m         \u001b[0;32mreturn\u001b[0m \u001b[0mself\u001b[0m\u001b[0;34m.\u001b[0m\u001b[0m_request\u001b[0m\u001b[0;34m(\u001b[0m\u001b[0mcommand_info\u001b[0m\u001b[0;34m[\u001b[0m\u001b[0;36m0\u001b[0m\u001b[0;34m]\u001b[0m\u001b[0;34m,\u001b[0m \u001b[0murl\u001b[0m\u001b[0;34m,\u001b[0m \u001b[0mbody\u001b[0m\u001b[0;34m=\u001b[0m\u001b[0mdata\u001b[0m\u001b[0;34m)\u001b[0m\u001b[0;34m\u001b[0m\u001b[0;34m\u001b[0m\u001b[0m\n\u001b[0m\u001b[1;32m    375\u001b[0m \u001b[0;34m\u001b[0m\u001b[0m\n\u001b[1;32m    376\u001b[0m     \u001b[0;32mdef\u001b[0m \u001b[0m_request\u001b[0m\u001b[0;34m(\u001b[0m\u001b[0mself\u001b[0m\u001b[0;34m,\u001b[0m \u001b[0mmethod\u001b[0m\u001b[0;34m,\u001b[0m \u001b[0murl\u001b[0m\u001b[0;34m,\u001b[0m \u001b[0mbody\u001b[0m\u001b[0;34m=\u001b[0m\u001b[0;32mNone\u001b[0m\u001b[0;34m)\u001b[0m\u001b[0;34m:\u001b[0m\u001b[0;34m\u001b[0m\u001b[0;34m\u001b[0m\u001b[0m\n",
      "\u001b[0;32m/Library/Frameworks/Python.framework/Versions/3.8/lib/python3.8/site-packages/selenium/webdriver/remote/remote_connection.py\u001b[0m in \u001b[0;36m_request\u001b[0;34m(self, method, url, body)\u001b[0m\n\u001b[1;32m    395\u001b[0m \u001b[0;34m\u001b[0m\u001b[0m\n\u001b[1;32m    396\u001b[0m         \u001b[0;32mif\u001b[0m \u001b[0mself\u001b[0m\u001b[0;34m.\u001b[0m\u001b[0mkeep_alive\u001b[0m\u001b[0;34m:\u001b[0m\u001b[0;34m\u001b[0m\u001b[0;34m\u001b[0m\u001b[0m\n\u001b[0;32m--> 397\u001b[0;31m             \u001b[0mresp\u001b[0m \u001b[0;34m=\u001b[0m \u001b[0mself\u001b[0m\u001b[0;34m.\u001b[0m\u001b[0m_conn\u001b[0m\u001b[0;34m.\u001b[0m\u001b[0mrequest\u001b[0m\u001b[0;34m(\u001b[0m\u001b[0mmethod\u001b[0m\u001b[0;34m,\u001b[0m \u001b[0murl\u001b[0m\u001b[0;34m,\u001b[0m \u001b[0mbody\u001b[0m\u001b[0;34m=\u001b[0m\u001b[0mbody\u001b[0m\u001b[0;34m,\u001b[0m \u001b[0mheaders\u001b[0m\u001b[0;34m=\u001b[0m\u001b[0mheaders\u001b[0m\u001b[0;34m)\u001b[0m\u001b[0;34m\u001b[0m\u001b[0;34m\u001b[0m\u001b[0m\n\u001b[0m\u001b[1;32m    398\u001b[0m \u001b[0;34m\u001b[0m\u001b[0m\n\u001b[1;32m    399\u001b[0m             \u001b[0mstatuscode\u001b[0m \u001b[0;34m=\u001b[0m \u001b[0mresp\u001b[0m\u001b[0;34m.\u001b[0m\u001b[0mstatus\u001b[0m\u001b[0;34m\u001b[0m\u001b[0;34m\u001b[0m\u001b[0m\n",
      "\u001b[0;32m/Library/Frameworks/Python.framework/Versions/3.8/lib/python3.8/site-packages/urllib3/request.py\u001b[0m in \u001b[0;36mrequest\u001b[0;34m(self, method, url, fields, headers, **urlopen_kw)\u001b[0m\n\u001b[1;32m     77\u001b[0m             )\n\u001b[1;32m     78\u001b[0m         \u001b[0;32melse\u001b[0m\u001b[0;34m:\u001b[0m\u001b[0;34m\u001b[0m\u001b[0;34m\u001b[0m\u001b[0m\n\u001b[0;32m---> 79\u001b[0;31m             return self.request_encode_body(\n\u001b[0m\u001b[1;32m     80\u001b[0m                 \u001b[0mmethod\u001b[0m\u001b[0;34m,\u001b[0m \u001b[0murl\u001b[0m\u001b[0;34m,\u001b[0m \u001b[0mfields\u001b[0m\u001b[0;34m=\u001b[0m\u001b[0mfields\u001b[0m\u001b[0;34m,\u001b[0m \u001b[0mheaders\u001b[0m\u001b[0;34m=\u001b[0m\u001b[0mheaders\u001b[0m\u001b[0;34m,\u001b[0m \u001b[0;34m**\u001b[0m\u001b[0murlopen_kw\u001b[0m\u001b[0;34m\u001b[0m\u001b[0;34m\u001b[0m\u001b[0m\n\u001b[1;32m     81\u001b[0m             )\n",
      "\u001b[0;32m/Library/Frameworks/Python.framework/Versions/3.8/lib/python3.8/site-packages/urllib3/request.py\u001b[0m in \u001b[0;36mrequest_encode_body\u001b[0;34m(self, method, url, fields, headers, encode_multipart, multipart_boundary, **urlopen_kw)\u001b[0m\n\u001b[1;32m    169\u001b[0m         \u001b[0mextra_kw\u001b[0m\u001b[0;34m.\u001b[0m\u001b[0mupdate\u001b[0m\u001b[0;34m(\u001b[0m\u001b[0murlopen_kw\u001b[0m\u001b[0;34m)\u001b[0m\u001b[0;34m\u001b[0m\u001b[0;34m\u001b[0m\u001b[0m\n\u001b[1;32m    170\u001b[0m \u001b[0;34m\u001b[0m\u001b[0m\n\u001b[0;32m--> 171\u001b[0;31m         \u001b[0;32mreturn\u001b[0m \u001b[0mself\u001b[0m\u001b[0;34m.\u001b[0m\u001b[0murlopen\u001b[0m\u001b[0;34m(\u001b[0m\u001b[0mmethod\u001b[0m\u001b[0;34m,\u001b[0m \u001b[0murl\u001b[0m\u001b[0;34m,\u001b[0m \u001b[0;34m**\u001b[0m\u001b[0mextra_kw\u001b[0m\u001b[0;34m)\u001b[0m\u001b[0;34m\u001b[0m\u001b[0;34m\u001b[0m\u001b[0m\n\u001b[0m",
      "\u001b[0;32m/Library/Frameworks/Python.framework/Versions/3.8/lib/python3.8/site-packages/urllib3/poolmanager.py\u001b[0m in \u001b[0;36murlopen\u001b[0;34m(self, method, url, redirect, **kw)\u001b[0m\n\u001b[1;32m    334\u001b[0m             \u001b[0mresponse\u001b[0m \u001b[0;34m=\u001b[0m \u001b[0mconn\u001b[0m\u001b[0;34m.\u001b[0m\u001b[0murlopen\u001b[0m\u001b[0;34m(\u001b[0m\u001b[0mmethod\u001b[0m\u001b[0;34m,\u001b[0m \u001b[0murl\u001b[0m\u001b[0;34m,\u001b[0m \u001b[0;34m**\u001b[0m\u001b[0mkw\u001b[0m\u001b[0;34m)\u001b[0m\u001b[0;34m\u001b[0m\u001b[0;34m\u001b[0m\u001b[0m\n\u001b[1;32m    335\u001b[0m         \u001b[0;32melse\u001b[0m\u001b[0;34m:\u001b[0m\u001b[0;34m\u001b[0m\u001b[0;34m\u001b[0m\u001b[0m\n\u001b[0;32m--> 336\u001b[0;31m             \u001b[0mresponse\u001b[0m \u001b[0;34m=\u001b[0m \u001b[0mconn\u001b[0m\u001b[0;34m.\u001b[0m\u001b[0murlopen\u001b[0m\u001b[0;34m(\u001b[0m\u001b[0mmethod\u001b[0m\u001b[0;34m,\u001b[0m \u001b[0mu\u001b[0m\u001b[0;34m.\u001b[0m\u001b[0mrequest_uri\u001b[0m\u001b[0;34m,\u001b[0m \u001b[0;34m**\u001b[0m\u001b[0mkw\u001b[0m\u001b[0;34m)\u001b[0m\u001b[0;34m\u001b[0m\u001b[0;34m\u001b[0m\u001b[0m\n\u001b[0m\u001b[1;32m    337\u001b[0m \u001b[0;34m\u001b[0m\u001b[0m\n\u001b[1;32m    338\u001b[0m         \u001b[0mredirect_location\u001b[0m \u001b[0;34m=\u001b[0m \u001b[0mredirect\u001b[0m \u001b[0;32mand\u001b[0m \u001b[0mresponse\u001b[0m\u001b[0;34m.\u001b[0m\u001b[0mget_redirect_location\u001b[0m\u001b[0;34m(\u001b[0m\u001b[0;34m)\u001b[0m\u001b[0;34m\u001b[0m\u001b[0;34m\u001b[0m\u001b[0m\n",
      "\u001b[0;32m/Library/Frameworks/Python.framework/Versions/3.8/lib/python3.8/site-packages/urllib3/connectionpool.py\u001b[0m in \u001b[0;36murlopen\u001b[0;34m(self, method, url, body, headers, retries, redirect, assert_same_host, timeout, pool_timeout, release_conn, chunked, body_pos, **response_kw)\u001b[0m\n\u001b[1;32m    752\u001b[0m                 \u001b[0;34m\"Retrying (%r) after connection broken by '%r': %s\"\u001b[0m\u001b[0;34m,\u001b[0m \u001b[0mretries\u001b[0m\u001b[0;34m,\u001b[0m \u001b[0merr\u001b[0m\u001b[0;34m,\u001b[0m \u001b[0murl\u001b[0m\u001b[0;34m\u001b[0m\u001b[0;34m\u001b[0m\u001b[0m\n\u001b[1;32m    753\u001b[0m             )\n\u001b[0;32m--> 754\u001b[0;31m             return self.urlopen(\n\u001b[0m\u001b[1;32m    755\u001b[0m                 \u001b[0mmethod\u001b[0m\u001b[0;34m,\u001b[0m\u001b[0;34m\u001b[0m\u001b[0;34m\u001b[0m\u001b[0m\n\u001b[1;32m    756\u001b[0m                 \u001b[0murl\u001b[0m\u001b[0;34m,\u001b[0m\u001b[0;34m\u001b[0m\u001b[0;34m\u001b[0m\u001b[0m\n",
      "\u001b[0;32m/Library/Frameworks/Python.framework/Versions/3.8/lib/python3.8/site-packages/urllib3/connectionpool.py\u001b[0m in \u001b[0;36murlopen\u001b[0;34m(self, method, url, body, headers, retries, redirect, assert_same_host, timeout, pool_timeout, release_conn, chunked, body_pos, **response_kw)\u001b[0m\n\u001b[1;32m    752\u001b[0m                 \u001b[0;34m\"Retrying (%r) after connection broken by '%r': %s\"\u001b[0m\u001b[0;34m,\u001b[0m \u001b[0mretries\u001b[0m\u001b[0;34m,\u001b[0m \u001b[0merr\u001b[0m\u001b[0;34m,\u001b[0m \u001b[0murl\u001b[0m\u001b[0;34m\u001b[0m\u001b[0;34m\u001b[0m\u001b[0m\n\u001b[1;32m    753\u001b[0m             )\n\u001b[0;32m--> 754\u001b[0;31m             return self.urlopen(\n\u001b[0m\u001b[1;32m    755\u001b[0m                 \u001b[0mmethod\u001b[0m\u001b[0;34m,\u001b[0m\u001b[0;34m\u001b[0m\u001b[0;34m\u001b[0m\u001b[0m\n\u001b[1;32m    756\u001b[0m                 \u001b[0murl\u001b[0m\u001b[0;34m,\u001b[0m\u001b[0;34m\u001b[0m\u001b[0;34m\u001b[0m\u001b[0m\n",
      "\u001b[0;32m/Library/Frameworks/Python.framework/Versions/3.8/lib/python3.8/site-packages/urllib3/connectionpool.py\u001b[0m in \u001b[0;36murlopen\u001b[0;34m(self, method, url, body, headers, retries, redirect, assert_same_host, timeout, pool_timeout, release_conn, chunked, body_pos, **response_kw)\u001b[0m\n\u001b[1;32m    752\u001b[0m                 \u001b[0;34m\"Retrying (%r) after connection broken by '%r': %s\"\u001b[0m\u001b[0;34m,\u001b[0m \u001b[0mretries\u001b[0m\u001b[0;34m,\u001b[0m \u001b[0merr\u001b[0m\u001b[0;34m,\u001b[0m \u001b[0murl\u001b[0m\u001b[0;34m\u001b[0m\u001b[0;34m\u001b[0m\u001b[0m\n\u001b[1;32m    753\u001b[0m             )\n\u001b[0;32m--> 754\u001b[0;31m             return self.urlopen(\n\u001b[0m\u001b[1;32m    755\u001b[0m                 \u001b[0mmethod\u001b[0m\u001b[0;34m,\u001b[0m\u001b[0;34m\u001b[0m\u001b[0;34m\u001b[0m\u001b[0m\n\u001b[1;32m    756\u001b[0m                 \u001b[0murl\u001b[0m\u001b[0;34m,\u001b[0m\u001b[0;34m\u001b[0m\u001b[0;34m\u001b[0m\u001b[0m\n",
      "\u001b[0;32m/Library/Frameworks/Python.framework/Versions/3.8/lib/python3.8/site-packages/urllib3/connectionpool.py\u001b[0m in \u001b[0;36murlopen\u001b[0;34m(self, method, url, body, headers, retries, redirect, assert_same_host, timeout, pool_timeout, release_conn, chunked, body_pos, **response_kw)\u001b[0m\n\u001b[1;32m    724\u001b[0m                 \u001b[0me\u001b[0m \u001b[0;34m=\u001b[0m \u001b[0mProtocolError\u001b[0m\u001b[0;34m(\u001b[0m\u001b[0;34m\"Connection aborted.\"\u001b[0m\u001b[0;34m,\u001b[0m \u001b[0me\u001b[0m\u001b[0;34m)\u001b[0m\u001b[0;34m\u001b[0m\u001b[0;34m\u001b[0m\u001b[0m\n\u001b[1;32m    725\u001b[0m \u001b[0;34m\u001b[0m\u001b[0m\n\u001b[0;32m--> 726\u001b[0;31m             retries = retries.increment(\n\u001b[0m\u001b[1;32m    727\u001b[0m                 \u001b[0mmethod\u001b[0m\u001b[0;34m,\u001b[0m \u001b[0murl\u001b[0m\u001b[0;34m,\u001b[0m \u001b[0merror\u001b[0m\u001b[0;34m=\u001b[0m\u001b[0me\u001b[0m\u001b[0;34m,\u001b[0m \u001b[0m_pool\u001b[0m\u001b[0;34m=\u001b[0m\u001b[0mself\u001b[0m\u001b[0;34m,\u001b[0m \u001b[0m_stacktrace\u001b[0m\u001b[0;34m=\u001b[0m\u001b[0msys\u001b[0m\u001b[0;34m.\u001b[0m\u001b[0mexc_info\u001b[0m\u001b[0;34m(\u001b[0m\u001b[0;34m)\u001b[0m\u001b[0;34m[\u001b[0m\u001b[0;36m2\u001b[0m\u001b[0;34m]\u001b[0m\u001b[0;34m\u001b[0m\u001b[0;34m\u001b[0m\u001b[0m\n\u001b[1;32m    728\u001b[0m             )\n",
      "\u001b[0;32m/Library/Frameworks/Python.framework/Versions/3.8/lib/python3.8/site-packages/urllib3/util/retry.py\u001b[0m in \u001b[0;36mincrement\u001b[0;34m(self, method, url, response, error, _pool, _stacktrace)\u001b[0m\n\u001b[1;32m    437\u001b[0m \u001b[0;34m\u001b[0m\u001b[0m\n\u001b[1;32m    438\u001b[0m         \u001b[0;32mif\u001b[0m \u001b[0mnew_retry\u001b[0m\u001b[0;34m.\u001b[0m\u001b[0mis_exhausted\u001b[0m\u001b[0;34m(\u001b[0m\u001b[0;34m)\u001b[0m\u001b[0;34m:\u001b[0m\u001b[0;34m\u001b[0m\u001b[0;34m\u001b[0m\u001b[0m\n\u001b[0;32m--> 439\u001b[0;31m             \u001b[0;32mraise\u001b[0m \u001b[0mMaxRetryError\u001b[0m\u001b[0;34m(\u001b[0m\u001b[0m_pool\u001b[0m\u001b[0;34m,\u001b[0m \u001b[0murl\u001b[0m\u001b[0;34m,\u001b[0m \u001b[0merror\u001b[0m \u001b[0;32mor\u001b[0m \u001b[0mResponseError\u001b[0m\u001b[0;34m(\u001b[0m\u001b[0mcause\u001b[0m\u001b[0;34m)\u001b[0m\u001b[0;34m)\u001b[0m\u001b[0;34m\u001b[0m\u001b[0;34m\u001b[0m\u001b[0m\n\u001b[0m\u001b[1;32m    440\u001b[0m \u001b[0;34m\u001b[0m\u001b[0m\n\u001b[1;32m    441\u001b[0m         \u001b[0mlog\u001b[0m\u001b[0;34m.\u001b[0m\u001b[0mdebug\u001b[0m\u001b[0;34m(\u001b[0m\u001b[0;34m\"Incremented Retry for (url='%s'): %r\"\u001b[0m\u001b[0;34m,\u001b[0m \u001b[0murl\u001b[0m\u001b[0;34m,\u001b[0m \u001b[0mnew_retry\u001b[0m\u001b[0;34m)\u001b[0m\u001b[0;34m\u001b[0m\u001b[0;34m\u001b[0m\u001b[0m\n",
      "\u001b[0;31mMaxRetryError\u001b[0m: HTTPConnectionPool(host='127.0.0.1', port=58461): Max retries exceeded with url: /session/96fa17deb16ea1345fd7dfb1120c1541/element (Caused by NewConnectionError('<urllib3.connection.HTTPConnection object at 0x1130f4070>: Failed to establish a new connection: [Errno 61] Connection refused'))"
     ]
    }
   ],
   "source": [
    "   results = driver.find_element_by_xpath(\"//*[@id='tPp488556-136313-136314']/div/section[1]/div[2]/a\")"
   ]
  },
  {
   "cell_type": "code",
   "execution_count": null,
   "metadata": {},
   "outputs": [],
   "source": [
    "Product list XPATH \n",
    "//*[@id=\"tSr\"]\n",
    "\n",
    "//*[@id=\"tSr\"]/div/div[1]\n",
    "\n",
    "product 1\n",
    "\"//*[@id='tPp488556-136313-136314']/div/section[1]/div[2]/a\"\n",
    "\n",
    "\n",
    "/html/body/div[2]/div/div/main/div/div[3]/div[2]/div/div[1]/article[1]/div/section[1]/div[2]/a\n",
    "\n",
    "//*[@id=\"tPp826547-234253-234254\"]/div/section[1]/div[2]/a\n",
    "full XPATH\n",
    "#tPp488556-136313-136314 > div > section.details___1fZBF > div.image___1aDKB > a\n",
    "\n",
    "/html/body/div[2]/div/div/main/div/div[3]/div[2]/div/div[1]/article[2]/div/section[1]/div[2]/a\n",
    "\n",
    "Click Load more\n",
    "Load more Xpath //*[@id=\"tSr\"]/div/div[2]/button\n",
    "Category \n",
    "//*[@id=\"subcategoryList\"]/li[2]/a/span\n",
    "Sub category //*[@id=\"subcategoryList\"]/li[1]/a/span\n",
    "\n",
    "//*[@id=\"subcategoryList\"]/li[1]/a/span\n",
    "\n",
    "href link ffor fresh meat //*[@id=\"subcategoryList\"]/li[1]/a\n",
    "\n",
    "\n",
    "\n",
    "\n",
    "\n",
    "\n"
   ]
  },
  {
   "cell_type": "code",
   "execution_count": 197,
   "metadata": {},
   "outputs": [],
   "source": [
    "#instantiate a driver\n",
    "driver = webdriver.Chrome('chrome_driver/chromedriver') \n",
    "URL = \"https://www.waitrose.com/ecom/shop/browse/groceries\"\n",
    "driver.get(URL)\n",
    "\n"
   ]
  },
  {
   "cell_type": "code",
   "execution_count": 303,
   "metadata": {},
   "outputs": [],
   "source": [
    "from selenium.webdriver.common.by import By"
   ]
  },
  {
   "source": [
    "# Final code for project 1 - Scraping Nutritional Values of Food Products\n",
    "## Functions include:\n",
    "        F-1 categories\n",
    "        F-2 get_subcategories\n",
    "        F-3 get_level_3_categories_works\n",
    "        F-4 find_products_links_for_all_articles_in_each_page_works()\n",
    "        F-5 get_product_data \n",
    "        F-6 get_ingredients\n",
    "        F-7 get_nutrition_waitrose\n",
    "        F-8 get_nutrition_typical"
   ],
   "cell_type": "markdown",
   "metadata": {}
  },
  {
   "cell_type": "code",
   "execution_count": 163,
   "metadata": {},
   "outputs": [
    {
     "output_type": "stream",
     "name": "stdout",
     "text": [
      "9519420\n"
     ]
    }
   ],
   "source": [
    "#getting all the subcategories and sub-subcategories\n",
    "def categories():\n",
    "    '''\n",
    "    defining category levels\n",
    "    '''\n",
    "    categories = level1_cat\n",
    "    subcategories = level2_cat\n",
    "    sub_subcategories = level3_cat\n",
    "\n",
    "categories = ['fresh_and_chilled', 'bakery', 'frozen','food_cupboard']\n",
    "subcategoryDict = {'fresh_and_chilled': [] , 'bakery' : [], 'frozen' : [], 'food_cupboard' :[] }\n",
    " #for item, xpath in XPATH_prod_data.items():\n",
    "#create empty lists\n",
    "fresh_and_chilled = []\n",
    "bakery = []\n",
    "frozen = []\n",
    "food_cupboard =[]\n",
    "#loop through four items in categories list\n",
    "def get_subcategories():\n",
    "    '''\n",
    "    This function gets all the links to the subcategory items and append them in a dictionery\n",
    "    '''\n",
    "    for category in categories:\n",
    "        driver.get(f'https://www.waitrose.com/ecom/shop/browse/groceries/{category}')\n",
    "        #for clicking 'Show all button\n",
    "        driver.find_elements_by_xpath(\"//*[@id='main']/div[3]/header/div[4]/nav/div/div/div/div/div[2]/div/div/button\")\n",
    "        #driver.find_element(By.XPATH, '//button[text()=\"Show all\"]')\n",
    "\n",
    "        element = driver.find_elements_by_xpath(\"//*[@id='subcategoryList']/li/a\")\n",
    "        for elem in element:\n",
    "            result = elem.get_attribute(\"href\")\n",
    "            if category == 'fresh_and_chilled':\n",
    "                subcategoryDict['fresh_and_chilled'].append(result) \n",
    "                fresh_and_chilled.append(result) \n",
    "            elif category == 'bakery' :\n",
    "                subcategoryDict['bakery'].append(result) \n",
    "                bakery.append(result) \n",
    "            elif category == 'frozen':\n",
    "                subcategoryDict['frozen'].append(result) \n",
    "                frozen.append(result) \n",
    "            else:\n",
    "                subcategoryDict['food_cupboard'].append(result) \n",
    "                food_cupboard.append(result)  \n",
    "        for key in subcategoryDict:\n",
    "           for item in subcategoryDict[key]:\n",
    "               driver.get(item)\n",
    "\n",
    "    return subcategoryDict\n",
    "#go to each items in the subcategories under the categories and get the subcategories \n",
    "\n",
    "get_subcategories()\n",
    "\n",
    "\n",
    "def get_level_3_categories_works():\n",
    "    level2_cat_links = []\n",
    "    level3_cat_links = []\n",
    "    for key in subcategoryDict:\n",
    "        for item in subcategoryDict[key]:\n",
    "            level2_cat_links.append(item)\n",
    "            print(level2_cat_links[:5])\n",
    "    for i in level2_cat_links:\n",
    "        driver.get(i)\n",
    "        sleep(1)\n",
    "        level3_cat_elements = driver.find_elements_by_xpath(\"//*[@id='subcategoryList']/li/a\") #to get all the items just use \"li\" instead of li[1], li[2] etc\n",
    "        for elem in level3_cat_elements:\n",
    "            level3_cat_product_links = elem.get_attribute(\"href\")\n",
    "            level3_cat_links.append(level3_cat_product_links)\n",
    "    return level3_cat_links\n",
    "all_product_links = []\n",
    "all_product_links_1 = []\n",
    "\n",
    "def find_products_links_for_all_articles_in_each_page():\n",
    "\n",
    "    '''\n",
    "    This function finds all the links to the product items in the level3_cat_links and save them as products_list \n",
    "    '''\n",
    "    \n",
    "    for i in level3_cat_links:\n",
    "        driver.get(i)\n",
    "        sleep(1)\n",
    "        product_elem = driver.find_elements_by_css_selector(\"article section a\")\n",
    "        # print(product_elem)        \n",
    "        for elem in product_elem:\n",
    "            _product_links = elem.get_attribute('href')\n",
    "            all_product_links.append(_product_links)\n",
    "#checks if the links are actually product links\n",
    "        for i in all_product_links:\n",
    "            #check startswith https://www.programiz.com/python-programming/methods/string/startswith\n",
    "            if i.startswith(\"https://www.waitrose.com/ecom/products/\"):\n",
    "                all_product_links_1.append(i)\n",
    "            else:\n",
    "                pass\n",
    "\n",
    "    return all_product_links, all_product_links_1\n",
    "    \n",
    "find_products_links_for_all_articles_in_each_page()\n",
    "print(len(all_product_links_1))\n",
    "    \n",
    "      "
   ]
  },
  {
   "cell_type": "code",
   "execution_count": 263,
   "metadata": {},
   "outputs": [
    {
     "output_type": "execute_result",
     "data": {
      "text/plain": [
       "(6673, 1)"
      ]
     },
     "metadata": {},
     "execution_count": 263
    }
   ],
   "source": [
    "df_all_p = pd.DataFrame(all_product_links_1)\n",
    "# check if theres any duplicate\n",
    "df_all_p_removeduplicate1 = df_all_p.drop_duplicates()\n",
    "df_all_p_removeduplicate1.shape"
   ]
  },
  {
   "source": [
    "## Get all product links from a page method 2"
   ],
   "cell_type": "markdown",
   "metadata": {}
  },
  {
   "cell_type": "code",
   "execution_count": 248,
   "metadata": {
    "tags": [
     "outputPrepend"
    ]
   },
   "outputs": [
    {
     "output_type": "stream",
     "name": "stdout",
     "text": [
      "ww.waitrose.com/ecom/products/belazu-verdemanda/800896-690486-690487\n",
      "https://www.waitrose.com/ecom/products/osu-apple-cider-vinegar-blueberry-pomegranate/611349-745167-745168\n",
      "https://www.waitrose.com/ecom/products/belazu-134-balsamic-vinegar-of-modena/078744-40089-40090\n",
      "https://www.waitrose.com/ecom/products/filippo-berio-extra-virgin-olive-oil/568907-721264-721265\n",
      "https://www.waitrose.com/ecom/products/waitrose-100-spanish-extra-virgin-olive-oil/050795-25267-25268\n",
      "https://www.waitrose.com/ecom/products/gaea-planet-organic-extra-virgin-olive-oil/554417-745063-745064\n",
      "https://www.waitrose.com/ecom/products/cooks-ingredients-japanese-vinegar/443510-672269-672270\n",
      "https://www.waitrose.com/ecom/products/leckford-estate-rapeseed-oil/639929-381244-381245\n",
      "https://www.waitrose.com/ecom/products/waitrose-basil-infused-olive-oil/025065-12148-12149\n",
      "https://www.waitrose.com/ecom/products/farchioni-extra-virgin-olive-oil/811085-690516-690517\n",
      "https://www.waitrose.com/ecom/products/waitrose-grapeseed-oil/034188-17125-17126\n",
      "https://www.waitrose.com/ecom/products/the-groovy-food-co-extra-virgin-olive-oil-cooking-spray/463524-744933-744934\n",
      "https://www.waitrose.com/ecom/products/waitrose-balsamic-vinegar-of-modena/047873-23707-23708\n",
      "https://www.waitrose.com/ecom/products/cooks-ingredients-drizzle-of-truffle/440497-672265-672266\n",
      "https://www.waitrose.com/ecom/products/filippo-berio-extra-virgin-olive-oil/037681-18815-18816\n",
      "https://www.waitrose.com/ecom/products/the-groovy-food-co-sunflower-oil-cooking-spray/610071-745161-745162\n",
      "https://www.waitrose.com/ecom/products/la-espanola-truffle-olive-oil/453574-662498-662499\n",
      "https://www.waitrose.com/ecom/products/filippo-berio-classico-olive-oil/505668-721189-721190\n",
      "https://www.waitrose.com/ecom/products/filippo-berio-classic-olive-oil/086349-44088-44089\n",
      "https://www.waitrose.com/ecom/products/farringtons-mellow-yellow-oak-smoked-rapeseed-oil/852855-745585-745586\n",
      "https://www.waitrose.com/ecom/products/mazzetti-balsamic-vinegar-of-modena-medium/683395-693076-693077\n",
      "https://www.waitrose.com/ecom/products/filippo-berio-classic-olive-oil/810559-294171-294172\n",
      "https://www.waitrose.com/ecom/products/waitrose-wok-oil/011606-5760-5761\n",
      "https://www.waitrose.com/ecom/products/belazu-early-harvest-extra-virgin-olive-oil/590516-203260-203261\n",
      "https://www.waitrose.com/ecom/products/good-hemp-oil/065520-33203-33204\n",
      "https://www.waitrose.com/ecom/products/heinz-tomato-ketchup/074234-37688-37689\n",
      "https://www.waitrose.com/ecom/products/heinz-tomato-ketchup-50-less-sugar-salt/449968-572253-572254\n",
      "https://www.waitrose.com/ecom/products/stokes-real-tomato-ketchup/656539-93213-93214\n",
      "https://www.waitrose.com/ecom/products/essential-tomato-ketchup/097580-49819-49820\n",
      "https://www.waitrose.com/ecom/products/geo-watkins-mushroom-ketchup/006347-2824-2825\n",
      "https://www.waitrose.com/ecom/products/heinz-tomato-ketchup/540795-728224-728225\n",
      "https://www.waitrose.com/ecom/products/heinz-tomato-ketchup/034605-17397-17398\n",
      "https://www.waitrose.com/ecom/products/wilkin-sons-tiptree-tomato-sauce/041312-20448-20449\n",
      "https://www.waitrose.com/ecom/products/heinz-tomato-ketchup/080059-40725-40726\n",
      "https://www.waitrose.com/ecom/products/rubies-tomato-ketchup/721938-730814-730815\n",
      "https://www.waitrose.com/ecom/products/dr-wills-tomato-ketchup/553940-728238-728239\n",
      "https://www.waitrose.com/ecom/products/heinz-no-added-sugar-tomato-ketchup/882955-663310-663311\n",
      "https://www.waitrose.com/ecom/products/mr-organic-italian-ketchup/815695-580236-580237\n",
      "https://www.waitrose.com/ecom/products/stokes-bloody-mary-ketchup/663256-743872-743873\n",
      "https://www.waitrose.com/ecom/products/essential-reduced-sugar-salt-ketchup/541857-723772-723773\n",
      "https://www.waitrose.com/ecom/products/heinz-tomato-ketchup/417920-726945-726946\n",
      "https://www.waitrose.com/ecom/products/heinz-50-less-sugar-salt-tomato-ketchup/484959-727066-727067\n",
      "https://www.waitrose.com/ecom/products/heinz-tomato-ketchup-50-less-sugar-salt/695355-743888-743889\n",
      "https://www.waitrose.com/ecom/products/tanyas-just-real-fiery-fiasco-sauce/821893-729328-729329\n",
      "https://www.waitrose.com/ecom/products/hp-original-sauce/794375-133446-133447\n",
      "https://www.waitrose.com/ecom/products/hp-original-sauce/034613-17403-17404\n",
      "https://www.waitrose.com/ecom/products/stokes-real-brown-sauce/637369-90502-90503\n",
      "https://www.waitrose.com/ecom/products/essential-squeezy-brown-sauce/026930-13101-13102\n",
      "https://www.waitrose.com/ecom/products/hp-original-sauce/574132-343140-343141\n",
      "https://www.waitrose.com/ecom/products/hp-sauce-reduced-salt-sugar/375754-52906-52907\n",
      "https://www.waitrose.com/ecom/products/hp-original-sauce/073552-37312-37313\n",
      "clicked once\n",
      "https://www.waitrose.com/ecom/products/heinz-seriously-good-light-mayonnaise/452583-496248-496249\n",
      "https://www.waitrose.com/ecom/products/hellmanns-light-mayonnaise/034547-17363-17364\n",
      "https://www.waitrose.com/ecom/products/hellmanns-real-mayonnaise/034533-17339-17340\n",
      "https://www.waitrose.com/ecom/products/hellmanns-real-mayonnaise/698415-99147-99148\n",
      "https://www.waitrose.com/ecom/products/stokes-real-mayonnaise/537388-75990-75991\n",
      "https://www.waitrose.com/ecom/products/essential-mayonnaise/034538-17345-17346\n",
      "https://www.waitrose.com/ecom/products/hellmanns-real-mayonnaise/393918-55355-55356\n",
      "https://www.waitrose.com/ecom/products/yo-creamy-coconut-katsu-curry-sauce/887523-741550-741551\n",
      "https://www.waitrose.com/ecom/products/hellmanns-light-mayonnaise/633714-90001-90002\n",
      "https://www.waitrose.com/ecom/products/stokes-garlic-mayonnaise/469422-319856-319857\n",
      "https://www.waitrose.com/ecom/products/duchy-organic-mayonnaise/023669-11478-11479\n",
      "https://www.waitrose.com/ecom/products/hellmanns-real-mayonnaise/456563-64324-64325\n",
      "https://www.waitrose.com/ecom/products/essential-half-fat-mayonnaise/034543-17355-17356\n",
      "https://www.waitrose.com/ecom/products/nandos-perinaise-mild/884374-589661-589662\n",
      "https://www.waitrose.com/ecom/products/hellmanns-vegan-mayo/618746-697880-697881\n",
      "https://www.waitrose.com/ecom/products/heinz-seriously-good-mayonnaise/500689-496306-496307\n",
      "https://www.waitrose.com/ecom/products/hellmanns-light-mayonnaise/034546-17361-17362\n",
      "https://www.waitrose.com/ecom/products/essential-mayonnaise/034539-17347-17348\n",
      "https://www.waitrose.com/ecom/products/yo-creamy-japanese-mayo/790024-703309-703310\n",
      "https://www.waitrose.com/ecom/products/heinz-sandwich-spread/004668-1999-2000\n",
      "https://www.waitrose.com/ecom/products/hellmanns-light-mayonnaise/788061-112173-112174\n",
      "https://www.waitrose.com/ecom/products/waitrose-mayonnaise-with-olive-oil/655320-203276-203277\n",
      "https://www.waitrose.com/ecom/products/dr-wills-classic-mayonnaise/732849-735880-735881\n",
      "https://www.waitrose.com/ecom/products/hellmanns-real-mayonnaise/861242-343692-343693\n",
      "https://www.waitrose.com/ecom/products/yo-spicy-sriracha-chilli-mayo/413467-702427-702428\n",
      "https://www.waitrose.com/ecom/products/yo-spicy-sriracha-chilli-mayo/413467-702427-702428\n",
      "https://www.waitrose.com/ecom/products/hellmanns-real-mayonnaise/034532-17337-17338\n",
      "https://www.waitrose.com/ecom/products/waitrose-garlic-mayonnaise/034541-17351-17352\n",
      "https://www.waitrose.com/ecom/products/waitrose-mayonnaise-with-olive-oil/570343-80786-80787\n",
      "https://www.waitrose.com/ecom/products/dr-wills-chilli-mayonnaise/642762-735830-735831\n",
      "https://www.waitrose.com/ecom/products/essential-mayonnaise/034537-17343-17344\n",
      "https://www.waitrose.com/ecom/products/hellmanns-light-mayonnaise/408456-342948-342949\n",
      "https://www.waitrose.com/ecom/products/rubies-vegan-plant-based-chilli-mayo/867966-728602-728603\n",
      "https://www.waitrose.com/ecom/products/waitrose-lemon-mayonnaise/034540-17349-17350\n",
      "https://www.waitrose.com/ecom/products/waitrose-mustard-mayonnaise/078545-40003-40004\n",
      "https://www.waitrose.com/ecom/products/delouis-mayonnaise/098140-50051-50052\n",
      "https://www.waitrose.com/ecom/products/essential-mayonnaise/785853-203310-203311\n",
      "https://www.waitrose.com/ecom/products/hellmanns-light-mayonnaise/538843-76222-76223\n",
      "https://www.waitrose.com/ecom/products/heinz-seriously-good-mayonnaise/686003-697896-697897\n",
      "https://www.waitrose.com/ecom/products/essential-half-fat-mayonnaise/034542-17353-17354\n",
      "https://www.waitrose.com/ecom/products/rubies-vegan-plant-based-mayo/698617-728388-728389\n",
      "https://www.waitrose.com/ecom/products/delouis-sauce-aioli/551230-77935-77936\n",
      "https://www.waitrose.com/ecom/products/the-foraging-fox-avocado-lemon-mayo/863466-730962-730963\n",
      "https://www.waitrose.com/ecom/products/heinz-seriously-good-light-mayonnaise/640981-697884-697885\n",
      "https://www.waitrose.com/ecom/products/hellmanns-lighter-light-mayonnaise/085829-43780-43781\n",
      "https://www.waitrose.com/ecom/products/essential-half-fat-mayonnaise/382718-203212-203213\n",
      "https://www.waitrose.com/ecom/products/hellmanns-garlic-mayonnaise/664146-94289-94290\n",
      "https://www.waitrose.com/ecom/products/hellmanns-vegan-mayo/834401-724117-724118\n",
      "https://www.waitrose.com/ecom/products/heinz-seriously-good-truffle-mayonnaise/756633-743949-743950\n",
      "https://www.waitrose.com/ecom/products/hellmanns-light-mayonnaise/034545-17359-17360\n",
      "https://www.waitrose.com/ecom/products/marine-gourmet-french-rouille/575587-81540-81541\n",
      "https://www.waitrose.com/ecom/products/heinz-garlic-onion-mayonnaise/724966-743912-743913\n",
      "https://www.waitrose.com/ecom/products/hellmanns-lighter-mayonnaise/402985-56699-56700\n",
      "https://www.waitrose.com/ecom/products/mr-organic-vegan-free-from-mayo/886536-601016-601017\n",
      "https://www.waitrose.com/ecom/products/tiptree-mayonnaise/881269-628520-628521\n",
      "https://www.waitrose.com/ecom/products/hellmanns-chilli-mayonnaise/868774-353959-353960\n",
      "https://www.waitrose.com/ecom/products/hellmanns-mayonnaise/781262-697912-697913\n",
      "https://www.waitrose.com/ecom/products/hillfarm-garlic-mayonnaise/436911-132346-132347\n",
      "https://www.waitrose.com/ecom/products/heinz-salad-cream-original/575684-408626-408627\n",
      "https://www.waitrose.com/ecom/products/pizza-express-house-dressing/006264-2774-2775\n",
      "https://www.waitrose.com/ecom/products/pizza-express-light-dressing/099352-50682-50683\n",
      "https://www.waitrose.com/ecom/products/waitrose-glaze-balsamic-vinegar/052395-26115-26116\n",
      "https://www.waitrose.com/ecom/products/farringtons-classic-vinaigrette/385733-54255-54256\n",
      "https://www.waitrose.com/ecom/products/pizza-express-caesar-dressing/378793-53318-53319\n",
      "https://www.waitrose.com/ecom/products/essential-squeezy-salad-cream/064630-32802-32803\n",
      "https://www.waitrose.com/ecom/products/essential-french-dressing/034569-17375-17376\n",
      "https://www.waitrose.com/ecom/products/waitrose-honey-mustard-dressing/694939-98669-98670\n",
      "https://www.waitrose.com/ecom/products/heinz-salad-cream-30-less-fat/507610-408576-408577\n",
      "https://www.waitrose.com/ecom/products/lucys-original-french-dressing/424175-589035-589036\n",
      "https://www.waitrose.com/ecom/products/lucys-lime-chilli-asian-dressing/793001-589513-589514\n",
      "https://www.waitrose.com/ecom/products/pizza-express-vegan-house-light-dressing/462267-711084-711085\n",
      "https://www.waitrose.com/ecom/products/farringtons-honey-mustard-dressing/744200-105794-105795\n",
      "https://www.waitrose.com/ecom/products/heinz-salad-cream-70-reduced-fat/691651-408754-408755\n",
      "https://www.waitrose.com/ecom/products/pizza-express-honey-mustard-dressing/370768-52126-52127\n",
      "https://www.waitrose.com/ecom/products/heinz-salad-cream/034504-17331-17332\n",
      "https://www.waitrose.com/ecom/products/cardinis-caesar-original-dressing/034585-17387-17388\n",
      "https://www.waitrose.com/ecom/products/farrington-balsamic-vinegar-dressing/412992-135333-135334\n",
      "https://www.waitrose.com/ecom/products/mary-berrys-light-salad-dressing/780789-140578-140579\n",
      "https://www.waitrose.com/ecom/products/waitrose-italian-dressing/527376-74550-74551\n",
      "https://www.waitrose.com/ecom/products/newmans-own-italian-dressing/034562-17369-17370\n",
      "https://www.waitrose.com/ecom/products/newmans-own-french-dressing/793987-275704-275705\n",
      "https://www.waitrose.com/ecom/products/waitrose-blue-cheese-dressing/732177-104019-104020\n",
      "https://www.waitrose.com/ecom/products/lucys-green-pesto-dressing/586470-696560-696561\n",
      "https://www.waitrose.com/ecom/products/essential-thousand-island/034571-17379-17380\n",
      "https://www.waitrose.com/ecom/products/essential-low-fat-vinaigrette/014460-6944-6945\n",
      "https://www.waitrose.com/ecom/products/heinz-salad-cream-30-less-fat/772214-724026-724027\n",
      "https://www.waitrose.com/ecom/products/newmans-own-balsamic-dressing/078240-39827-39828\n",
      "https://www.waitrose.com/ecom/products/briannas-honey-mustard/031076-15165-15166\n",
      "https://www.waitrose.com/ecom/products/waitrose-caesar-dressing/738092-104924-104925\n",
      "https://www.waitrose.com/ecom/products/mary-berrys-salad-dressing/035557-17896-17897\n",
      "https://www.waitrose.com/ecom/products/hellmanns-fat-free-vinaigrette/832189-727751-727752\n",
      "https://www.waitrose.com/ecom/products/briannas-blue-cheese-dressing/010746-5344-5345\n",
      "https://www.waitrose.com/ecom/products/mary-berrys-mango-dressing/784953-666738-666739\n",
      "https://www.waitrose.com/ecom/products/cardinis-light-caesar-dressing/054077-27127-27128\n",
      "https://www.waitrose.com/ecom/products/newmans-own-ranch-dressing-dip/738187-724002-724003\n",
      "https://www.waitrose.com/ecom/products/hellmanns-honey-mustard-dressing/516932-662604-662605\n",
      "https://www.waitrose.com/ecom/products/mary-berrys-honey-balsamic-vinaigrette/801981-606796-606797\n",
      "https://www.waitrose.com/ecom/products/hellmanns-thousand-island/540523-662638-662639\n",
      "https://www.waitrose.com/ecom/products/hellmanns-fat-free-garlic-chive/721516-728416-728417\n",
      "https://www.waitrose.com/ecom/products/nandos-medium-peri-peri-sauce/402236-261097-261098\n",
      "https://www.waitrose.com/ecom/products/dr-wills-barbecue-sauce/624190-743836-743837\n",
      "https://www.waitrose.com/ecom/products/nandos-medium-peri-peri-marinade/828601-203344-203345\n",
      "https://www.waitrose.com/ecom/products/hp-bbq-sauce-classic-woodsmoke/563632-132722-132723\n",
      "https://www.waitrose.com/ecom/products/nandos-lemon-peri-peri-marinade/392894-261091-261092\n",
      "https://www.waitrose.com/ecom/products/nandos-hot-peri-peri-marinade/633659-89997-89998\n",
      "https://www.waitrose.com/ecom/products/yo-sticky-bbq-yakitori/663731-703044-703045\n",
      "https://www.waitrose.com/ecom/products/heinz-barbecue-sauce-marinade/475991-187369-187370\n",
      "https://www.waitrose.com/ecom/products/hp-honey-bbq-sauce/518020-142452-142453\n",
      "https://www.waitrose.com/ecom/products/hellmanns-fat-free-vinaigrette/832189-727751-727752\n",
      "https://www.waitrose.com/ecom/products/heinz-american-style-burger-sauce/707131-723962-723963\n",
      "https://www.waitrose.com/ecom/products/levi-roots-reggae-reggae-jerk-bbq/635163-90205-90206\n",
      "https://www.waitrose.com/ecom/products/newmans-own-sticky-bbq-marinade/429766-60457-60458\n",
      "https://www.waitrose.com/ecom/products/bullseye-original-bbq-sauce/889507-663328-663329\n",
      "https://www.waitrose.com/ecom/products/hellmanns-chunky-burger-sauce/570811-506206-506207\n",
      "https://www.waitrose.com/ecom/products/jack-daniels-smokey-barbecue/493640-506176-506177\n",
      "https://www.waitrose.com/ecom/products/stubbs-original-bar-b-q-sauce/513926-426895-426896\n",
      "https://www.waitrose.com/ecom/products/bulls-eye-roasted-onion-bbq-sauce/581280-728268-728269\n",
      "https://www.waitrose.com/ecom/products/nandos-peri-peri-hot/630654-727372-727373\n",
      "https://www.waitrose.com/ecom/products/nandos-peri-peri-medium/432023-726973-726974\n",
      "https://www.waitrose.com/ecom/products/stubbs-hickory-liquid-smoke/840279-506314-506315\n",
      "https://www.waitrose.com/ecom/products/stubbs-sticky-sweet-bar-b-q-sauce/815206-427033-427034\n",
      "https://www.waitrose.com/ecom/products/blue-dragon-sweet-chilli-sauce/093262-47912-47913\n",
      "https://www.waitrose.com/ecom/products/tabasco-pepper-sauce/034686-17469-17470\n",
      "https://www.waitrose.com/ecom/products/thai-taste-sweet-chilli-sauce/833553-703460-703461\n",
      "https://www.waitrose.com/ecom/products/uni-eagle-sriracha-hot-chilli-sauce/621464-723868-723869\n",
      "https://www.waitrose.com/ecom/products/blue-dragon-light-sweet-chilli-sauce/595562-506212-506213\n",
      "https://www.waitrose.com/ecom/products/tabasco-mild-green-pepper-sauce/686472-97511-97512\n",
      "https://www.waitrose.com/ecom/products/blue-dragon-original-sweet-chilli-sauce/806501-741410-741411\n",
      "https://www.waitrose.com/ecom/products/yo-hot-spicy-katsu-curry-sauce/774343-741360-741361\n",
      "https://www.waitrose.com/ecom/products/encona-hot-pepper-sauce/478824-506160-506161\n",
      "https://www.waitrose.com/ecom/products/cooks-ingredients-sweet-chilli-sauce/768133-109265-109266\n",
      "https://www.waitrose.com/ecom/products/tabasco-sriracha/620952-711162-711163\n",
      "https://www.waitrose.com/ecom/products/encona-thai-sweet-chilli-sauce/480765-506162-506163\n",
      "https://www.waitrose.com/ecom/products/tabasco-habanero-sauce/082141-41787-41788\n",
      "https://www.waitrose.com/ecom/products/nandos-hot-peri-peri-sauce/035756-17978-17979\n",
      "https://www.waitrose.com/ecom/products/tabasco-chipotle-pepper-sauce/419369-58981-58982\n",
      "https://www.waitrose.com/ecom/products/nandos-lemon-peri-peri-sauce/828687-261354-261355\n",
      "https://www.waitrose.com/ecom/products/cholula-hot-sauce-original/599303-84965-84966\n",
      "https://www.waitrose.com/ecom/products/nandos-garlic-peri-peri-sauce/715354-261262-261263\n",
      "https://www.waitrose.com/ecom/products/linghams-chilli-sauce/087766-44882-44883\n",
      "https://www.waitrose.com/ecom/products/encona-carolina-reaper-chilli-sauce/600058-662732-662733\n",
      "https://www.waitrose.com/ecom/products/encona-extra-hot-pepper-sauce/527588-506186-506187\n",
      "https://www.waitrose.com/ecom/products/franks-red-hot-original-sauce/547057-723780-723781\n",
      "https://www.waitrose.com/ecom/products/franks-redhot-buffalo-wings-sauce/495484-426887-426888\n",
      "https://www.waitrose.com/ecom/products/cholula-hot-sauce-chipotle/676025-426967-426968\n",
      "https://www.waitrose.com/ecom/products/heinz-sweet-chilli/650273-408700-408701\n",
      "https://www.waitrose.com/ecom/products/cooks-ingredients-sriracha/750809-672863-672864\n",
      "https://www.waitrose.com/ecom/products/franks-redhot-original-peppersauce/583123-82661-82662\n",
      "https://www.waitrose.com/ecom/products/nandos-peri-peri-hot/630654-727372-727373\n",
      "https://www.waitrose.com/ecom/products/franks-red-hot-chilli-lime-sauce/835621-728550-728551\n",
      "https://www.waitrose.com/ecom/products/waitrose-red-onion-chutney/858377-294295-294296\n",
      "https://www.waitrose.com/ecom/products/vadasz-garlic-dill-pickles/427621-707348-707349\n",
      "https://www.waitrose.com/ecom/products/essential-sweet-piccalilli/034285-17176-17177\n",
      "https://www.waitrose.com/ecom/products/essential-mustard-piccalilli/034281-17174-17175\n",
      "https://www.waitrose.com/ecom/products/stokes-sticky-pickle/424597-357158-357159\n",
      "https://www.waitrose.com/ecom/products/epc-caramelised-red-onion-chutney/887589-157611-157612\n",
      "https://www.waitrose.com/ecom/products/waitrose-tomato-chutney/690199-654219-654220\n",
      "https://www.waitrose.com/ecom/products/tracklements-fresh-chilli-jam/829028-633610-633611\n",
      "https://www.waitrose.com/ecom/products/waitrose-rhubarb-apple-ginger-chutney/756550-294105-294106\n",
      "https://www.waitrose.com/ecom/products/waitrose-ploughmans-pickle/546964-692896-692897\n",
      "https://www.waitrose.com/ecom/products/patum-peperium-anchovy-relish/023210-11279-11280\n",
      "https://www.waitrose.com/ecom/products/waitrose-piccalilli/824617-294203-294204\n",
      "https://www.waitrose.com/ecom/products/waitrose-piri-piri-chutney/510851-293889-293890\n",
      "https://www.waitrose.com/ecom/products/waitrose-onion-garlic-chutney/842948-294257-294258\n",
      "https://www.waitrose.com/ecom/products/tracklements-piccalilli/499988-70639-70640\n",
      "https://www.waitrose.com/ecom/products/tracklements-onion-marmalade/759455-108015-108016\n",
      "https://www.waitrose.com/ecom/products/the-bay-tree-piccalilli/691050-98137-98138\n",
      "https://www.waitrose.com/ecom/products/waitrose-duchy-beetroot-relish/720061-102339-102340\n",
      "https://www.waitrose.com/ecom/products/frenchs-jalapeno-tomato-relish/614812-187417-187418\n",
      "https://www.waitrose.com/ecom/products/tracklements-apple-cider-chutney/609039-683678-683679\n",
      "https://www.waitrose.com/ecom/products/gourmet-burger-house-relish/834578-728548-728549\n",
      "https://www.waitrose.com/ecom/products/tracklements-fig-relish/761218-108259-108260\n",
      "https://www.waitrose.com/ecom/products/patum-peperium-the-poachers-relish/864550-703599-703600\n",
      "https://www.waitrose.com/ecom/products/gourmet-burger-chilli-relish/849201-728572-728573\n",
      "https://www.waitrose.com/ecom/products/stokes-sticky-pickle/365043-51344-51345\n"
     ]
    },
    {
     "output_type": "error",
     "ename": "WebDriverException",
     "evalue": "Message: unknown error: session deleted because of page crash\nfrom unknown error: cannot determine loading status\nfrom tab crashed\n  (Session info: chrome=88.0.4324.96)\n",
     "traceback": [
      "\u001b[0;31m---------------------------------------------------------------------------\u001b[0m",
      "\u001b[0;31mWebDriverException\u001b[0m                        Traceback (most recent call last)",
      "\u001b[0;32m<ipython-input-248-d71af510cae5>\u001b[0m in \u001b[0;36m<module>\u001b[0;34m\u001b[0m\n\u001b[1;32m      3\u001b[0m \u001b[0;31m# driver.get('https://www.waitrose.com/ecom/shop/browse/groceries/fresh_and_chilled/fresh_meat/roasting_joints')\u001b[0m\u001b[0;34m\u001b[0m\u001b[0;34m\u001b[0m\u001b[0;34m\u001b[0m\u001b[0m\n\u001b[1;32m      4\u001b[0m \u001b[0;32mfor\u001b[0m \u001b[0mi\u001b[0m \u001b[0;32min\u001b[0m \u001b[0mlevel3_cat_links\u001b[0m\u001b[0;34m:\u001b[0m\u001b[0;34m\u001b[0m\u001b[0;34m\u001b[0m\u001b[0m\n\u001b[0;32m----> 5\u001b[0;31m     \u001b[0mdriver\u001b[0m\u001b[0;34m.\u001b[0m\u001b[0mget\u001b[0m\u001b[0;34m(\u001b[0m\u001b[0mi\u001b[0m\u001b[0;34m)\u001b[0m\u001b[0;34m\u001b[0m\u001b[0;34m\u001b[0m\u001b[0m\n\u001b[0m\u001b[1;32m      6\u001b[0m     \u001b[0;32mtry\u001b[0m\u001b[0;34m:\u001b[0m\u001b[0;34m\u001b[0m\u001b[0;34m\u001b[0m\u001b[0m\n\u001b[1;32m      7\u001b[0m         \u001b[0mdriver\u001b[0m\u001b[0;34m.\u001b[0m\u001b[0mfind_element_by_xpath\u001b[0m\u001b[0;34m(\u001b[0m\u001b[0;34m\"//*[@id='tSr']/div/div[2]/button\"\u001b[0m\u001b[0;34m)\u001b[0m\u001b[0;34m.\u001b[0m\u001b[0mclick\u001b[0m\u001b[0;34m(\u001b[0m\u001b[0;34m)\u001b[0m\u001b[0;34m\u001b[0m\u001b[0;34m\u001b[0m\u001b[0m\n",
      "\u001b[0;32m/Library/Frameworks/Python.framework/Versions/3.8/lib/python3.8/site-packages/selenium/webdriver/remote/webdriver.py\u001b[0m in \u001b[0;36mget\u001b[0;34m(self, url)\u001b[0m\n\u001b[1;32m    331\u001b[0m         \u001b[0mLoads\u001b[0m \u001b[0ma\u001b[0m \u001b[0mweb\u001b[0m \u001b[0mpage\u001b[0m \u001b[0;32min\u001b[0m \u001b[0mthe\u001b[0m \u001b[0mcurrent\u001b[0m \u001b[0mbrowser\u001b[0m \u001b[0msession\u001b[0m\u001b[0;34m.\u001b[0m\u001b[0;34m\u001b[0m\u001b[0;34m\u001b[0m\u001b[0m\n\u001b[1;32m    332\u001b[0m         \"\"\"\n\u001b[0;32m--> 333\u001b[0;31m         \u001b[0mself\u001b[0m\u001b[0;34m.\u001b[0m\u001b[0mexecute\u001b[0m\u001b[0;34m(\u001b[0m\u001b[0mCommand\u001b[0m\u001b[0;34m.\u001b[0m\u001b[0mGET\u001b[0m\u001b[0;34m,\u001b[0m \u001b[0;34m{\u001b[0m\u001b[0;34m'url'\u001b[0m\u001b[0;34m:\u001b[0m \u001b[0murl\u001b[0m\u001b[0;34m}\u001b[0m\u001b[0;34m)\u001b[0m\u001b[0;34m\u001b[0m\u001b[0;34m\u001b[0m\u001b[0m\n\u001b[0m\u001b[1;32m    334\u001b[0m \u001b[0;34m\u001b[0m\u001b[0m\n\u001b[1;32m    335\u001b[0m     \u001b[0;34m@\u001b[0m\u001b[0mproperty\u001b[0m\u001b[0;34m\u001b[0m\u001b[0;34m\u001b[0m\u001b[0m\n",
      "\u001b[0;32m/Library/Frameworks/Python.framework/Versions/3.8/lib/python3.8/site-packages/selenium/webdriver/remote/webdriver.py\u001b[0m in \u001b[0;36mexecute\u001b[0;34m(self, driver_command, params)\u001b[0m\n\u001b[1;32m    319\u001b[0m         \u001b[0mresponse\u001b[0m \u001b[0;34m=\u001b[0m \u001b[0mself\u001b[0m\u001b[0;34m.\u001b[0m\u001b[0mcommand_executor\u001b[0m\u001b[0;34m.\u001b[0m\u001b[0mexecute\u001b[0m\u001b[0;34m(\u001b[0m\u001b[0mdriver_command\u001b[0m\u001b[0;34m,\u001b[0m \u001b[0mparams\u001b[0m\u001b[0;34m)\u001b[0m\u001b[0;34m\u001b[0m\u001b[0;34m\u001b[0m\u001b[0m\n\u001b[1;32m    320\u001b[0m         \u001b[0;32mif\u001b[0m \u001b[0mresponse\u001b[0m\u001b[0;34m:\u001b[0m\u001b[0;34m\u001b[0m\u001b[0;34m\u001b[0m\u001b[0m\n\u001b[0;32m--> 321\u001b[0;31m             \u001b[0mself\u001b[0m\u001b[0;34m.\u001b[0m\u001b[0merror_handler\u001b[0m\u001b[0;34m.\u001b[0m\u001b[0mcheck_response\u001b[0m\u001b[0;34m(\u001b[0m\u001b[0mresponse\u001b[0m\u001b[0;34m)\u001b[0m\u001b[0;34m\u001b[0m\u001b[0;34m\u001b[0m\u001b[0m\n\u001b[0m\u001b[1;32m    322\u001b[0m             response['value'] = self._unwrap_value(\n\u001b[1;32m    323\u001b[0m                 response.get('value', None))\n",
      "\u001b[0;32m/Library/Frameworks/Python.framework/Versions/3.8/lib/python3.8/site-packages/selenium/webdriver/remote/errorhandler.py\u001b[0m in \u001b[0;36mcheck_response\u001b[0;34m(self, response)\u001b[0m\n\u001b[1;32m    240\u001b[0m                 \u001b[0malert_text\u001b[0m \u001b[0;34m=\u001b[0m \u001b[0mvalue\u001b[0m\u001b[0;34m[\u001b[0m\u001b[0;34m'alert'\u001b[0m\u001b[0;34m]\u001b[0m\u001b[0;34m.\u001b[0m\u001b[0mget\u001b[0m\u001b[0;34m(\u001b[0m\u001b[0;34m'text'\u001b[0m\u001b[0;34m)\u001b[0m\u001b[0;34m\u001b[0m\u001b[0;34m\u001b[0m\u001b[0m\n\u001b[1;32m    241\u001b[0m             \u001b[0;32mraise\u001b[0m \u001b[0mexception_class\u001b[0m\u001b[0;34m(\u001b[0m\u001b[0mmessage\u001b[0m\u001b[0;34m,\u001b[0m \u001b[0mscreen\u001b[0m\u001b[0;34m,\u001b[0m \u001b[0mstacktrace\u001b[0m\u001b[0;34m,\u001b[0m \u001b[0malert_text\u001b[0m\u001b[0;34m)\u001b[0m\u001b[0;34m\u001b[0m\u001b[0;34m\u001b[0m\u001b[0m\n\u001b[0;32m--> 242\u001b[0;31m         \u001b[0;32mraise\u001b[0m \u001b[0mexception_class\u001b[0m\u001b[0;34m(\u001b[0m\u001b[0mmessage\u001b[0m\u001b[0;34m,\u001b[0m \u001b[0mscreen\u001b[0m\u001b[0;34m,\u001b[0m \u001b[0mstacktrace\u001b[0m\u001b[0;34m)\u001b[0m\u001b[0;34m\u001b[0m\u001b[0;34m\u001b[0m\u001b[0m\n\u001b[0m\u001b[1;32m    243\u001b[0m \u001b[0;34m\u001b[0m\u001b[0m\n\u001b[1;32m    244\u001b[0m     \u001b[0;32mdef\u001b[0m \u001b[0m_value_or_default\u001b[0m\u001b[0;34m(\u001b[0m\u001b[0mself\u001b[0m\u001b[0;34m,\u001b[0m \u001b[0mobj\u001b[0m\u001b[0;34m,\u001b[0m \u001b[0mkey\u001b[0m\u001b[0;34m,\u001b[0m \u001b[0mdefault\u001b[0m\u001b[0;34m)\u001b[0m\u001b[0;34m:\u001b[0m\u001b[0;34m\u001b[0m\u001b[0;34m\u001b[0m\u001b[0m\n",
      "\u001b[0;31mWebDriverException\u001b[0m: Message: unknown error: session deleted because of page crash\nfrom unknown error: cannot determine loading status\nfrom tab crashed\n  (Session info: chrome=88.0.4324.96)\n"
     ]
    }
   ],
   "source": [
    "all_product_links_2 = []\n",
    "# def find_products_links_for_all_articles_method2():\n",
    "# driver.get('https://www.waitrose.com/ecom/shop/browse/groceries/fresh_and_chilled/fresh_meat/roasting_joints')\n",
    "for i in level3_cat_links:\n",
    "    driver.get(i)\n",
    "    try:\n",
    "        driver.find_element_by_xpath(\"//*[@id='tSr']/div/div[2]/button\").click()\n",
    "        sleep(1)\n",
    "\n",
    "        print(\"clicked once\")\n",
    "        driver.find_element_by_xpath(\"//*[@id='tSr']/div/div[2]/button\").click()\n",
    "        sleep(1)\n",
    "    except:\n",
    "        pass\n",
    "\n",
    "    for x in range(1, 100):\n",
    "        xpath = \"/html/body/div[2]/div/div/main/div[5]/div[2]/div/div[1]/article[\"\n",
    "        xpath += str(x)\n",
    "        xpath += \"]/div/section[1]/div[2]/a\"\n",
    "        product_elem = driver.find_elements_by_xpath(xpath)\n",
    "        \n",
    "        for elem in product_elem:\n",
    "            results = elem.get_attribute(\"href\")\n",
    "            print(results)\n",
    "            all_product_links_2.append(results)\n",
    "print(len(all_product_links_2))\n",
    "\n",
    "#     return all_product_links_2\n",
    "# find_products_links_for_all_articles_method2()"
   ]
  },
  {
   "cell_type": "code",
   "execution_count": 249,
   "metadata": {},
   "outputs": [
    {
     "output_type": "stream",
     "name": "stdout",
     "text": [
      "12517\n"
     ]
    }
   ],
   "source": [
    "print(len(all_product_links_2))"
   ]
  },
  {
   "cell_type": "code",
   "execution_count": 264,
   "metadata": {},
   "outputs": [],
   "source": [
    "\n",
    "#create a pandas data frame \n",
    "df_all_p = pd.DataFrame(all_product_links_2)\n",
    "# check if theres any duplicate\n",
    "#remove duplicates\n",
    "df_all_p_removeduplicate = df_all_p.drop_duplicates()\n",
    "#save file as csv\n",
    "df_all_p_removeduplicate.to_csv('/Users/sz742/Desktop/all_product_links_method2.csv',index=False)"
   ]
  },
  {
   "cell_type": "code",
   "execution_count": 265,
   "metadata": {},
   "outputs": [
    {
     "output_type": "execute_result",
     "data": {
      "text/plain": [
       "(7512, 1)"
      ]
     },
     "metadata": {},
     "execution_count": 265
    }
   ],
   "source": [
    "df_all_p_removeduplicate.shape"
   ]
  },
  {
   "cell_type": "code",
   "execution_count": null,
   "metadata": {},
   "outputs": [],
   "source": [
    "def get_product_data_method_2_works():\n",
    "    product_data = {'product_name' : [], 'weight' : [], 'servings':[], 'price' : [], }\n",
    "    ingredients= {'product_name': []}\n",
    "#nutritional value typical \n",
    "    nutrition_waitrose = {'product_name' : {'energy': [], 'fat' : [], 'fat_saturates': [], 'sugars': [], 'fiber' : [], 'protein' : [], 'salt' : []} }\n",
    "\n",
    "#define an empty nested dictionary for nutritional value typical\n",
    "    nutrition_typical = {'product_name' : {'energy': [], 'fat_saturates': [], 'carbohydrates_sugars' : [], 'fiber' : [], 'protein' : [], 'salt' : [] }} \n",
    "\n",
    "    product_name_list = []\n",
    "\n",
    "    XPATH_prod_data = {'product_name': \"//*[@id ='productName']/span[1]\",\n",
    "    'weight': \"//*[@id='productName']/span[2]\", 'price' : \"//*[@id='main']/div/article/section[2]/div[3]/div[1]/section[1]/span[1]/span\",  }\n",
    "\n",
    "    for i in list[:10]: # list of 7500 products (all_product_links_2 )\n",
    "        driver.get(i) \n",
    "        for item, xpath in XPATH_prod_data.items():\n",
    "            product_elem = driver.find_element_by_xpath(xpath)\n",
    "            names = product_elem.text\n",
    "            product_data[item].append(names)\n",
    "            \n",
    "            # if item == 'product_name':\n",
    "            #     product_data[\"product_name\"].append(names)\n",
    "            # elif item == 'weight' :\n",
    "            #     product_data[\"weight\"].append(names)\n",
    "            # elif item == 'servings':\n",
    "            #     product_data[\"servings\"].append(names)\n",
    "            # else:\n",
    "            #     product_data[\"price\"].append(names) \n",
    "            #get weight \n",
    "\n",
    "        print(f'Done = {i}')\n",
    "    return product_data\n",
    "\n",
    "def get_ingredients():\n",
    "    XPATHing = []\n",
    "    pass\n",
    "def get_nutrition_waitrose():\n",
    "    XPATH_nutri_w = []\n",
    "    pass\n",
    "def get_nutrition_typical():\n",
    "    XPATH_nutri_w = []\n",
    "    pass\n",
    "\n",
    "get_product_data_works()\n"
   ]
  },
  {
   "cell_type": "code",
   "execution_count": 280,
   "metadata": {},
   "outputs": [
    {
     "output_type": "stream",
     "name": "stdout",
     "text": [
      "Requirement already satisfied: lxml in /Library/Frameworks/Python.framework/Versions/3.8/lib/python3.8/site-packages (4.6.2)\n",
      "\u001b[33mWARNING: You are using pip version 20.2; however, version 21.0.1 is available.\n",
      "You should consider upgrading via the '/Library/Frameworks/Python.framework/Versions/3.8/bin/python3 -m pip install --upgrade pip' command.\u001b[0m\n",
      "Note: you may need to restart the kernel to use updated packages.\n"
     ]
    }
   ],
   "source": [
    "pip install lxml"
   ]
  },
  {
   "cell_type": "code",
   "execution_count": 122,
   "metadata": {},
   "outputs": [
    {
     "output_type": "execute_result",
     "data": {
      "text/plain": [
       "                      product_name   energy   fat fat_saturates carbohydrates  \\\n",
       "0  Essential British Chicken Large  205kcal  9.8g          2.4g          0.0g   \n",
       "\n",
       "  carbohydrates_sugars fiber protein   salt  \n",
       "0                 0.0g  0.0g   29.3g  0.18g  "
      ],
      "text/html": "<div>\n<style scoped>\n    .dataframe tbody tr th:only-of-type {\n        vertical-align: middle;\n    }\n\n    .dataframe tbody tr th {\n        vertical-align: top;\n    }\n\n    .dataframe thead th {\n        text-align: right;\n    }\n</style>\n<table border=\"1\" class=\"dataframe\">\n  <thead>\n    <tr style=\"text-align: right;\">\n      <th></th>\n      <th>product_name</th>\n      <th>energy</th>\n      <th>fat</th>\n      <th>fat_saturates</th>\n      <th>carbohydrates</th>\n      <th>carbohydrates_sugars</th>\n      <th>fiber</th>\n      <th>protein</th>\n      <th>salt</th>\n    </tr>\n  </thead>\n  <tbody>\n    <tr>\n      <th>0</th>\n      <td>Essential British Chicken Large</td>\n      <td>205kcal</td>\n      <td>9.8g</td>\n      <td>2.4g</td>\n      <td>0.0g</td>\n      <td>0.0g</td>\n      <td>0.0g</td>\n      <td>29.3g</td>\n      <td>0.18g</td>\n    </tr>\n  </tbody>\n</table>\n</div>"
     },
     "metadata": {},
     "execution_count": 122
    }
   ],
   "source": [
    "import requests\n",
    "from bs4 import BeautifulSoup\n",
    "import pandas as pd\n",
    "nutrition_waitrose = {'product_name' : [],  'energy': [], 'fat' : [], 'fat_saturates': [], 'sugars': [], 'fiber' : [], 'protein' : [], 'salt' : []} \n",
    "\n",
    "\n",
    "url = 'https://www.waitrose.com/ecom/products/essential-british-chicken-large/645021-507910-507911'\n",
    "\n",
    "r = requests.get(url) # make a HTTP GET request to this website\n",
    "html_string = r.text \n",
    "\n",
    "soup = BeautifulSoup(html_string, 'lxml')\n",
    "\n",
    "table = soup.find_all('table')[0] \n",
    "\n",
    "\n",
    "nutrition_typical = {'product_name' : [], 'energy': [], 'fat' : [], 'fat_saturates': [], 'carbohydrates' : [], 'carbohydrates_sugars' : [], 'fiber' : [], 'protein' : [], 'salt': [] }\n",
    "\n",
    "nutrition_list = ['energy', 'fat_saturates','carbohydrates_sugars','fiber', 'protein', 'salt']\n",
    "\n",
    "url = 'https://www.waitrose.com/ecom/products/essential-british-chicken-large/645021-507910-507911'\n",
    "\n",
    "p.id \n",
    "r = requests.get(url) # make a HTTP GET request to this website\n",
    "html_string = r.text \n",
    "soup = BeautifulSoup(html_string, 'lxml')\n",
    "table_nutrition = soup.find('table', {'class' : 'table table-striped'}).find('tbody')\n",
    "list_test = []\n",
    "\n",
    "for row in table_nutrition.find_all('tr'):\n",
    "    list_test.append(row.find('td').text)\n",
    "list_test\n",
    "product_name_el = soup.find(('h1', {'id' : 'productName'}))\n",
    "# print(product_name)\n",
    "product_name = []\n",
    "for span in product_name_el:\n",
    "    product_name.append(span.text)\n",
    "\n",
    "for item, v in  nutrition_typical.items():\n",
    "    if item == 'product_name':\n",
    "        nutrition_typical[\"product_name\"].append(product_name[0])\n",
    "    elif item == 'energy' :\n",
    "        nutrition_typical[\"energy\"].append(list_test[1])\n",
    "    elif item == 'fat':\n",
    "        nutrition_typical[\"fat\"].append(list_test[2])\n",
    "    elif item == 'fat_saturates':\n",
    "        nutrition_typical[\"fat_saturates\"].append(list_test[3])\n",
    "    elif item == 'carbohydrates':\n",
    "        nutrition_typical[\"carbohydrates\"].append(list_test[4])\n",
    "    elif item == 'carbohydrates_sugars':\n",
    "        nutrition_typical[\"carbohydrates_sugars\"].append(list_test[5])\n",
    "    elif item == 'fiber':\n",
    "        nutrition_typical[\"fiber\"].append(list_test[6])\n",
    "    elif item == 'protein':\n",
    "        nutrition_typical[\"protein\"].append(list_test[7])\n",
    "    else:\n",
    "        nutrition_typical[\"salt\"].append(list_test[8]) \n",
    "nutrition_typical_df = pd.DataFrame(nutrition_typical)\n",
    "\n",
    "\n",
    "nutrition_typical_df\n",
    "\n",
    "\n",
    "y = []\n",
    "nu_wait = soup.find(('div', 'article'))\n",
    "for po in nu_wait:\n",
    "    x = po.find_all('p')\n",
    "    # print(x)\n",
    "    for txt in x[5: 24] :\n",
    "      y.append(txt.text)\n",
    "nu_wait_df = pd.DataFrame(y).T\n",
    "\n",
    "nu_wait_df"
   ]
  },
  {
   "cell_type": "code",
   "execution_count": null,
   "metadata": {},
   "outputs": [],
   "source": [
    "# nutrition_list = ['product_name', 'energy', 'fat', 'of which saturates', 'sugars', 'fiber', 'protein']\n",
    "\n",
    "# nutrition_dict = {x:[] for x in nutrition_list}\n",
    "# table = table.find_all('tr')\n",
    "# i= 0\n",
    "# # for nutrition in nutrition_list[1:]:\n",
    "# #     nutrition_dict[nutrition].append(table.find_all[i].find_all('td')[1])\n",
    "# #     i += 1\n",
    "# for nutrition in nutrition_list[1:]:\n",
    "#     nutrition_dict[nutrition].append(table.find_all('tr')[i].find_all('td')[1])\n",
    "#     i += 1"
   ]
  },
  {
   "cell_type": "code",
   "execution_count": 97,
   "metadata": {},
   "outputs": [],
   "source": [
    "\n",
    "nutrition_typical1 = {'product_name' : [], 'energy': [], 'fat' : [], 'fat_saturates': [], 'carbohydrates_sugars' : [], 'fiber' : [], 'protein' : [], 'salt': [] }\n",
    "for k, v in nutrition_typical.items():\n",
    "    # for i in list_test:\n",
    "    nutrition_typical[k].append(list_test[i]) ##does not work \n",
    "nutrition_typical"
   ]
  },
  {
   "cell_type": "code",
   "execution_count": 96,
   "metadata": {},
   "outputs": [],
   "source": [
    "del nutrition_typical\n"
   ]
  },
  {
   "cell_type": "code",
   "execution_count": 145,
   "metadata": {},
   "outputs": [
    {
     "output_type": "stream",
     "name": "stdout",
     "text": [
      "['Essential British Chicken Large', '1.75kg']\n"
     ]
    }
   ],
   "source": [
    "# works collect  product names \n",
    "product_name_el = soup.find(('h1', {'id' : 'productName'}))\n",
    "# print(product_name)\n",
    "product_name = []\n",
    "for span in product_name_el:\n",
    "    product_name.append(span.text)\n",
    "print(product_name)\n"
   ]
  },
  {
   "cell_type": "code",
   "execution_count": 144,
   "metadata": {},
   "outputs": [
    {
     "output_type": "execute_result",
     "data": {
      "text/plain": [
       "                         0             1                   2             3  \\\n",
       "0  PER 100g edible portion  861kJ205kcal  A serving contains  861kj205kcal   \n",
       "\n",
       "        4       5       6       7       8       9      10    11   12     13  \\\n",
       "0  10% RI  9.80 g  Medium  14% RI  2.40 g  Medium  12% RI  0.0g  Low  0% RI   \n",
       "\n",
       "       14   15     16                                               17 18  \n",
       "0  0.18 g  Low  3% RI  Typical values as prepared. Contains 7 Servings     "
      ],
      "text/html": "<div>\n<style scoped>\n    .dataframe tbody tr th:only-of-type {\n        vertical-align: middle;\n    }\n\n    .dataframe tbody tr th {\n        vertical-align: top;\n    }\n\n    .dataframe thead th {\n        text-align: right;\n    }\n</style>\n<table border=\"1\" class=\"dataframe\">\n  <thead>\n    <tr style=\"text-align: right;\">\n      <th></th>\n      <th>0</th>\n      <th>1</th>\n      <th>2</th>\n      <th>3</th>\n      <th>4</th>\n      <th>5</th>\n      <th>6</th>\n      <th>7</th>\n      <th>8</th>\n      <th>9</th>\n      <th>10</th>\n      <th>11</th>\n      <th>12</th>\n      <th>13</th>\n      <th>14</th>\n      <th>15</th>\n      <th>16</th>\n      <th>17</th>\n      <th>18</th>\n    </tr>\n  </thead>\n  <tbody>\n    <tr>\n      <th>0</th>\n      <td>PER 100g edible portion</td>\n      <td>861kJ205kcal</td>\n      <td>A serving contains</td>\n      <td>861kj205kcal</td>\n      <td>10% RI</td>\n      <td>9.80 g</td>\n      <td>Medium</td>\n      <td>14% RI</td>\n      <td>2.40 g</td>\n      <td>Medium</td>\n      <td>12% RI</td>\n      <td>0.0g</td>\n      <td>Low</td>\n      <td>0% RI</td>\n      <td>0.18 g</td>\n      <td>Low</td>\n      <td>3% RI</td>\n      <td>Typical values as prepared. Contains 7 Servings</td>\n      <td></td>\n    </tr>\n  </tbody>\n</table>\n</div>"
     },
     "metadata": {},
     "execution_count": 144
    }
   ],
   "source": [
    "#works : collect elements from nutritinal value waitrose\n",
    "y = []\n",
    "nu_wait = soup.find(('div', 'article'))\n",
    "for po in nu_wait:\n",
    "    x = po.find_all('p')\n",
    "    # print(x)\n",
    "    for txt in x[5: 24] :\n",
    "      y.append(txt.text)\n",
    "nu_wait_df = pd.DataFrame(y).T\n",
    "\n",
    "nu_wait_df"
   ]
  },
  {
   "cell_type": "code",
   "execution_count": 283,
   "metadata": {},
   "outputs": [],
   "source": [
    "del ingredient_nu"
   ]
  },
  {
   "cell_type": "code",
   "execution_count": 289,
   "metadata": {
    "tags": []
   },
   "outputs": [
    {
     "output_type": "stream",
     "name": "stdout",
     "text": [
      "['Pork shoulder (84%), water, honey, sunflower oil, parsley, rosemary, garlic purée, lemon juice, salt, mustard seeds, cornflour, spirit vinegar, black pepper, fennel seeds, acidity regulator citric acid']\n['Waitrose ETC Honey & Garlic Pork Shoulder', '500g']\n"
     ]
    },
    {
     "output_type": "execute_result",
     "data": {
      "text/plain": [
       "                                                   0\n",
       "0  Pork shoulder (84%), water, honey, sunflower o..."
      ],
      "text/html": "<div>\n<style scoped>\n    .dataframe tbody tr th:only-of-type {\n        vertical-align: middle;\n    }\n\n    .dataframe tbody tr th {\n        vertical-align: top;\n    }\n\n    .dataframe thead th {\n        text-align: right;\n    }\n</style>\n<table border=\"1\" class=\"dataframe\">\n  <thead>\n    <tr style=\"text-align: right;\">\n      <th></th>\n      <th>0</th>\n    </tr>\n  </thead>\n  <tbody>\n    <tr>\n      <th>0</th>\n      <td>Pork shoulder (84%), water, honey, sunflower o...</td>\n    </tr>\n  </tbody>\n</table>\n</div>"
     },
     "metadata": {},
     "execution_count": 289
    }
   ],
   "source": [
    "#collect ingredients\n",
    "url1 = 'https://www.waitrose.com/ecom/products/waitrose-etc-honey-garlic-pork-shoulder/420264-59136-59137'\n",
    "r = requests.get(url1) # make a HTTP GET request to this website\n",
    "html_string = r.text \n",
    "\n",
    "soup = BeautifulSoup(html_string, 'lxml')\n",
    "ingr = []\n",
    "product_name = []\n",
    "# ingredients= {'product_name': []}\n",
    "\n",
    "product_name_el = soup.find(('h1', {'id' : 'productName'}))\n",
    "# print(product_name)\n",
    "\n",
    "# find product name \n",
    "for span in product_name_el:\n",
    "    convert_p_str = str(span.text)\n",
    "    product_name.append(convert_p_str) \n",
    "\n",
    "ingre = soup.find(('div', {'id': \"ingredients-region\"}))\n",
    "\n",
    "convert_str = str(ingre.find('div', {'class': 'ingredientsText___Ztpzh'}).text)\n",
    "# print(convert_str.strip(\" , \"))\n",
    "ingr.append(convert_str)\n",
    "\n",
    "\n",
    "# ingredient_nu = pd.DataFrame({'product_name': product_name,\n",
    "#                               'ingrediens': ingr})\n",
    "product_name_df = pd.DataFrame(product_name)\n",
    "\n",
    "ingr_df = pd.DataFrame(ingr)\n",
    "\n",
    "ingredient_nu = pd.concat([product_name_df.iloc[0 , :], ingr_df], axis =1)\n",
    "\n",
    "print(ingr)\n",
    "print(product_name)\n",
    "ingredient_nu\n",
    "\n",
    "\n",
    "# ingredient_nu.iloc[0,0]\n",
    "  \n",
    "\n",
    "# //*[@id=\"ingredients-region\"]/div/section/div\n",
    "# //*[@id=\"ingredients-region\"]/div/section/div/b\n",
    "#  chicken.//*[@id=\"ingredients-region\"]/div/section/div/text()\n"
   ]
  },
  {
   "cell_type": "code",
   "execution_count": null,
   "metadata": {},
   "outputs": [],
   "source": [
    "import requests\n",
    "import pandas as pd\n",
    "from bs4 import BeautifulSoup\n",
    "\n",
    "class HTMLTableParser:\n",
    "    \n",
    "    def parse_url(self, url):\n",
    "        response = requests.get(url)\n",
    "        soup = BeautifulSoup(response.text, 'lxml')\n",
    "        return [(table['id'],self.parse_html_table(table))\\\n",
    "                for table in soup.find_all('table')]  \n",
    "\n",
    "    def parse_html_table(self, table):\n",
    "        n_columns = 0\n",
    "        n_rows=0\n",
    "        column_names = []\n",
    "\n",
    "        # Find number of rows and columns\n",
    "        # we also find the column titles if we can\n",
    "        for row in table.find_all('tr'):\n",
    "                \n",
    "            # Determine the number of rows in the table\n",
    "            td_tags = row.find_all('td')\n",
    "            if len(td_tags) > 0:\n",
    "                n_rows+=1\n",
    "                if n_columns == 0:\n",
    "                    # Set the number of columns for our table\n",
    "                    n_columns = len(td_tags)\n",
    "                    \n",
    "            # Handle column names if we find them\n",
    "            th_tags = row.find_all('th') \n",
    "            if len(th_tags) > 0 and len(column_names) == 0:\n",
    "                for th in th_tags:\n",
    "                    column_names.append(th.get_text())\n",
    "\n",
    "        # Safeguard on Column Titles\n",
    "        if len(column_names) > 0 and len(column_names) != n_columns:\n",
    "            raise Exception(\"Column titles do not match the number of columns\")\n",
    "\n",
    "        columns = column_names if len(column_names) > 0 else range(0,n_columns)\n",
    "        df = pd.DataFrame(columns = columns,\n",
    "                            index= range(0,n_rows))\n",
    "        row_marker = 0\n",
    "        for row in table.find_all('tr'):\n",
    "            column_marker = 0\n",
    "            columns = row.find_all('td')\n",
    "            for column in columns:\n",
    "                df.iat[row_marker,column_marker] = column.get_text()\n",
    "                column_marker += 1\n",
    "            if len(columns) > 0:\n",
    "                row_marker += 1\n",
    "                \n",
    "        # Convert to float if possible\n",
    "        for col in df:\n",
    "            try:\n",
    "                df[col] = df[col].astype(float)\n",
    "            except ValueError:\n",
    "                pass\n",
    "        \n",
    "        return df\n"
   ]
  },
  {
   "cell_type": "code",
   "execution_count": 295,
   "metadata": {},
   "outputs": [
    {
     "output_type": "stream",
     "name": "stdout",
     "text": [
      "['', '', '', '', '', '', '', '', '']\n",
      "['', '', '', '', '', '', '', '', '']\n",
      "['', '', '', '', '', '', '', '', '']\n",
      "['', '', '', '', '', '', '', '', '']\n",
      "['', '', '', '', '', '', '', '', '']\n",
      "['', '', '', '', '', '', '', '', '']\n",
      "['', '', '', '', '', '', '', '', '']\n",
      "['', '', '', '', '', '', '', '', '']\n",
      "['', '', '', '', '', '', '', '', '']\n",
      "['', '', '', '', '', '', '', '', '']\n"
     ]
    }
   ],
   "source": [
    "table =  driver.find_element_by_xpath(\"//*[@id='nutrition-region']/div/section/div/table\")\n",
    "xpath_3 = \"//*[@id='nutrition-region']/div/section/div/table/tbody/tr\"\n",
    "for row in table.find_elements_by_xpath(\".//tr\"):\n",
    "    print([td.text for td in row.find_elements_by_xpath(xpath_3)])"
   ]
  },
  {
   "cell_type": "code",
   "execution_count": 284,
   "metadata": {
    "tags": []
   },
   "outputs": [
    {
     "output_type": "stream",
     "name": "stdout",
     "text": [
      "<Element html at 0x144bb1a90>\n"
     ]
    },
    {
     "output_type": "error",
     "ename": "SyntaxError",
     "evalue": "cannot use absolute path on element (<string>)",
     "traceback": [
      "Traceback \u001b[0;36m(most recent call last)\u001b[0m:\n",
      "  File \u001b[1;32m\"/Library/Frameworks/Python.framework/Versions/3.8/lib/python3.8/site-packages/IPython/core/interactiveshell.py\"\u001b[0m, line \u001b[1;32m3343\u001b[0m, in \u001b[1;35mrun_code\u001b[0m\n    exec(code_obj, self.user_global_ns, self.user_ns)\n",
      "  File \u001b[1;32m\"<ipython-input-284-65088f443573>\"\u001b[0m, line \u001b[1;32m7\u001b[0m, in \u001b[1;35m<module>\u001b[0m\n    address_element = tree.find(\"//*[@id='nutrition-region']/div/section/div/table/tbody\").text\n",
      "  File \u001b[1;32m\"src/lxml/etree.pyx\"\u001b[0m, line \u001b[1;32m1532\u001b[0m, in \u001b[1;35mlxml.etree._Element.find\u001b[0m\n",
      "  File \u001b[1;32m\"src/lxml/_elementpath.py\"\u001b[0m, line \u001b[1;32m323\u001b[0m, in \u001b[1;35mlxml._elementpath.find\u001b[0m\n",
      "  File \u001b[1;32m\"src/lxml/_elementpath.py\"\u001b[0m, line \u001b[1;32m312\u001b[0m, in \u001b[1;35mlxml._elementpath.iterfind\u001b[0m\n",
      "\u001b[0;36m  File \u001b[0;32m\"src/lxml/_elementpath.py\"\u001b[0;36m, line \u001b[0;32m281\u001b[0;36m, in \u001b[0;35mlxml._elementpath._build_path_iterator\u001b[0;36m\u001b[0m\n",
      "\u001b[0;36m  File \u001b[0;32m\"<string>\"\u001b[0;36m, line \u001b[0;32munknown\u001b[0m\n\u001b[0;31mSyntaxError\u001b[0m\u001b[0;31m:\u001b[0m cannot use absolute path on element\n"
     ]
    }
   ],
   "source": [
    "import requests # import the requests library\n",
    "from lxml import html\n",
    "r = requests.get('https://www.waitrose.com/ecom/products/essential-british-chicken-large/645021-507910-507911') # make a HTTP GET request to this website\n",
    "html_string = r.text # the text attribute of this response is the HTML as a string\n",
    "tree = html.fromstring(html_string)\n",
    "print(tree)\n",
    "address_element = tree.find(\"//*[@id='nutrition-region']/div/section/div/table/tbody\").text\n",
    "# h = html.parse('https://www.waitrose.com/ecom/products/essential-british-chicken-large/645021-507910-507911')\n",
    "# test = html.xpath(\"//*[@id='nutrition-region']/div/section/div/table/tbody\")\n",
    "print(address_element)"
   ]
  },
  {
   "source": [
    "#testing -extracting a table and pupulating a dictionary \n",
    "driver.get(\"https://www.waitrose.com/ecom/products/essential-british-chicken-large/645021-507910-507911\") \n",
    "\n",
    "xpath  = \"//*[@id='nutrition-region']/div/section/div/table/tbody\"\n",
    "\n",
    "table = driver.find_element_by_xpath(xpath)\n",
    "all_rows = table.find_element_by_tag_name(\"tr\")\n",
    "for row in all_rows:\n",
    "    cells = row.find_element_by_xpath(\"./*\")\n",
    "    print(cells)\n",
    "\n",
    "\n",
    "# print(product_elem)\n",
    "# names = product_elem.text\n",
    "\n",
    "# // Now get all the TR elements from the table\n",
    "# List<WebElement> allRows = table.findElements(By.tagName(\"tr\"));\n",
    "# // And iterate over them, getting the cells\n",
    "# for (WebElement row : allRows) {\n",
    "#  List<WebElement> cells = row.findElements(By.tagName(\"td\"));\n",
    "#  for (WebElement cell : cells) {\n",
    "\n"
   ],
   "cell_type": "code",
   "metadata": {},
   "execution_count": 276,
   "outputs": [
    {
     "output_type": "error",
     "ename": "TypeError",
     "evalue": "'WebElement' object is not iterable",
     "traceback": [
      "\u001b[0;31m---------------------------------------------------------------------------\u001b[0m",
      "\u001b[0;31mTypeError\u001b[0m                                 Traceback (most recent call last)",
      "\u001b[0;32m<ipython-input-276-33d0479db596>\u001b[0m in \u001b[0;36m<module>\u001b[0;34m\u001b[0m\n\u001b[1;32m      6\u001b[0m \u001b[0mtable\u001b[0m \u001b[0;34m=\u001b[0m \u001b[0mdriver\u001b[0m\u001b[0;34m.\u001b[0m\u001b[0mfind_element_by_xpath\u001b[0m\u001b[0;34m(\u001b[0m\u001b[0mxpath\u001b[0m\u001b[0;34m)\u001b[0m\u001b[0;34m\u001b[0m\u001b[0;34m\u001b[0m\u001b[0m\n\u001b[1;32m      7\u001b[0m \u001b[0mall_rows\u001b[0m \u001b[0;34m=\u001b[0m \u001b[0mtable\u001b[0m\u001b[0;34m.\u001b[0m\u001b[0mfind_element_by_tag_name\u001b[0m\u001b[0;34m(\u001b[0m\u001b[0;34m\"tr\"\u001b[0m\u001b[0;34m)\u001b[0m\u001b[0;34m\u001b[0m\u001b[0;34m\u001b[0m\u001b[0m\n\u001b[0;32m----> 8\u001b[0;31m \u001b[0;32mfor\u001b[0m \u001b[0mrow\u001b[0m \u001b[0;32min\u001b[0m \u001b[0mall_rows\u001b[0m\u001b[0;34m:\u001b[0m\u001b[0;34m\u001b[0m\u001b[0;34m\u001b[0m\u001b[0m\n\u001b[0m\u001b[1;32m      9\u001b[0m     \u001b[0mcells\u001b[0m \u001b[0;34m=\u001b[0m \u001b[0mrow\u001b[0m\u001b[0;34m.\u001b[0m\u001b[0mfind_element_by_xpath\u001b[0m\u001b[0;34m(\u001b[0m\u001b[0;34m\"./*\"\u001b[0m\u001b[0;34m)\u001b[0m\u001b[0;34m\u001b[0m\u001b[0;34m\u001b[0m\u001b[0m\n\u001b[1;32m     10\u001b[0m     \u001b[0mprint\u001b[0m\u001b[0;34m(\u001b[0m\u001b[0mcells\u001b[0m\u001b[0;34m)\u001b[0m\u001b[0;34m\u001b[0m\u001b[0;34m\u001b[0m\u001b[0m\n",
      "\u001b[0;31mTypeError\u001b[0m: 'WebElement' object is not iterable"
     ]
    }
   ]
  },
  {
   "cell_type": "code",
   "execution_count": 214,
   "metadata": {},
   "outputs": [
    {
     "output_type": "stream",
     "name": "stdout",
     "text": [
      "6\n"
     ]
    }
   ],
   "source": [
    "#don't use str as your variable name\n",
    "# a =str(1)\n",
    "# TypeError: 'str' object is not callable\n",
    "# deleting a variable \n",
    "del str"
   ]
  },
  {
   "cell_type": "code",
   "execution_count": 215,
   "metadata": {},
   "outputs": [
    {
     "output_type": "stream",
     "name": "stdout",
     "text": [
      "<class 'str'>\n"
     ]
    }
   ],
   "source": [
    "print(str)"
   ]
  },
  {
   "cell_type": "code",
   "execution_count": 190,
   "metadata": {
    "tags": []
   },
   "outputs": [
    {
     "output_type": "stream",
     "name": "stdout",
     "text": [
      "6673\n"
     ]
    }
   ],
   "source": [
    "from collections import Counter\n",
    "len(all_product_links_1) != len(set(all_product_links_1))\n",
    "# pprint(all_product_links_1[: 5])\n",
    "#get rid of duplicates \n",
    "x = [k for k,v in Counter(all_product_links_1).items() if v>1]\n",
    "pprint(len(x))\n",
    "\n",
    "#DOES NOT WORK\n",
    "with open('/Users/sz742/Desktop/all_product_links_2.csv', 'w') as f:\n",
    "    wr = csv.writer(f, dialect='excel')\n",
    "    wr.writerows(x)"
   ]
  },
  {
   "cell_type": "code",
   "execution_count": 194,
   "metadata": {
    "tags": []
   },
   "outputs": [
    {
     "output_type": "execute_result",
     "data": {
      "text/plain": [
       "                                                      0\n",
       "0     https://www.waitrose.com/ecom/products/essenti...\n",
       "1     https://www.waitrose.com/ecom/products/waitros...\n",
       "2     https://www.waitrose.com/ecom/products/essenti...\n",
       "3     https://www.waitrose.com/ecom/products/no1-cor...\n",
       "4     https://www.waitrose.com/ecom/products/duchy-o...\n",
       "...                                                 ...\n",
       "6668  https://www.waitrose.com/ecom/products/the-spi...\n",
       "6669  https://www.waitrose.com/ecom/products/bart-sp...\n",
       "6670  https://www.waitrose.com/ecom/products/cooks-i...\n",
       "6671  https://www.waitrose.com/ecom/products/zanae-g...\n",
       "6672  https://www.waitrose.com/ecom/products/cooksin...\n",
       "\n",
       "[6673 rows x 1 columns]"
      ],
      "text/html": "<div>\n<style scoped>\n    .dataframe tbody tr th:only-of-type {\n        vertical-align: middle;\n    }\n\n    .dataframe tbody tr th {\n        vertical-align: top;\n    }\n\n    .dataframe thead th {\n        text-align: right;\n    }\n</style>\n<table border=\"1\" class=\"dataframe\">\n  <thead>\n    <tr style=\"text-align: right;\">\n      <th></th>\n      <th>0</th>\n    </tr>\n  </thead>\n  <tbody>\n    <tr>\n      <th>0</th>\n      <td>https://www.waitrose.com/ecom/products/essenti...</td>\n    </tr>\n    <tr>\n      <th>1</th>\n      <td>https://www.waitrose.com/ecom/products/waitros...</td>\n    </tr>\n    <tr>\n      <th>2</th>\n      <td>https://www.waitrose.com/ecom/products/essenti...</td>\n    </tr>\n    <tr>\n      <th>3</th>\n      <td>https://www.waitrose.com/ecom/products/no1-cor...</td>\n    </tr>\n    <tr>\n      <th>4</th>\n      <td>https://www.waitrose.com/ecom/products/duchy-o...</td>\n    </tr>\n    <tr>\n      <th>...</th>\n      <td>...</td>\n    </tr>\n    <tr>\n      <th>6668</th>\n      <td>https://www.waitrose.com/ecom/products/the-spi...</td>\n    </tr>\n    <tr>\n      <th>6669</th>\n      <td>https://www.waitrose.com/ecom/products/bart-sp...</td>\n    </tr>\n    <tr>\n      <th>6670</th>\n      <td>https://www.waitrose.com/ecom/products/cooks-i...</td>\n    </tr>\n    <tr>\n      <th>6671</th>\n      <td>https://www.waitrose.com/ecom/products/zanae-g...</td>\n    </tr>\n    <tr>\n      <th>6672</th>\n      <td>https://www.waitrose.com/ecom/products/cooksin...</td>\n    </tr>\n  </tbody>\n</table>\n<p>6673 rows × 1 columns</p>\n</div>"
     },
     "metadata": {},
     "execution_count": 194
    }
   ],
   "source": [
    "df_all = pd.DataFrame(x)\n",
    "df_all"
   ]
  },
  {
   "cell_type": "code",
   "execution_count": 177,
   "metadata": {
    "tags": []
   },
   "outputs": [
    {
     "output_type": "stream",
     "name": "stdout",
     "text": [
      "9519420\n",
      "['https://www.waitrose.com/ecom/products/essential-small-whole-chicken-without-giblets/895677-706845-706846',\n",
      " 'https://www.waitrose.com/ecom/products/essential-small-whole-chicken-without-giblets/895677-706845-706846',\n",
      " 'https://www.waitrose.com/ecom/products/essential-small-whole-chicken-without-giblets/895677-706845-706846',\n",
      " 'https://www.waitrose.com/ecom/products/essential-small-whole-chicken-without-giblets/895677-706845-706846',\n",
      " 'https://www.waitrose.com/ecom/products/waitrose-crackling-pork-boneless-leg-roast/050735-25241-25242',\n",
      " 'https://www.waitrose.com/ecom/products/waitrose-crackling-pork-boneless-leg-roast/050735-25241-25242',\n",
      " 'https://www.waitrose.com/ecom/products/waitrose-crackling-pork-boneless-leg-roast/050735-25241-25242',\n",
      " 'https://www.waitrose.com/ecom/products/waitrose-crackling-pork-boneless-leg-roast/050735-25241-25242',\n",
      " 'https://www.waitrose.com/ecom/products/essential-british-chicken-large/645021-507910-507911',\n",
      " 'https://www.waitrose.com/ecom/products/essential-british-chicken-large/645021-507910-507911',\n",
      " 'https://www.waitrose.com/ecom/products/essential-british-chicken-large/645021-507910-507911',\n",
      " 'https://www.waitrose.com/ecom/products/essential-british-chicken-large/645021-507910-507911',\n",
      " 'https://www.waitrose.com/ecom/products/no1-corn-fed-free-range-whole-chicken/037011-18529-18530',\n",
      " 'https://www.waitrose.com/ecom/products/no1-corn-fed-free-range-whole-chicken/037011-18529-18530',\n",
      " 'https://www.waitrose.com/ecom/products/no1-corn-fed-free-range-whole-chicken/037011-18529-18530',\n",
      " 'https://www.waitrose.com/ecom/products/no1-corn-fed-free-range-whole-chicken/037011-18529-18530',\n",
      " 'https://www.waitrose.com/ecom/products/duchy-organic-free-range-british-whole-chicken/078250-39829-39830',\n",
      " 'https://www.waitrose.com/ecom/products/duchy-organic-free-range-british-whole-chicken/078250-39829-39830',\n",
      " 'https://www.waitrose.com/ecom/products/duchy-organic-free-range-british-whole-chicken/078250-39829-39830',\n",
      " 'https://www.waitrose.com/ecom/products/duchy-organic-free-range-british-whole-chicken/078250-39829-39830',\n",
      " 'https://www.waitrose.com/ecom/products/waitrose-2-british-lamb-leg-shanks/097484-49773-49774',\n",
      " 'https://www.waitrose.com/ecom/products/waitrose-2-british-lamb-leg-shanks/097484-49773-49774',\n",
      " 'https://www.waitrose.com/ecom/products/waitrose-2-british-lamb-leg-shanks/097484-49773-49774',\n",
      " 'https://www.waitrose.com/ecom/products/waitrose-2-british-lamb-leg-shanks/097484-49773-49774',\n",
      " 'https://www.waitrose.com/ecom/products/essential-british-medium-whole-chicken/845051-714666-714667',\n",
      " 'https://www.waitrose.com/ecom/products/essential-british-medium-whole-chicken/845051-714666-714667',\n",
      " 'https://www.waitrose.com/ecom/products/essential-british-medium-whole-chicken/845051-714666-714667',\n",
      " 'https://www.waitrose.com/ecom/products/essential-british-medium-whole-chicken/845051-714666-714667',\n",
      " 'https://www.waitrose.com/ecom/products/essential-british-beef-topside-small/015790-7563-7564',\n",
      " 'https://www.waitrose.com/ecom/products/essential-british-beef-topside-small/015790-7563-7564',\n",
      " 'https://www.waitrose.com/ecom/products/essential-british-beef-topside-small/015790-7563-7564',\n",
      " 'https://www.waitrose.com/ecom/products/essential-british-beef-topside-small/015790-7563-7564',\n",
      " 'https://www.waitrose.com/ecom/products/waitrose-welsh-extra-trimmed-rack-of-lamb/051312-25535-25536',\n",
      " 'https://www.waitrose.com/ecom/products/waitrose-welsh-extra-trimmed-rack-of-lamb/051312-25535-25536',\n",
      " 'https://www.waitrose.com/ecom/products/waitrose-welsh-extra-trimmed-rack-of-lamb/051312-25535-25536',\n",
      " 'https://www.waitrose.com/ecom/products/waitrose-welsh-extra-trimmed-rack-of-lamb/051312-25535-25536',\n",
      " 'https://www.waitrose.com/ecom/products/essential-british-beef-topside-large/073666-37372-37373',\n",
      " 'https://www.waitrose.com/ecom/products/essential-british-beef-topside-large/073666-37372-37373',\n",
      " 'https://www.waitrose.com/ecom/products/essential-british-beef-topside-large/073666-37372-37373',\n",
      " 'https://www.waitrose.com/ecom/products/essential-british-beef-topside-large/073666-37372-37373',\n",
      " 'https://www.waitrose.com/ecom/products/maille-mustard-with-green-pepper/862157-744111-744112',\n",
      " 'https://www.waitrose.com/ecom/products/maille-mustard-with-green-pepper/862157-744111-744112',\n",
      " 'https://www.waitrose.com/ecom/products/maille-traditional-dijon-mustard/640230-90937-90938',\n",
      " 'https://www.waitrose.com/ecom/products/maille-traditional-dijon-mustard/640230-90937-90938',\n",
      " 'https://www.waitrose.com/ecom/products/maille-traditional-dijon-mustard/640230-90937-90938',\n",
      " 'https://www.waitrose.com/ecom/products/maille-wholegrain-mustard/482549-125381-125382',\n",
      " 'https://www.waitrose.com/ecom/products/maille-wholegrain-mustard/482549-125381-125382',\n",
      " 'https://www.waitrose.com/ecom/products/maille-wholegrain-mustard/482549-125381-125382',\n",
      " 'https://www.waitrose.com/ecom/products/maille-mustard-with-honey/797759-343442-343443',\n",
      " 'https://www.waitrose.com/ecom/products/maille-mustard-with-honey/797759-343442-343443']\n"
     ]
    },
    {
     "output_type": "error",
     "ename": "EmptyDataError",
     "evalue": "No columns to parse from file",
     "traceback": [
      "\u001b[0;31m---------------------------------------------------------------------------\u001b[0m",
      "\u001b[0;31mEmptyDataError\u001b[0m                            Traceback (most recent call last)",
      "\u001b[0;32m<ipython-input-177-dfeb3eda556a>\u001b[0m in \u001b[0;36m<module>\u001b[0;34m\u001b[0m\n\u001b[1;32m      7\u001b[0m     \u001b[0mwr\u001b[0m \u001b[0;34m=\u001b[0m \u001b[0mcsv\u001b[0m\u001b[0;34m.\u001b[0m\u001b[0mwriter\u001b[0m\u001b[0;34m(\u001b[0m\u001b[0mf\u001b[0m\u001b[0;34m,\u001b[0m \u001b[0mdialect\u001b[0m\u001b[0;34m=\u001b[0m\u001b[0;34m'excel'\u001b[0m\u001b[0;34m)\u001b[0m\u001b[0;34m\u001b[0m\u001b[0;34m\u001b[0m\u001b[0m\n\u001b[1;32m      8\u001b[0m     \u001b[0mwr\u001b[0m\u001b[0;34m.\u001b[0m\u001b[0mwriterows\u001b[0m\u001b[0;34m(\u001b[0m\u001b[0mall_product_links_1\u001b[0m\u001b[0;34m)\u001b[0m\u001b[0;34m\u001b[0m\u001b[0;34m\u001b[0m\u001b[0m\n\u001b[0;32m----> 9\u001b[0;31m \u001b[0mdf_all\u001b[0m \u001b[0;34m=\u001b[0m \u001b[0mpd\u001b[0m\u001b[0;34m.\u001b[0m\u001b[0mread_csv\u001b[0m\u001b[0;34m(\u001b[0m\u001b[0;34m\"all_product_links_1.csv\"\u001b[0m\u001b[0;34m)\u001b[0m\u001b[0;34m\u001b[0m\u001b[0;34m\u001b[0m\u001b[0m\n\u001b[0m\u001b[1;32m     10\u001b[0m \u001b[0mdf_all\u001b[0m\u001b[0;34m\u001b[0m\u001b[0;34m\u001b[0m\u001b[0m\n\u001b[1;32m     11\u001b[0m \u001b[0;34m\u001b[0m\u001b[0m\n",
      "\u001b[0;32m/Library/Frameworks/Python.framework/Versions/3.8/lib/python3.8/site-packages/pandas/io/parsers.py\u001b[0m in \u001b[0;36mread_csv\u001b[0;34m(filepath_or_buffer, sep, delimiter, header, names, index_col, usecols, squeeze, prefix, mangle_dupe_cols, dtype, engine, converters, true_values, false_values, skipinitialspace, skiprows, skipfooter, nrows, na_values, keep_default_na, na_filter, verbose, skip_blank_lines, parse_dates, infer_datetime_format, keep_date_col, date_parser, dayfirst, cache_dates, iterator, chunksize, compression, thousands, decimal, lineterminator, quotechar, quoting, doublequote, escapechar, comment, encoding, dialect, error_bad_lines, warn_bad_lines, delim_whitespace, low_memory, memory_map, float_precision)\u001b[0m\n\u001b[1;32m    684\u001b[0m     )\n\u001b[1;32m    685\u001b[0m \u001b[0;34m\u001b[0m\u001b[0m\n\u001b[0;32m--> 686\u001b[0;31m     \u001b[0;32mreturn\u001b[0m \u001b[0m_read\u001b[0m\u001b[0;34m(\u001b[0m\u001b[0mfilepath_or_buffer\u001b[0m\u001b[0;34m,\u001b[0m \u001b[0mkwds\u001b[0m\u001b[0;34m)\u001b[0m\u001b[0;34m\u001b[0m\u001b[0;34m\u001b[0m\u001b[0m\n\u001b[0m\u001b[1;32m    687\u001b[0m \u001b[0;34m\u001b[0m\u001b[0m\n\u001b[1;32m    688\u001b[0m \u001b[0;34m\u001b[0m\u001b[0m\n",
      "\u001b[0;32m/Library/Frameworks/Python.framework/Versions/3.8/lib/python3.8/site-packages/pandas/io/parsers.py\u001b[0m in \u001b[0;36m_read\u001b[0;34m(filepath_or_buffer, kwds)\u001b[0m\n\u001b[1;32m    450\u001b[0m \u001b[0;34m\u001b[0m\u001b[0m\n\u001b[1;32m    451\u001b[0m     \u001b[0;31m# Create the parser.\u001b[0m\u001b[0;34m\u001b[0m\u001b[0;34m\u001b[0m\u001b[0;34m\u001b[0m\u001b[0m\n\u001b[0;32m--> 452\u001b[0;31m     \u001b[0mparser\u001b[0m \u001b[0;34m=\u001b[0m \u001b[0mTextFileReader\u001b[0m\u001b[0;34m(\u001b[0m\u001b[0mfp_or_buf\u001b[0m\u001b[0;34m,\u001b[0m \u001b[0;34m**\u001b[0m\u001b[0mkwds\u001b[0m\u001b[0;34m)\u001b[0m\u001b[0;34m\u001b[0m\u001b[0;34m\u001b[0m\u001b[0m\n\u001b[0m\u001b[1;32m    453\u001b[0m \u001b[0;34m\u001b[0m\u001b[0m\n\u001b[1;32m    454\u001b[0m     \u001b[0;32mif\u001b[0m \u001b[0mchunksize\u001b[0m \u001b[0;32mor\u001b[0m \u001b[0miterator\u001b[0m\u001b[0;34m:\u001b[0m\u001b[0;34m\u001b[0m\u001b[0;34m\u001b[0m\u001b[0m\n",
      "\u001b[0;32m/Library/Frameworks/Python.framework/Versions/3.8/lib/python3.8/site-packages/pandas/io/parsers.py\u001b[0m in \u001b[0;36m__init__\u001b[0;34m(self, f, engine, **kwds)\u001b[0m\n\u001b[1;32m    934\u001b[0m             \u001b[0mself\u001b[0m\u001b[0;34m.\u001b[0m\u001b[0moptions\u001b[0m\u001b[0;34m[\u001b[0m\u001b[0;34m\"has_index_names\"\u001b[0m\u001b[0;34m]\u001b[0m \u001b[0;34m=\u001b[0m \u001b[0mkwds\u001b[0m\u001b[0;34m[\u001b[0m\u001b[0;34m\"has_index_names\"\u001b[0m\u001b[0;34m]\u001b[0m\u001b[0;34m\u001b[0m\u001b[0;34m\u001b[0m\u001b[0m\n\u001b[1;32m    935\u001b[0m \u001b[0;34m\u001b[0m\u001b[0m\n\u001b[0;32m--> 936\u001b[0;31m         \u001b[0mself\u001b[0m\u001b[0;34m.\u001b[0m\u001b[0m_make_engine\u001b[0m\u001b[0;34m(\u001b[0m\u001b[0mself\u001b[0m\u001b[0;34m.\u001b[0m\u001b[0mengine\u001b[0m\u001b[0;34m)\u001b[0m\u001b[0;34m\u001b[0m\u001b[0;34m\u001b[0m\u001b[0m\n\u001b[0m\u001b[1;32m    937\u001b[0m \u001b[0;34m\u001b[0m\u001b[0m\n\u001b[1;32m    938\u001b[0m     \u001b[0;32mdef\u001b[0m \u001b[0mclose\u001b[0m\u001b[0;34m(\u001b[0m\u001b[0mself\u001b[0m\u001b[0;34m)\u001b[0m\u001b[0;34m:\u001b[0m\u001b[0;34m\u001b[0m\u001b[0;34m\u001b[0m\u001b[0m\n",
      "\u001b[0;32m/Library/Frameworks/Python.framework/Versions/3.8/lib/python3.8/site-packages/pandas/io/parsers.py\u001b[0m in \u001b[0;36m_make_engine\u001b[0;34m(self, engine)\u001b[0m\n\u001b[1;32m   1166\u001b[0m     \u001b[0;32mdef\u001b[0m \u001b[0m_make_engine\u001b[0m\u001b[0;34m(\u001b[0m\u001b[0mself\u001b[0m\u001b[0;34m,\u001b[0m \u001b[0mengine\u001b[0m\u001b[0;34m=\u001b[0m\u001b[0;34m\"c\"\u001b[0m\u001b[0;34m)\u001b[0m\u001b[0;34m:\u001b[0m\u001b[0;34m\u001b[0m\u001b[0;34m\u001b[0m\u001b[0m\n\u001b[1;32m   1167\u001b[0m         \u001b[0;32mif\u001b[0m \u001b[0mengine\u001b[0m \u001b[0;34m==\u001b[0m \u001b[0;34m\"c\"\u001b[0m\u001b[0;34m:\u001b[0m\u001b[0;34m\u001b[0m\u001b[0;34m\u001b[0m\u001b[0m\n\u001b[0;32m-> 1168\u001b[0;31m             \u001b[0mself\u001b[0m\u001b[0;34m.\u001b[0m\u001b[0m_engine\u001b[0m \u001b[0;34m=\u001b[0m \u001b[0mCParserWrapper\u001b[0m\u001b[0;34m(\u001b[0m\u001b[0mself\u001b[0m\u001b[0;34m.\u001b[0m\u001b[0mf\u001b[0m\u001b[0;34m,\u001b[0m \u001b[0;34m**\u001b[0m\u001b[0mself\u001b[0m\u001b[0;34m.\u001b[0m\u001b[0moptions\u001b[0m\u001b[0;34m)\u001b[0m\u001b[0;34m\u001b[0m\u001b[0;34m\u001b[0m\u001b[0m\n\u001b[0m\u001b[1;32m   1169\u001b[0m         \u001b[0;32melse\u001b[0m\u001b[0;34m:\u001b[0m\u001b[0;34m\u001b[0m\u001b[0;34m\u001b[0m\u001b[0m\n\u001b[1;32m   1170\u001b[0m             \u001b[0;32mif\u001b[0m \u001b[0mengine\u001b[0m \u001b[0;34m==\u001b[0m \u001b[0;34m\"python\"\u001b[0m\u001b[0;34m:\u001b[0m\u001b[0;34m\u001b[0m\u001b[0;34m\u001b[0m\u001b[0m\n",
      "\u001b[0;32m/Library/Frameworks/Python.framework/Versions/3.8/lib/python3.8/site-packages/pandas/io/parsers.py\u001b[0m in \u001b[0;36m__init__\u001b[0;34m(self, src, **kwds)\u001b[0m\n\u001b[1;32m   1996\u001b[0m         \u001b[0mkwds\u001b[0m\u001b[0;34m[\u001b[0m\u001b[0;34m\"usecols\"\u001b[0m\u001b[0;34m]\u001b[0m \u001b[0;34m=\u001b[0m \u001b[0mself\u001b[0m\u001b[0;34m.\u001b[0m\u001b[0musecols\u001b[0m\u001b[0;34m\u001b[0m\u001b[0;34m\u001b[0m\u001b[0m\n\u001b[1;32m   1997\u001b[0m \u001b[0;34m\u001b[0m\u001b[0m\n\u001b[0;32m-> 1998\u001b[0;31m         \u001b[0mself\u001b[0m\u001b[0;34m.\u001b[0m\u001b[0m_reader\u001b[0m \u001b[0;34m=\u001b[0m \u001b[0mparsers\u001b[0m\u001b[0;34m.\u001b[0m\u001b[0mTextReader\u001b[0m\u001b[0;34m(\u001b[0m\u001b[0msrc\u001b[0m\u001b[0;34m,\u001b[0m \u001b[0;34m**\u001b[0m\u001b[0mkwds\u001b[0m\u001b[0;34m)\u001b[0m\u001b[0;34m\u001b[0m\u001b[0;34m\u001b[0m\u001b[0m\n\u001b[0m\u001b[1;32m   1999\u001b[0m         \u001b[0mself\u001b[0m\u001b[0;34m.\u001b[0m\u001b[0munnamed_cols\u001b[0m \u001b[0;34m=\u001b[0m \u001b[0mself\u001b[0m\u001b[0;34m.\u001b[0m\u001b[0m_reader\u001b[0m\u001b[0;34m.\u001b[0m\u001b[0munnamed_cols\u001b[0m\u001b[0;34m\u001b[0m\u001b[0;34m\u001b[0m\u001b[0m\n\u001b[1;32m   2000\u001b[0m \u001b[0;34m\u001b[0m\u001b[0m\n",
      "\u001b[0;32mpandas/_libs/parsers.pyx\u001b[0m in \u001b[0;36mpandas._libs.parsers.TextReader.__cinit__\u001b[0;34m()\u001b[0m\n",
      "\u001b[0;31mEmptyDataError\u001b[0m: No columns to parse from file"
     ]
    }
   ],
   "source": [
    "# pprint(all_product_links_1[:50])\n",
    "import csv\n",
    "pprint(len(all_product_links_1))\n",
    "len(all_product_links_1) != len(set(all_product_links_1))\n",
    "pprint(all_product_links_1[: -50])\n",
    "with open('/Users/sz742/Desktop/all_product_links_1.csv', 'w') as f:\n",
    "    wr = csv.writer(f, dialect='excel')\n",
    "    wr.writerows(all_product_links_1)\n",
    "\n",
    "\n",
    "\n",
    "\n"
   ]
  },
  {
   "cell_type": "code",
   "execution_count": 179,
   "metadata": {},
   "outputs": [
    {
     "output_type": "error",
     "ename": "ParserError",
     "evalue": "Error tokenizing data. C error: Expected 105 fields in line 74, saw 112\n",
     "traceback": [
      "\u001b[0;31m---------------------------------------------------------------------------\u001b[0m",
      "\u001b[0;31mParserError\u001b[0m                               Traceback (most recent call last)",
      "\u001b[0;32m<ipython-input-179-ea0cad015975>\u001b[0m in \u001b[0;36m<module>\u001b[0;34m\u001b[0m\n\u001b[0;32m----> 1\u001b[0;31m \u001b[0mdf_all\u001b[0m \u001b[0;34m=\u001b[0m \u001b[0mpd\u001b[0m\u001b[0;34m.\u001b[0m\u001b[0mread_csv\u001b[0m\u001b[0;34m(\u001b[0m\u001b[0;34m\"/Users/sz742/Desktop/all_product_links_1.csv\"\u001b[0m\u001b[0;34m)\u001b[0m\u001b[0;34m\u001b[0m\u001b[0;34m\u001b[0m\u001b[0m\n\u001b[0m\u001b[1;32m      2\u001b[0m \u001b[0mdf_all\u001b[0m\u001b[0;34m.\u001b[0m\u001b[0mhead\u001b[0m\u001b[0;34m(\u001b[0m\u001b[0;34m)\u001b[0m\u001b[0;34m\u001b[0m\u001b[0;34m\u001b[0m\u001b[0m\n",
      "\u001b[0;32m/Library/Frameworks/Python.framework/Versions/3.8/lib/python3.8/site-packages/pandas/io/parsers.py\u001b[0m in \u001b[0;36mread_csv\u001b[0;34m(filepath_or_buffer, sep, delimiter, header, names, index_col, usecols, squeeze, prefix, mangle_dupe_cols, dtype, engine, converters, true_values, false_values, skipinitialspace, skiprows, skipfooter, nrows, na_values, keep_default_na, na_filter, verbose, skip_blank_lines, parse_dates, infer_datetime_format, keep_date_col, date_parser, dayfirst, cache_dates, iterator, chunksize, compression, thousands, decimal, lineterminator, quotechar, quoting, doublequote, escapechar, comment, encoding, dialect, error_bad_lines, warn_bad_lines, delim_whitespace, low_memory, memory_map, float_precision)\u001b[0m\n\u001b[1;32m    684\u001b[0m     )\n\u001b[1;32m    685\u001b[0m \u001b[0;34m\u001b[0m\u001b[0m\n\u001b[0;32m--> 686\u001b[0;31m     \u001b[0;32mreturn\u001b[0m \u001b[0m_read\u001b[0m\u001b[0;34m(\u001b[0m\u001b[0mfilepath_or_buffer\u001b[0m\u001b[0;34m,\u001b[0m \u001b[0mkwds\u001b[0m\u001b[0;34m)\u001b[0m\u001b[0;34m\u001b[0m\u001b[0;34m\u001b[0m\u001b[0m\n\u001b[0m\u001b[1;32m    687\u001b[0m \u001b[0;34m\u001b[0m\u001b[0m\n\u001b[1;32m    688\u001b[0m \u001b[0;34m\u001b[0m\u001b[0m\n",
      "\u001b[0;32m/Library/Frameworks/Python.framework/Versions/3.8/lib/python3.8/site-packages/pandas/io/parsers.py\u001b[0m in \u001b[0;36m_read\u001b[0;34m(filepath_or_buffer, kwds)\u001b[0m\n\u001b[1;32m    456\u001b[0m \u001b[0;34m\u001b[0m\u001b[0m\n\u001b[1;32m    457\u001b[0m     \u001b[0;32mtry\u001b[0m\u001b[0;34m:\u001b[0m\u001b[0;34m\u001b[0m\u001b[0;34m\u001b[0m\u001b[0m\n\u001b[0;32m--> 458\u001b[0;31m         \u001b[0mdata\u001b[0m \u001b[0;34m=\u001b[0m \u001b[0mparser\u001b[0m\u001b[0;34m.\u001b[0m\u001b[0mread\u001b[0m\u001b[0;34m(\u001b[0m\u001b[0mnrows\u001b[0m\u001b[0;34m)\u001b[0m\u001b[0;34m\u001b[0m\u001b[0;34m\u001b[0m\u001b[0m\n\u001b[0m\u001b[1;32m    459\u001b[0m     \u001b[0;32mfinally\u001b[0m\u001b[0;34m:\u001b[0m\u001b[0;34m\u001b[0m\u001b[0;34m\u001b[0m\u001b[0m\n\u001b[1;32m    460\u001b[0m         \u001b[0mparser\u001b[0m\u001b[0;34m.\u001b[0m\u001b[0mclose\u001b[0m\u001b[0;34m(\u001b[0m\u001b[0;34m)\u001b[0m\u001b[0;34m\u001b[0m\u001b[0;34m\u001b[0m\u001b[0m\n",
      "\u001b[0;32m/Library/Frameworks/Python.framework/Versions/3.8/lib/python3.8/site-packages/pandas/io/parsers.py\u001b[0m in \u001b[0;36mread\u001b[0;34m(self, nrows)\u001b[0m\n\u001b[1;32m   1184\u001b[0m     \u001b[0;32mdef\u001b[0m \u001b[0mread\u001b[0m\u001b[0;34m(\u001b[0m\u001b[0mself\u001b[0m\u001b[0;34m,\u001b[0m \u001b[0mnrows\u001b[0m\u001b[0;34m=\u001b[0m\u001b[0;32mNone\u001b[0m\u001b[0;34m)\u001b[0m\u001b[0;34m:\u001b[0m\u001b[0;34m\u001b[0m\u001b[0;34m\u001b[0m\u001b[0m\n\u001b[1;32m   1185\u001b[0m         \u001b[0mnrows\u001b[0m \u001b[0;34m=\u001b[0m \u001b[0m_validate_integer\u001b[0m\u001b[0;34m(\u001b[0m\u001b[0;34m\"nrows\"\u001b[0m\u001b[0;34m,\u001b[0m \u001b[0mnrows\u001b[0m\u001b[0;34m)\u001b[0m\u001b[0;34m\u001b[0m\u001b[0;34m\u001b[0m\u001b[0m\n\u001b[0;32m-> 1186\u001b[0;31m         \u001b[0mret\u001b[0m \u001b[0;34m=\u001b[0m \u001b[0mself\u001b[0m\u001b[0;34m.\u001b[0m\u001b[0m_engine\u001b[0m\u001b[0;34m.\u001b[0m\u001b[0mread\u001b[0m\u001b[0;34m(\u001b[0m\u001b[0mnrows\u001b[0m\u001b[0;34m)\u001b[0m\u001b[0;34m\u001b[0m\u001b[0;34m\u001b[0m\u001b[0m\n\u001b[0m\u001b[1;32m   1187\u001b[0m \u001b[0;34m\u001b[0m\u001b[0m\n\u001b[1;32m   1188\u001b[0m         \u001b[0;31m# May alter columns / col_dict\u001b[0m\u001b[0;34m\u001b[0m\u001b[0;34m\u001b[0m\u001b[0;34m\u001b[0m\u001b[0m\n",
      "\u001b[0;32m/Library/Frameworks/Python.framework/Versions/3.8/lib/python3.8/site-packages/pandas/io/parsers.py\u001b[0m in \u001b[0;36mread\u001b[0;34m(self, nrows)\u001b[0m\n\u001b[1;32m   2143\u001b[0m     \u001b[0;32mdef\u001b[0m \u001b[0mread\u001b[0m\u001b[0;34m(\u001b[0m\u001b[0mself\u001b[0m\u001b[0;34m,\u001b[0m \u001b[0mnrows\u001b[0m\u001b[0;34m=\u001b[0m\u001b[0;32mNone\u001b[0m\u001b[0;34m)\u001b[0m\u001b[0;34m:\u001b[0m\u001b[0;34m\u001b[0m\u001b[0;34m\u001b[0m\u001b[0m\n\u001b[1;32m   2144\u001b[0m         \u001b[0;32mtry\u001b[0m\u001b[0;34m:\u001b[0m\u001b[0;34m\u001b[0m\u001b[0;34m\u001b[0m\u001b[0m\n\u001b[0;32m-> 2145\u001b[0;31m             \u001b[0mdata\u001b[0m \u001b[0;34m=\u001b[0m \u001b[0mself\u001b[0m\u001b[0;34m.\u001b[0m\u001b[0m_reader\u001b[0m\u001b[0;34m.\u001b[0m\u001b[0mread\u001b[0m\u001b[0;34m(\u001b[0m\u001b[0mnrows\u001b[0m\u001b[0;34m)\u001b[0m\u001b[0;34m\u001b[0m\u001b[0;34m\u001b[0m\u001b[0m\n\u001b[0m\u001b[1;32m   2146\u001b[0m         \u001b[0;32mexcept\u001b[0m \u001b[0mStopIteration\u001b[0m\u001b[0;34m:\u001b[0m\u001b[0;34m\u001b[0m\u001b[0;34m\u001b[0m\u001b[0m\n\u001b[1;32m   2147\u001b[0m             \u001b[0;32mif\u001b[0m \u001b[0mself\u001b[0m\u001b[0;34m.\u001b[0m\u001b[0m_first_chunk\u001b[0m\u001b[0;34m:\u001b[0m\u001b[0;34m\u001b[0m\u001b[0;34m\u001b[0m\u001b[0m\n",
      "\u001b[0;32mpandas/_libs/parsers.pyx\u001b[0m in \u001b[0;36mpandas._libs.parsers.TextReader.read\u001b[0;34m()\u001b[0m\n",
      "\u001b[0;32mpandas/_libs/parsers.pyx\u001b[0m in \u001b[0;36mpandas._libs.parsers.TextReader._read_low_memory\u001b[0;34m()\u001b[0m\n",
      "\u001b[0;32mpandas/_libs/parsers.pyx\u001b[0m in \u001b[0;36mpandas._libs.parsers.TextReader._read_rows\u001b[0;34m()\u001b[0m\n",
      "\u001b[0;32mpandas/_libs/parsers.pyx\u001b[0m in \u001b[0;36mpandas._libs.parsers.TextReader._tokenize_rows\u001b[0;34m()\u001b[0m\n",
      "\u001b[0;32mpandas/_libs/parsers.pyx\u001b[0m in \u001b[0;36mpandas._libs.parsers.raise_parser_error\u001b[0;34m()\u001b[0m\n",
      "\u001b[0;31mParserError\u001b[0m: Error tokenizing data. C error: Expected 105 fields in line 74, saw 112\n"
     ]
    }
   ],
   "source": [
    "df_all = pd.read_csv(\"/Users/sz742/Desktop/all_product_links_1.csv\")\n",
    "df_all.head()"
   ]
  },
  {
   "source": [
    "How many products the following link has?"
   ],
   "cell_type": "markdown",
   "metadata": {}
  },
  {
   "cell_type": "code",
   "execution_count": 160,
   "metadata": {},
   "outputs": [
    {
     "output_type": "stream",
     "name": "stdout",
     "text": [
      "216\n"
     ]
    }
   ],
   "source": [
    "\n",
    "link = \"https://www.waitrose.com/ecom/shop/browse/groceries/fresh_and_chilled/fresh_meat/roasting_joints\"\n",
    "test_product_links = []\n",
    "test_product_links_1 = []\n",
    "driver.get(link)\n",
    "sleep(1)\n",
    "product_elem = driver.find_elements_by_css_selector(\"article section a\")\n",
    "        # print(product_elem)        \n",
    "for elem in product_elem:\n",
    "    t_product_links = elem.get_attribute('href')\n",
    "    test_product_links.append(t_product_links)\n",
    "print(len(test_product_links))\n",
    "for i in test_product_links:\n",
    "            #check startswith https://www.programiz.com/python-programming/methods/string/startswith\n",
    "    if i.startswith(\"https://www.waitrose.com/ecom/products/\"):\n",
    "        test_product_links_1.append(i)\n",
    "    else:\n",
    "        pass\n",
    "\n",
    "\n",
    "\n"
   ]
  },
  {
   "cell_type": "code",
   "execution_count": 144,
   "metadata": {},
   "outputs": [],
   "source": [
    "import pandas as pd\n",
    "len(test_product_links_1)\n",
    "#\n",
    "len(test_product_links_1) != len(set(test_product_links_1))\n",
    "df_link = pd.DataFrame(test_product_links_1)\n",
    "#test_product_links_1"
   ]
  },
  {
   "cell_type": "code",
   "execution_count": 161,
   "metadata": {},
   "outputs": [
    {
     "output_type": "stream",
     "name": "stdout",
     "text": [
      "https://www.waitrose.com/ecom/shop/browse/groceries/fresh_and_chilled/fresh_meat/roasting_joints\n",
      "216\n"
     ]
    }
   ],
   "source": [
    "\n",
    "\n",
    "link = \"https://www.waitrose.com/ecom/shop/browse/groceries/fresh_and_chilled/fresh_meat/roasting_joints\"\n",
    "\n",
    "test2_product_links = []\n",
    "test2_product_links_1 = []\n",
    "\n",
    "driver.get(link)\n",
    "print(link)\n",
    "sleep(1)\n",
    "product_elem = driver.find_elements_by_css_selector(\"article section a\")\n",
    "        # print(product_elem)        \n",
    "for elem in product_elem:\n",
    "    t_product_links = elem.get_attribute('href')\n",
    "    test2_product_links.append(t_product_links)\n",
    "print(len(test2_product_links))\n",
    "for i in test2_product_links:\n",
    "            #check startswith https://www.programiz.com/python-programming/methods/string/startswith\n",
    "    if i.startswith(\"https://www.waitrose.com/ecom/products/\"):\n",
    "        test2_product_links_1.append(i)\n",
    "    else:\n",
    "        pass"
   ]
  },
  {
   "cell_type": "code",
   "execution_count": 148,
   "metadata": {},
   "outputs": [
    {
     "output_type": "stream",
     "name": "stdout",
     "text": [
      "0\n"
     ]
    }
   ],
   "source": [
    "print(len(test2_product_links_1))"
   ]
  },
  {
   "cell_type": "code",
   "execution_count": 122,
   "metadata": {
    "tags": []
   },
   "outputs": [
    {
     "output_type": "stream",
     "name": "stdout",
     "text": [
      "106\n"
     ]
    },
    {
     "output_type": "execute_result",
     "data": {
      "text/plain": [
       "'https://www.waitrose.com/ecom/products/moving-mountains-2-plant-based-sausage-burgers/652322-731082-731083'"
      ]
     },
     "metadata": {},
     "execution_count": 122
    }
   ],
   "source": [
    "\n",
    "from pprint import pprint\n",
    "keep_only_products = \"https://www.waitrose.com/ecom/products/\"\n",
    "# pprint(all_product_links[:100])\n",
    "for i in all_product_links:\n",
    "    if i.startswith(\"https://www.waitrose.com/ecom/products/\"):\n",
    "        all_product_links_1\n",
    "    else:\n",
    "        pass\n",
    "print(len(all_product_links))\n",
    "all_product_links\n"
   ]
  },
  {
   "cell_type": "code",
   "execution_count": 33,
   "metadata": {},
   "outputs": [
    {
     "output_type": "stream",
     "name": "stdout",
     "text": [
      "80\n95\n94\n90\n76\n86\n91\n81\n100\n96\n101\n78\n77\n81\n88\n98\n92\n81\n104\n85\n75\n80\n"
     ]
    }
   ],
   "source": [
    "#trial works \n",
    "#get all the hrefs in a page where id = 'subcategoryList' \n",
    "element = driver.find_elements_by_xpath(\"//*[@id='subcategoryList']/li/a\") #to get all the items just use \"li\" instead of li[1], li[2] etc\n",
    "for elem in element:\n",
    "    product_lin = elem.get_attribute(\"href\")\n",
    "    print(product_lin)\n",
    "   \n"
   ]
  },
  {
   "source": [
    "## Trial Code"
   ],
   "cell_type": "markdown",
   "metadata": {}
  },
  {
   "cell_type": "code",
   "execution_count": 51,
   "metadata": {
    "tags": []
   },
   "outputs": [
    {
     "output_type": "stream",
     "name": "stdout",
     "text": [
      "['https://www.waitrose.com/ecom/shop/browse/groceries/fresh_and_chilled/fresh_meat', 'https://www.waitrose.com/ecom/shop/browse/groceries/fresh_and_chilled/fresh_chicken_and_poultry', 'https://www.waitrose.com/ecom/shop/browse/groceries/fresh_and_chilled/chilled_fish_and_seafood', 'https://www.waitrose.com/ecom/shop/browse/groceries/fresh_and_chilled/milk_butter_and_eggs', 'https://www.waitrose.com/ecom/shop/browse/groceries/fresh_and_chilled/cheese']\n",
      "https://www.waitrose.com/ecom/shop/browse/groceries/fresh_and_chilled/food_to_go\n"
     ]
    }
   ],
   "source": [
    "# trial works\n",
    "#collecting links for sub subcategories\n",
    "def categories():\n",
    "    categories = level1_cat\n",
    "    subcategories = level2_cat\n",
    "    sub_subcategories = level3_cat\n",
    "\n",
    "level2_cat_links = []\n",
    "level3_cat_links = []\n",
    "for key in subcategoryDict:\n",
    "    for item in subcategoryDict[key]:\n",
    "        level2_cat_links.append(item)\n",
    "print(level2_cat_links[:5])\n",
    "for i in level2_cat_links:\n",
    "    driver.get(i)\n",
    "    sleep(1)\n",
    "    level3_cat_elements = driver.find_elements_by_xpath(\"//*[@id='subcategoryList']/li/a\") #to get all the items just use \"li\" instead of li[1], li[2] etc\n",
    "    for elem in level3_cat_elements:\n",
    "        level3_cat_product_links = elem.get_attribute(\"href\")\n",
    "        level3_cat_links.append(level3_cat_product_links)\n",
    "        \n",
    "  \n",
    "print(level3_cat_links)\n",
    "# /html/body/div[2]/div/div[2]/main/div[3]/header/div[4]/nav/div/div/div/div/div[1]/ul/li[1]/a\n"
   ]
  },
  {
   "cell_type": "code",
   "execution_count": 53,
   "metadata": {
    "tags": []
   },
   "outputs": [
    {
     "output_type": "stream",
     "name": "stdout",
     "text": [
      "457\n"
     ]
    }
   ],
   "source": [
    "print(len(level3_cat_links))"
   ]
  },
  {
   "cell_type": "code",
   "execution_count": 58,
   "metadata": {},
   "outputs": [],
   "source": [
    "def find_hrefs2_for_all_items_in_the_page():\n",
    "    '''\n",
    "    This function finds all the links to the product items in the level3_cat_links and save them as products_list \n",
    "    product link XPATH /html/body/div[2]/div/div[2]/main/div[5]/div[2]/div/div[1]/article[1]/div/section[1]/div[2]/a/div[2]/div/picture/div/source\n",
    "    '''\n",
    "    products_list = []\n",
    "    for i in level3_cat_links:\n",
    "        driver.get(i)\n",
    "        for x in range(1, 100):\n",
    "            xpath = \"/html/body/div[2]/div/div/main/div/div[3]/div[2]/div/div[1]/article[\"\n",
    "            # xpath += str(x)\n",
    "            xpath += \"]/div/section[1]/div[2]/a\"\n",
    "            product_elem = driver.find_elements_by_xpath(xpath)\n",
    "            \n",
    "            for elem in product_elem:\n",
    "                results = elem.get_attribute(\"href\")\n",
    "                products_list.append(results)\n",
    "\n"
   ]
  },
  {
   "cell_type": "code",
   "execution_count": 92,
   "metadata": {
    "tags": [
     "outputPrepend"
    ]
   },
   "outputs": [
    {
     "output_type": "stream",
     "name": "stdout",
     "text": [
      "s/waitrose-crackling-pork-boneless-leg-roast/050735-25241-25242\n",
      "https://www.waitrose.com/ecom/shop/offers/364445\n",
      "https://www.waitrose.com/ecom/products/waitrose-crackling-pork-boneless-leg-roast/050735-25241-25242\n",
      "https://www.waitrose.com/ecom/products/essential-british-chicken-large/645021-507910-507911\n",
      "https://www.waitrose.com/ecom/products/essential-british-chicken-large/645021-507910-507911\n",
      "https://www.waitrose.com/ecom/products/essential-british-chicken-large/645021-507910-507911\n",
      "https://www.waitrose.com/ecom/products/essential-british-chicken-large/645021-507910-507911\n",
      "https://www.waitrose.com/ecom/products/no1-corn-fed-free-range-whole-chicken/037011-18529-18530\n",
      "https://www.waitrose.com/ecom/products/no1-corn-fed-free-range-whole-chicken/037011-18529-18530\n",
      "https://www.waitrose.com/ecom/products/no1-corn-fed-free-range-whole-chicken/037011-18529-18530\n",
      "https://www.waitrose.com/ecom/products/no1-corn-fed-free-range-whole-chicken/037011-18529-18530\n",
      "https://www.waitrose.com/ecom/products/duchy-organic-free-range-british-whole-chicken/078250-39829-39830\n",
      "https://www.waitrose.com/ecom/products/duchy-organic-free-range-british-whole-chicken/078250-39829-39830\n",
      "https://www.waitrose.com/ecom/products/duchy-organic-free-range-british-whole-chicken/078250-39829-39830\n",
      "https://www.waitrose.com/ecom/products/duchy-organic-free-range-british-whole-chicken/078250-39829-39830\n",
      "https://www.waitrose.com/ecom/products/waitrose-2-british-lamb-leg-shanks/097484-49773-49774\n",
      "https://www.waitrose.com/ecom/shop/offers/366759\n",
      "https://www.waitrose.com/ecom/products/waitrose-2-british-lamb-leg-shanks/097484-49773-49774\n",
      "https://www.waitrose.com/ecom/products/waitrose-2-british-lamb-leg-shanks/097484-49773-49774\n",
      "https://www.waitrose.com/ecom/shop/offers/366759\n",
      "https://www.waitrose.com/ecom/products/waitrose-2-british-lamb-leg-shanks/097484-49773-49774\n",
      "https://www.waitrose.com/ecom/products/essential-british-medium-whole-chicken/845051-714666-714667\n",
      "https://www.waitrose.com/ecom/products/essential-british-medium-whole-chicken/845051-714666-714667\n",
      "https://www.waitrose.com/ecom/products/essential-british-medium-whole-chicken/845051-714666-714667\n",
      "https://www.waitrose.com/ecom/products/essential-british-medium-whole-chicken/845051-714666-714667\n",
      "https://www.waitrose.com/ecom/products/essential-british-beef-topside-small/015790-7563-7564\n",
      "https://www.waitrose.com/ecom/products/essential-british-beef-topside-small/015790-7563-7564\n",
      "https://www.waitrose.com/ecom/products/essential-british-beef-topside-small/015790-7563-7564\n",
      "https://www.waitrose.com/ecom/products/essential-british-beef-topside-small/015790-7563-7564\n",
      "https://www.waitrose.com/ecom/products/waitrose-welsh-extra-trimmed-rack-of-lamb/051312-25535-25536\n",
      "https://www.waitrose.com/ecom/products/waitrose-welsh-extra-trimmed-rack-of-lamb/051312-25535-25536\n",
      "https://www.waitrose.com/ecom/products/waitrose-welsh-extra-trimmed-rack-of-lamb/051312-25535-25536\n",
      "https://www.waitrose.com/ecom/products/waitrose-welsh-extra-trimmed-rack-of-lamb/051312-25535-25536\n",
      "https://www.waitrose.com/ecom/products/essential-british-beef-topside-large/073666-37372-37373\n",
      "https://www.waitrose.com/ecom/products/essential-british-beef-topside-large/073666-37372-37373\n",
      "https://www.waitrose.com/ecom/products/essential-british-beef-topside-large/073666-37372-37373\n",
      "https://www.waitrose.com/ecom/products/essential-british-beef-topside-large/073666-37372-37373\n",
      "https://www.waitrose.com/ecom/products/maille-mustard-with-green-pepper/862157-744111-744112\n",
      "https://www.waitrose.com/ecom/products/maille-mustard-with-green-pepper/862157-744111-744112\n",
      "https://www.waitrose.com/ecom/products/maille-traditional-dijon-mustard/640230-90937-90938\n",
      "https://www.waitrose.com/ecom/products/maille-traditional-dijon-mustard/640230-90937-90938\n",
      "https://www.waitrose.com/ecom/products/maille-traditional-dijon-mustard/640230-90937-90938\n",
      "https://www.waitrose.com/ecom/products/maille-wholegrain-mustard/482549-125381-125382\n",
      "https://www.waitrose.com/ecom/products/maille-wholegrain-mustard/482549-125381-125382\n",
      "https://www.waitrose.com/ecom/products/maille-wholegrain-mustard/482549-125381-125382\n",
      "https://www.waitrose.com/ecom/products/maille-mustard-with-honey/797759-343442-343443\n",
      "https://www.waitrose.com/ecom/products/maille-mustard-with-honey/797759-343442-343443\n",
      "https://www.waitrose.com/ecom/products/maille-mustard-with-honey/797759-343442-343443\n",
      "https://www.waitrose.com/ecom/products/knorr-chicken-stock-pot/651993-92539-92540\n",
      "https://www.waitrose.com/ecom/products/knorr-chicken-stock-pot/651993-92539-92540\n",
      "https://www.waitrose.com/ecom/products/knorr-chicken-stock-pot/651993-92539-92540\n",
      "https://www.waitrose.com/ecom/products/knorr-the-vegetable-cube-20s/881317-628522-628523\n",
      "https://www.waitrose.com/ecom/products/knorr-the-vegetable-cube-20s/881317-628522-628523\n",
      "https://www.waitrose.com/ecom/products/knorr-the-vegetable-cube-20s/881317-628522-628523\n",
      "https://www.waitrose.com/ecom/products/waitrose-welsh-lamb-half-leg/094782-48618-48619\n",
      "https://www.waitrose.com/ecom/products/waitrose-welsh-lamb-half-leg/094782-48618-48619\n",
      "https://www.waitrose.com/ecom/products/waitrose-welsh-lamb-half-leg/094782-48618-48619\n",
      "https://www.waitrose.com/ecom/products/waitrose-welsh-lamb-half-leg/094782-48618-48619\n",
      "https://www.waitrose.com/ecom/products/duchy-from-waitrose-british-lamb-half-leg/018427-425748-8914\n",
      "https://www.waitrose.com/ecom/products/duchy-from-waitrose-british-lamb-half-leg/018427-425748-8914\n",
      "https://www.waitrose.com/ecom/products/duchy-from-waitrose-british-lamb-half-leg/018427-425748-8914\n",
      "https://www.waitrose.com/ecom/products/duchy-from-waitrose-british-lamb-half-leg/018427-425748-8914\n",
      "https://www.waitrose.com/ecom/products/no1-free-range-pork-fillet/080694-41081-41082\n",
      "https://www.waitrose.com/ecom/products/no1-free-range-pork-fillet/080694-41081-41082\n",
      "https://www.waitrose.com/ecom/products/no1-free-range-pork-fillet/080694-41081-41082\n",
      "https://www.waitrose.com/ecom/products/no1-free-range-pork-fillet/080694-41081-41082\n",
      "https://www.waitrose.com/ecom/products/waitrose-british-boneless-pork-loin-roast/095771-49071-49072\n",
      "https://www.waitrose.com/ecom/products/waitrose-british-boneless-pork-loin-roast/095771-49071-49072\n",
      "https://www.waitrose.com/ecom/products/waitrose-british-boneless-pork-loin-roast/095771-49071-49072\n",
      "https://www.waitrose.com/ecom/products/waitrose-british-boneless-pork-loin-roast/095771-49071-49072\n",
      "https://www.waitrose.com/ecom/products/waitrose-whole-british-chicken-with-garlic-and-herbs/807792-620075-620076\n",
      "https://www.waitrose.com/ecom/products/waitrose-whole-british-chicken-with-garlic-and-herbs/807792-620075-620076\n",
      "https://www.waitrose.com/ecom/products/waitrose-whole-british-chicken-with-garlic-and-herbs/807792-620075-620076\n",
      "https://www.waitrose.com/ecom/products/waitrose-whole-british-chicken-with-garlic-and-herbs/807792-620075-620076\n",
      "https://www.waitrose.com/ecom/products/waitrose-stock-brined-whole-british-chicken/488582-400123-400124\n",
      "https://www.waitrose.com/ecom/products/waitrose-stock-brined-whole-british-chicken/488582-400123-400124\n",
      "https://www.waitrose.com/ecom/products/waitrose-stock-brined-whole-british-chicken/488582-400123-400124\n",
      "https://www.waitrose.com/ecom/products/waitrose-stock-brined-whole-british-chicken/488582-400123-400124\n",
      "https://www.waitrose.com/ecom/products/duchy-from-waitrose-british-beef-roasting-joint/004242-1739-1740\n",
      "https://www.waitrose.com/ecom/products/duchy-from-waitrose-british-beef-roasting-joint/004242-1739-1740\n",
      "https://www.waitrose.com/ecom/products/duchy-from-waitrose-british-beef-roasting-joint/004242-1739-1740\n",
      "https://www.waitrose.com/ecom/products/duchy-from-waitrose-british-beef-roasting-joint/004242-1739-1740\n",
      "https://www.waitrose.com/ecom/products/essential-unsmoked-british-gammon-joint/039951-19764-19765\n",
      "https://www.waitrose.com/ecom/products/essential-unsmoked-british-gammon-joint/039951-19764-19765\n",
      "https://www.waitrose.com/ecom/products/essential-unsmoked-british-gammon-joint/039951-19764-19765\n",
      "https://www.waitrose.com/ecom/products/essential-unsmoked-british-gammon-joint/039951-19764-19765\n",
      "https://www.waitrose.com/ecom/products/no1-cote-de-boeuf/439242-497654-497655\n",
      "https://www.waitrose.com/ecom/products/no1-cote-de-boeuf/439242-497654-497655\n",
      "https://www.waitrose.com/ecom/products/no1-cote-de-boeuf/439242-497654-497655\n",
      "https://www.waitrose.com/ecom/products/no1-cote-de-boeuf/439242-497654-497655\n",
      "https://www.waitrose.com/ecom/products/easy-to-cook-butter-chicken-breast-joint/025848-12608-12609\n",
      "https://www.waitrose.com/ecom/products/easy-to-cook-butter-chicken-breast-joint/025848-12608-12609\n",
      "https://www.waitrose.com/ecom/products/easy-to-cook-butter-chicken-breast-joint/025848-12608-12609\n",
      "https://www.waitrose.com/ecom/products/easy-to-cook-butter-chicken-breast-joint/025848-12608-12609\n",
      "https://www.waitrose.com/ecom/products/gressingham-corn-fed-poussin/496539-187381-187382\n",
      "https://www.waitrose.com/ecom/products/gressingham-corn-fed-poussin/496539-187381-187382\n",
      "https://www.waitrose.com/ecom/products/gressingham-corn-fed-poussin/496539-187381-187382\n",
      "https://www.waitrose.com/ecom/products/gressingham-corn-fed-poussin/496539-187381-187382\n",
      "https://www.waitrose.com/ecom/products/essential-british-chicken-extra-large/754693-507938-507939\n",
      "https://www.waitrose.com/ecom/products/essential-british-chicken-extra-large/754693-507938-507939\n",
      "https://www.waitrose.com/ecom/products/essential-british-chicken-extra-large/754693-507938-507939\n",
      "https://www.waitrose.com/ecom/products/essential-british-chicken-extra-large/754693-507938-507939\n",
      "https://www.waitrose.com/ecom/products/waitrose-succulent-whole-welsh-leg-of-lamb/094750-48604-48605\n",
      "https://www.waitrose.com/ecom/products/waitrose-succulent-whole-welsh-leg-of-lamb/094750-48604-48605\n",
      "https://www.waitrose.com/ecom/products/waitrose-succulent-whole-welsh-leg-of-lamb/094750-48604-48605\n",
      "https://www.waitrose.com/ecom/products/waitrose-succulent-whole-welsh-leg-of-lamb/094750-48604-48605\n",
      "https://www.waitrose.com/ecom/products/easy-to-cook-gammon-joint-with-maple-syrup-glaze/084207-42765-42766\n",
      "https://www.waitrose.com/ecom/products/easy-to-cook-gammon-joint-with-maple-syrup-glaze/084207-42765-42766\n",
      "https://www.waitrose.com/ecom/products/easy-to-cook-gammon-joint-with-maple-syrup-glaze/084207-42765-42766\n",
      "https://www.waitrose.com/ecom/products/easy-to-cook-gammon-joint-with-maple-syrup-glaze/084207-42765-42766\n",
      "https://www.waitrose.com/ecom/products/gressingham-spatchcock-poussin-sea-salt-pepper/865793-187577-187578\n",
      "https://www.waitrose.com/ecom/products/gressingham-spatchcock-poussin-sea-salt-pepper/865793-187577-187578\n",
      "https://www.waitrose.com/ecom/products/gressingham-spatchcock-poussin-sea-salt-pepper/865793-187577-187578\n",
      "https://www.waitrose.com/ecom/products/gressingham-spatchcock-poussin-sea-salt-pepper/865793-187577-187578\n",
      "https://www.waitrose.com/ecom/products/easy-to-cook-lamb-joint-with-redcurrant-rosemary/007174-3287-3288\n",
      "https://www.waitrose.com/ecom/products/easy-to-cook-lamb-joint-with-redcurrant-rosemary/007174-3287-3288\n",
      "https://www.waitrose.com/ecom/products/easy-to-cook-lamb-joint-with-redcurrant-rosemary/007174-3287-3288\n",
      "https://www.waitrose.com/ecom/products/easy-to-cook-lamb-joint-with-redcurrant-rosemary/007174-3287-3288\n",
      "https://www.waitrose.com/ecom/products/essential-smoked-british-gammon-joint/039901-19736-19737\n",
      "https://www.waitrose.com/ecom/products/essential-smoked-british-gammon-joint/039901-19736-19737\n",
      "https://www.waitrose.com/ecom/products/essential-smoked-british-gammon-joint/039901-19736-19737\n",
      "https://www.waitrose.com/ecom/products/essential-smoked-british-gammon-joint/039901-19736-19737\n",
      "https://www.waitrose.com/ecom/products/essential-british-lamb-whole-shoulder/094702-48570-48571\n",
      "https://www.waitrose.com/ecom/products/essential-british-lamb-whole-shoulder/094702-48570-48571\n",
      "https://www.waitrose.com/ecom/products/essential-british-lamb-whole-shoulder/094702-48570-48571\n",
      "https://www.waitrose.com/ecom/products/essential-british-lamb-whole-shoulder/094702-48570-48571\n",
      "https://www.waitrose.com/ecom/products/waitrose-boneless-extra-trim-british-half-leg-of-lamb/094778-48616-48617\n",
      "https://www.waitrose.com/ecom/products/waitrose-boneless-extra-trim-british-half-leg-of-lamb/094778-48616-48617\n",
      "https://www.waitrose.com/ecom/products/waitrose-boneless-extra-trim-british-half-leg-of-lamb/094778-48616-48617\n",
      "https://www.waitrose.com/ecom/products/waitrose-boneless-extra-trim-british-half-leg-of-lamb/094778-48616-48617\n",
      "https://www.waitrose.com/ecom/products/waitrose-duchy-rack-of-lamb/882964-581686-581687\n",
      "https://www.waitrose.com/ecom/products/waitrose-duchy-rack-of-lamb/882964-581686-581687\n",
      "https://www.waitrose.com/ecom/products/waitrose-duchy-rack-of-lamb/882964-581686-581687\n",
      "https://www.waitrose.com/ecom/products/waitrose-duchy-rack-of-lamb/882964-581686-581687\n",
      "https://www.waitrose.com/ecom/products/no1-free-range-guinea-fowl/851008-230069-230070\n",
      "https://www.waitrose.com/ecom/products/no1-free-range-guinea-fowl/851008-230069-230070\n",
      "https://www.waitrose.com/ecom/products/no1-free-range-guinea-fowl/851008-230069-230070\n",
      "https://www.waitrose.com/ecom/products/no1-free-range-guinea-fowl/851008-230069-230070\n",
      "https://www.waitrose.com/ecom/products/british-pork-shoulder-with-apple-and-sage-stuffing/035680-17948-17949\n",
      "https://www.waitrose.com/ecom/products/british-pork-shoulder-with-apple-and-sage-stuffing/035680-17948-17949\n",
      "https://www.waitrose.com/ecom/products/british-pork-shoulder-with-apple-and-sage-stuffing/035680-17948-17949\n",
      "https://www.waitrose.com/ecom/products/british-pork-shoulder-with-apple-and-sage-stuffing/035680-17948-17949\n",
      "https://www.waitrose.com/ecom/products/easy-to-cook-whole-deboned-chicken-with-honey/639371-151587-151588\n",
      "https://www.waitrose.com/ecom/products/easy-to-cook-whole-deboned-chicken-with-honey/639371-151587-151588\n",
      "https://www.waitrose.com/ecom/products/easy-to-cook-whole-deboned-chicken-with-honey/639371-151587-151588\n",
      "https://www.waitrose.com/ecom/products/easy-to-cook-whole-deboned-chicken-with-honey/639371-151587-151588\n",
      "https://www.waitrose.com/ecom/products/waitrose-hereford-beef-topside-large/082972-42163-42164\n",
      "https://www.waitrose.com/ecom/products/waitrose-hereford-beef-topside-large/082972-42163-42164\n",
      "https://www.waitrose.com/ecom/products/waitrose-hereford-beef-topside-large/082972-42163-42164\n",
      "https://www.waitrose.com/ecom/products/waitrose-hereford-beef-topside-large/082972-42163-42164\n",
      "https://www.waitrose.com/ecom/products/waitrose-whole-british-chicken-with-pork-stuffing/841563-620157-620158\n",
      "https://www.waitrose.com/ecom/products/waitrose-whole-british-chicken-with-pork-stuffing/841563-620157-620158\n",
      "https://www.waitrose.com/ecom/products/waitrose-whole-british-chicken-with-pork-stuffing/841563-620157-620158\n",
      "https://www.waitrose.com/ecom/products/waitrose-whole-british-chicken-with-pork-stuffing/841563-620157-620158\n",
      "https://www.waitrose.com/ecom/products/no1-dry-aged-sirloin-of-beef-roasting-joint/412266-702423-702424\n",
      "https://www.waitrose.com/ecom/products/no1-dry-aged-sirloin-of-beef-roasting-joint/412266-702423-702424\n",
      "https://www.waitrose.com/ecom/products/no1-dry-aged-sirloin-of-beef-roasting-joint/412266-702423-702424\n",
      "https://www.waitrose.com/ecom/products/no1-dry-aged-sirloin-of-beef-roasting-joint/412266-702423-702424\n",
      "https://www.waitrose.com/ecom/products/no1-free-range-unsmoked-english-gammon/099005-50469-50470\n",
      "https://www.waitrose.com/ecom/products/no1-free-range-unsmoked-english-gammon/099005-50469-50470\n",
      "https://www.waitrose.com/ecom/products/no1-free-range-unsmoked-english-gammon/099005-50469-50470\n",
      "https://www.waitrose.com/ecom/products/no1-free-range-unsmoked-english-gammon/099005-50469-50470\n",
      "https://www.waitrose.com/ecom/products/waitrose-hereford-beef-flat-brisket/879595-294349-294350\n",
      "https://www.waitrose.com/ecom/products/waitrose-hereford-beef-flat-brisket/879595-294349-294350\n",
      "https://www.waitrose.com/ecom/products/waitrose-hereford-beef-flat-brisket/879595-294349-294350\n",
      "https://www.waitrose.com/ecom/products/waitrose-hereford-beef-flat-brisket/879595-294349-294350\n",
      "https://www.waitrose.com/ecom/products/no1-free-range-smoked-english-gammon/054036-27105-27106\n",
      "https://www.waitrose.com/ecom/products/no1-free-range-smoked-english-gammon/054036-27105-27106\n",
      "https://www.waitrose.com/ecom/products/no1-free-range-smoked-english-gammon/054036-27105-27106\n",
      "https://www.waitrose.com/ecom/products/no1-free-range-smoked-english-gammon/054036-27105-27106\n",
      "https://www.waitrose.com/ecom/products/waitrose-beef-top-rump-with-horseradish-butter/466627-676908-676909\n",
      "https://www.waitrose.com/ecom/products/waitrose-beef-top-rump-with-horseradish-butter/466627-676908-676909\n",
      "https://www.waitrose.com/ecom/products/waitrose-beef-top-rump-with-horseradish-butter/466627-676908-676909\n",
      "https://www.waitrose.com/ecom/products/waitrose-beef-top-rump-with-horseradish-butter/466627-676908-676909\n",
      "https://www.waitrose.com/ecom/products/essential-british-pork-shoulder-joint/521224-721214-721215\n",
      "https://www.waitrose.com/ecom/products/essential-british-pork-shoulder-joint/521224-721214-721215\n",
      "https://www.waitrose.com/ecom/products/essential-british-pork-shoulder-joint/521224-721214-721215\n",
      "https://www.waitrose.com/ecom/products/essential-british-pork-shoulder-joint/521224-721214-721215\n",
      "https://www.waitrose.com/ecom/products/waitrose-british-extra-trimmed-whole-boneless-leg/003664-1505-1506\n",
      "https://www.waitrose.com/ecom/products/waitrose-british-extra-trimmed-whole-boneless-leg/003664-1505-1506\n",
      "https://www.waitrose.com/ecom/products/waitrose-british-extra-trimmed-whole-boneless-leg/003664-1505-1506\n",
      "https://www.waitrose.com/ecom/products/waitrose-british-extra-trimmed-whole-boneless-leg/003664-1505-1506\n",
      "https://www.waitrose.com/ecom/products/waitrose-unsmoked-gammon-joint-dry-cured/552334-78073-78074\n",
      "https://www.waitrose.com/ecom/products/waitrose-unsmoked-gammon-joint-dry-cured/552334-78073-78074\n",
      "https://www.waitrose.com/ecom/products/waitrose-unsmoked-gammon-joint-dry-cured/552334-78073-78074\n",
      "https://www.waitrose.com/ecom/products/waitrose-unsmoked-gammon-joint-dry-cured/552334-78073-78074\n",
      "https://www.waitrose.com/ecom/products/easy-to-cook-whole-deboned-chicken-with-tomato/053634-26875-26876\n",
      "https://www.waitrose.com/ecom/products/easy-to-cook-whole-deboned-chicken-with-tomato/053634-26875-26876\n",
      "https://www.waitrose.com/ecom/products/easy-to-cook-whole-deboned-chicken-with-tomato/053634-26875-26876\n",
      "https://www.waitrose.com/ecom/products/easy-to-cook-whole-deboned-chicken-with-tomato/053634-26875-26876\n",
      "https://www.waitrose.com/ecom/products/waitrose-british-beef-meatloaf/804817-676936-676937\n",
      "https://www.waitrose.com/ecom/products/waitrose-british-beef-meatloaf/804817-676936-676937\n",
      "https://www.waitrose.com/ecom/products/waitrose-british-beef-meatloaf/804817-676936-676937\n",
      "https://www.waitrose.com/ecom/products/waitrose-british-beef-meatloaf/804817-676936-676937\n",
      "https://www.waitrose.com/ecom/products/duchy-from-waitrose-british-lamb-leg-shanks/653535-92781-92782\n",
      "https://www.waitrose.com/ecom/products/duchy-from-waitrose-british-lamb-leg-shanks/653535-92781-92782\n",
      "https://www.waitrose.com/ecom/products/duchy-from-waitrose-british-lamb-leg-shanks/653535-92781-92782\n",
      "https://www.waitrose.com/ecom/products/duchy-from-waitrose-british-lamb-leg-shanks/653535-92781-92782\n",
      "https://www.waitrose.com/ecom/products/waitrose-boneless-leg-of-british-lamb-garlic-rosemary/827715-459974-459975\n",
      "https://www.waitrose.com/ecom/products/waitrose-boneless-leg-of-british-lamb-garlic-rosemary/827715-459974-459975\n",
      "https://www.waitrose.com/ecom/products/waitrose-boneless-leg-of-british-lamb-garlic-rosemary/827715-459974-459975\n",
      "https://www.waitrose.com/ecom/products/waitrose-boneless-leg-of-british-lamb-garlic-rosemary/827715-459974-459975\n",
      "https://www.waitrose.com/ecom/products/no1-pheasant-topped-with-bacon/078233-39825-39826\n",
      "https://www.waitrose.com/ecom/products/no1-pheasant-topped-with-bacon/078233-39825-39826\n",
      "https://www.waitrose.com/ecom/products/no1-pheasant-topped-with-bacon/078233-39825-39826\n",
      "https://www.waitrose.com/ecom/products/no1-pheasant-topped-with-bacon/078233-39825-39826\n"
     ]
    }
   ],
   "source": [
    "driver.get(\"https://www.waitrose.com/ecom/shop/browse/groceries/fresh_and_chilled/fresh_meat/roasting_joints\")\n",
    "# /html/body/div[2]/div/div/main/div[5]/div[2]/div/div[1]/article[1]/div/section[1]/div[2]/a\n",
    "\n",
    "# /html/body/div[2]/div/div/main/div[5]/div[2]/div/div[1]/article[10]/div/section[1]/div[2]/a\n",
    "# selector = #tPp645021-507910-507911 > div > section.details___1fZBF > div.image___1aDKB > a\n",
    "\n",
    "product_elem = driver.find_elements_by_css_selector(\"article section a\")\n",
    "# print(product_elem)        \n",
    "for elem in product_elem:\n",
    "    results = elem.get_attribute('href')\n",
    "    print(results) \n",
    "# list_of_products = []\n",
    "# for ab in results:\n",
    "#     if  \"https://www.waitrose.com/ecom/products/\" in ab: #https://stackabuse.com/python-check-if-string-contains-substring/\n",
    "#         list_of_products.append(ab)\n",
    "#     else:\n",
    "#         pass\n",
    "# len(list_of_products)\n",
    "# print(list_of_products)"
   ]
  },
  {
   "cell_type": "code",
   "execution_count": 93,
   "metadata": {},
   "outputs": [
    {
     "output_type": "execute_result",
     "data": {
      "text/plain": [
       "88"
      ]
     },
     "metadata": {},
     "execution_count": 93
    }
   ],
   "source": [
    "len(results)"
   ]
  },
  {
   "cell_type": "code",
   "execution_count": 74,
   "metadata": {},
   "outputs": [
    {
     "output_type": "stream",
     "name": "stdout",
     "text": [
      "[<selenium.webdriver.remote.webelement.WebElement (session=\"5d83d73cd49d299707cac2debf9735b4\", element=\"7151ddd0-d1a6-45cb-9d83-edde52a8f9d2\")>, <selenium.webdriver.remote.webelement.WebElement (session=\"5d83d73cd49d299707cac2debf9735b4\", element=\"386ce3e8-6b12-4fcf-8ae7-b6c1272c2d64\")>, <selenium.webdriver.remote.webelement.WebElement (session=\"5d83d73cd49d299707cac2debf9735b4\", element=\"5093e371-2817-4569-afe7-687c629d55b8\")>, <selenium.webdriver.remote.webelement.WebElement (session=\"5d83d73cd49d299707cac2debf9735b4\", element=\"82262da8-c9e9-4c79-b70a-0acb7201ba32\")>, <selenium.webdriver.remote.webelement.WebElement (session=\"5d83d73cd49d299707cac2debf9735b4\", element=\"a4aa14e1-7c34-4df7-bfac-a470e65f882c\")>, <selenium.webdriver.remote.webelement.WebElement (session=\"5d83d73cd49d299707cac2debf9735b4\", element=\"bb3fa801-8cb7-45d7-aeea-5c7f35cde1b0\")>, <selenium.webdriver.remote.webelement.WebElement (session=\"5d83d73cd49d299707cac2debf9735b4\", element=\"9a2a7ffb-2054-4d96-b42d-1c4880f6a73e\")>, <selenium.webdriver.remote.webelement.WebElement (session=\"5d83d73cd49d299707cac2debf9735b4\", element=\"2910064e-fa89-4bb4-b142-26def06998f7\")>, <selenium.webdriver.remote.webelement.WebElement (session=\"5d83d73cd49d299707cac2debf9735b4\", element=\"9db49c9a-35e9-44e2-9ac4-00ced88a8b5b\")>, <selenium.webdriver.remote.webelement.WebElement (session=\"5d83d73cd49d299707cac2debf9735b4\", element=\"c2bcc9b7-0a86-427d-8bd4-654d9fc38286\")>, <selenium.webdriver.remote.webelement.WebElement (session=\"5d83d73cd49d299707cac2debf9735b4\", element=\"bef0ca11-8e31-47cd-9295-75e93b869195\")>, <selenium.webdriver.remote.webelement.WebElement (session=\"5d83d73cd49d299707cac2debf9735b4\", element=\"aee58452-2887-474f-af32-ef1d9e8c72a2\")>, <selenium.webdriver.remote.webelement.WebElement (session=\"5d83d73cd49d299707cac2debf9735b4\", element=\"7e1a83a0-9f55-4a31-8efb-0a3cfce98544\")>, <selenium.webdriver.remote.webelement.WebElement (session=\"5d83d73cd49d299707cac2debf9735b4\", element=\"a76cf347-8d8d-45b2-b72a-ac620b3653ef\")>, <selenium.webdriver.remote.webelement.WebElement (session=\"5d83d73cd49d299707cac2debf9735b4\", element=\"7008ef4a-7e08-41e7-a8fc-339dd01793a3\")>, <selenium.webdriver.remote.webelement.WebElement (session=\"5d83d73cd49d299707cac2debf9735b4\", element=\"d05bb4d1-c254-41ee-8f03-1e5f0c2fcbbf\")>, <selenium.webdriver.remote.webelement.WebElement (session=\"5d83d73cd49d299707cac2debf9735b4\", element=\"64ad0a69-3dab-416b-812c-ba29ca041d9a\")>, <selenium.webdriver.remote.webelement.WebElement (session=\"5d83d73cd49d299707cac2debf9735b4\", element=\"76dc6212-44ed-43f4-abf1-fc66ad786f8c\")>, <selenium.webdriver.remote.webelement.WebElement (session=\"5d83d73cd49d299707cac2debf9735b4\", element=\"9714c2a7-6a1e-402f-b8c4-908ed91ffb8c\")>, <selenium.webdriver.remote.webelement.WebElement (session=\"5d83d73cd49d299707cac2debf9735b4\", element=\"45cbce59-0aa8-4461-b96e-75888ffbab83\")>, <selenium.webdriver.remote.webelement.WebElement (session=\"5d83d73cd49d299707cac2debf9735b4\", element=\"91f0b911-65a4-423e-b533-2517c2db6ef8\")>, <selenium.webdriver.remote.webelement.WebElement (session=\"5d83d73cd49d299707cac2debf9735b4\", element=\"dc12bbf4-1af6-4549-9094-441104d290d3\")>, <selenium.webdriver.remote.webelement.WebElement (session=\"5d83d73cd49d299707cac2debf9735b4\", element=\"da337426-9d5b-4039-a929-5cbaaff71472\")>, <selenium.webdriver.remote.webelement.WebElement (session=\"5d83d73cd49d299707cac2debf9735b4\", element=\"7c125a4f-60e8-47d0-82fc-c0c0ff90432f\")>, <selenium.webdriver.remote.webelement.WebElement (session=\"5d83d73cd49d299707cac2debf9735b4\", element=\"038e730a-7e61-420e-bd7b-dc35957afea5\")>, <selenium.webdriver.remote.webelement.WebElement (session=\"5d83d73cd49d299707cac2debf9735b4\", element=\"e44c895a-40a3-429a-836d-8de3b4c2b8b7\")>, <selenium.webdriver.remote.webelement.WebElement (session=\"5d83d73cd49d299707cac2debf9735b4\", element=\"5b961292-112f-4cd5-bd28-99347132ab08\")>, <selenium.webdriver.remote.webelement.WebElement (session=\"5d83d73cd49d299707cac2debf9735b4\", element=\"fc958fbf-715c-4de9-832d-0180f8390a9c\")>, <selenium.webdriver.remote.webelement.WebElement (session=\"5d83d73cd49d299707cac2debf9735b4\", element=\"87cdf7ac-c669-4963-9e8c-d3e583d78dd0\")>, <selenium.webdriver.remote.webelement.WebElement (session=\"5d83d73cd49d299707cac2debf9735b4\", element=\"3eef131a-bb37-47fe-8b8d-10a2ee7e7e2d\")>, <selenium.webdriver.remote.webelement.WebElement (session=\"5d83d73cd49d299707cac2debf9735b4\", element=\"e7f7625c-ac1e-444e-82fe-21ab0b0d3384\")>, <selenium.webdriver.remote.webelement.WebElement (session=\"5d83d73cd49d299707cac2debf9735b4\", element=\"cf3cc90d-f957-4336-a3d2-7859b29ea76c\")>, <selenium.webdriver.remote.webelement.WebElement (session=\"5d83d73cd49d299707cac2debf9735b4\", element=\"67da3fad-6a51-4b85-ac3c-6451d00f29a4\")>, <selenium.webdriver.remote.webelement.WebElement (session=\"5d83d73cd49d299707cac2debf9735b4\", element=\"8069202f-fb53-485c-a46b-e09f12483056\")>, <selenium.webdriver.remote.webelement.WebElement (session=\"5d83d73cd49d299707cac2debf9735b4\", element=\"cef68bfc-cc47-47b0-91fb-7dad90e25801\")>, <selenium.webdriver.remote.webelement.WebElement (session=\"5d83d73cd49d299707cac2debf9735b4\", element=\"bef9e230-ac43-4cb3-b70f-9fe4fb49abe1\")>, <selenium.webdriver.remote.webelement.WebElement (session=\"5d83d73cd49d299707cac2debf9735b4\", element=\"408edb03-c105-44b1-8bfa-899aeb355711\")>, <selenium.webdriver.remote.webelement.WebElement (session=\"5d83d73cd49d299707cac2debf9735b4\", element=\"1173c4a2-34e6-406a-88fc-955f2334e3a6\")>, <selenium.webdriver.remote.webelement.WebElement (session=\"5d83d73cd49d299707cac2debf9735b4\", element=\"b1d194fb-4a69-436b-a785-afe11cea2da0\")>, <selenium.webdriver.remote.webelement.WebElement (session=\"5d83d73cd49d299707cac2debf9735b4\", element=\"05ee9088-7005-45bf-b8a9-1249c17a3fb3\")>, <selenium.webdriver.remote.webelement.WebElement (session=\"5d83d73cd49d299707cac2debf9735b4\", element=\"9338ecf7-c933-48e6-b794-d7afed62e57e\")>, <selenium.webdriver.remote.webelement.WebElement (session=\"5d83d73cd49d299707cac2debf9735b4\", element=\"e2f4923e-a8a2-4545-b066-6fc577bce1e7\")>, <selenium.webdriver.remote.webelement.WebElement (session=\"5d83d73cd49d299707cac2debf9735b4\", element=\"6d80b9f7-22a0-4810-afd2-7ad83cf64627\")>, <selenium.webdriver.remote.webelement.WebElement (session=\"5d83d73cd49d299707cac2debf9735b4\", element=\"16b5d933-a92d-4b9d-bb79-6590e59dd178\")>, <selenium.webdriver.remote.webelement.WebElement (session=\"5d83d73cd49d299707cac2debf9735b4\", element=\"39633c41-06c8-477b-8076-fa54dc1700f2\")>, <selenium.webdriver.remote.webelement.WebElement (session=\"5d83d73cd49d299707cac2debf9735b4\", element=\"51c7bb0a-2d6b-47ec-a634-632edcc91dea\")>, <selenium.webdriver.remote.webelement.WebElement (session=\"5d83d73cd49d299707cac2debf9735b4\", element=\"624c7f5e-456e-4604-9a99-4b3741e7e7e0\")>, <selenium.webdriver.remote.webelement.WebElement (session=\"5d83d73cd49d299707cac2debf9735b4\", element=\"62a7e3ee-0d5f-4dac-bb4e-86f01a66784c\")>, <selenium.webdriver.remote.webelement.WebElement (session=\"5d83d73cd49d299707cac2debf9735b4\", element=\"ad8dd88b-1ce1-4ea6-a0ca-b5debd845096\")>, <selenium.webdriver.remote.webelement.WebElement (session=\"5d83d73cd49d299707cac2debf9735b4\", element=\"9e34e13f-0e09-46b4-a066-50068221c41c\")>, <selenium.webdriver.remote.webelement.WebElement (session=\"5d83d73cd49d299707cac2debf9735b4\", element=\"e7d957a2-5a76-43bb-9e8b-4b78d278934f\")>, <selenium.webdriver.remote.webelement.WebElement (session=\"5d83d73cd49d299707cac2debf9735b4\", element=\"7b8ee20d-11c0-4f1e-bc87-f5548f7056d9\")>, <selenium.webdriver.remote.webelement.WebElement (session=\"5d83d73cd49d299707cac2debf9735b4\", element=\"0a3860eb-fb42-4a53-8052-3e5f61c1d5f6\")>, <selenium.webdriver.remote.webelement.WebElement (session=\"5d83d73cd49d299707cac2debf9735b4\", element=\"102c2b5c-5fad-435e-8abe-18ce9168a6db\")>, <selenium.webdriver.remote.webelement.WebElement (session=\"5d83d73cd49d299707cac2debf9735b4\", element=\"2cf2205f-c981-4d33-a069-d5db278503fb\")>, <selenium.webdriver.remote.webelement.WebElement (session=\"5d83d73cd49d299707cac2debf9735b4\", element=\"17c5d84c-0db7-413c-a374-eec18db71373\")>, <selenium.webdriver.remote.webelement.WebElement (session=\"5d83d73cd49d299707cac2debf9735b4\", element=\"21efcf7c-d0f0-4a32-8d67-ff11654fb8ad\")>, <selenium.webdriver.remote.webelement.WebElement (session=\"5d83d73cd49d299707cac2debf9735b4\", element=\"349d570d-51ce-49af-ae44-46aa6fe52c62\")>, <selenium.webdriver.remote.webelement.WebElement (session=\"5d83d73cd49d299707cac2debf9735b4\", element=\"4e43f275-2c65-4d3f-a985-eeecd37d9ae1\")>, <selenium.webdriver.remote.webelement.WebElement (session=\"5d83d73cd49d299707cac2debf9735b4\", element=\"4ac8aa87-c896-4ef7-944b-c3cb3bd76250\")>, <selenium.webdriver.remote.webelement.WebElement (session=\"5d83d73cd49d299707cac2debf9735b4\", element=\"2f54fe4b-0f5c-4197-a959-e708184ccdb5\")>]\n"
     ]
    }
   ],
   "source": [
    "product_elem = driver.find_elements_by_tag_name(\"article\")\n",
    "\n",
    "print(product_elem)\n"
   ]
  },
  {
   "cell_type": "code",
   "execution_count": 68,
   "metadata": {},
   "outputs": [
    {
     "output_type": "stream",
     "name": "stdout",
     "text": [
      "https://www.waitrose.com/ecom/products/cooks-ingredients-porcini-mushrooms/011134-5532-5533\n"
     ]
    }
   ],
   "source": [
    "print(results)"
   ]
  },
  {
   "cell_type": "code",
   "execution_count": 22,
   "metadata": {},
   "outputs": [
    {
     "output_type": "stream",
     "name": "stdout",
     "text": [
      "fresh_and_chilled\nbakery\nfrozen\nfood_cupboard\n"
     ]
    }
   ],
   "source": [
    "#test \n",
    "#https://realpython.com/iterate-through-dictionary-python/\n",
    "for key in subcategoryDict:\n",
    "    print(key)\n",
    "    "
   ]
  },
  {
   "cell_type": "code",
   "execution_count": 244,
   "metadata": {},
   "outputs": [
    {
     "output_type": "stream",
     "name": "stdout",
     "text": [
      "['Frozen Fish & Seafood\\nFrozen Vegetables, Herbs & Rice\\nFrozen Fruits & Smoothie Mixes\\nFrozen Vegetarian Food\\nIce Cream, Frozen Yogurt & Sorbets']\n"
     ]
    }
   ],
   "source": [
    "print(subcategoryList[])"
   ]
  },
  {
   "cell_type": "code",
   "execution_count": 388,
   "metadata": {},
   "outputs": [
    {
     "output_type": "execute_result",
     "data": {
      "text/plain": [
       "'Bread\\nFresh Bread\\nRolls, Bagels & Thins\\nBaguettes, Ciabatta & Continental Breads\\nWraps, Tortillas & Pitta Bread\\nPart Baked Bread & Rolls\\nCakes & Tarts\\nBirthday & Celebration Cakes\\nDoughnuts, Muffins & Cookies\\nCroissants, Brioche & Pastries\\nCrumpets, Pancakes & Waffles'"
      ]
     },
     "metadata": {},
     "execution_count": 388
    }
   ],
   "source": [
    "df_sb_list = pd.DataFrame()\n",
    "# product_name_list2 = []\n",
    "# df_sb_list['fresh_and_chilled'] = df_sb_list['fresh_and_chilled'].str\n",
    "# .split(\"\\n\" )\n",
    "# # df_sb_list['fresh_and_chilled']\n",
    "# df2 = pd.DataFrame(df_sb_list.fresh_and_chilled.tolist(), index=fresh_and_chilled).stack().reset_index(level=1, drop=True)\n",
    "bakery \n"
   ]
  },
  {
   "cell_type": "code",
   "execution_count": 404,
   "metadata": {},
   "outputs": [],
   "source": [
    "#creating separate lists for each category from the dictionary\n",
    "fresh_and_chilled = subcategoryList[\"fresh_and_chilled\"]\n",
    "bakery =  subcategoryList[\"bakery\"]\n",
    "frozen = subcategoryList[\"frozen\"]\n",
    "food_cupboard = subcategoryList[\"food_cupboard\"]\n"
   ]
  },
  {
   "cell_type": "code",
   "execution_count": 405,
   "metadata": {},
   "outputs": [
    {
     "output_type": "stream",
     "name": "stdout",
     "text": [
      "['Fresh Meat', 'Fresh Chicken & Poultry', 'Chilled Fish & Seafood', 'Milk, Butter & Eggs', 'Cheese', 'Fresh Vegetables', 'Fresh Salad & Herbs', 'Fresh Fruit', 'In Season Fruit & Vegetables', 'Cooked Meats, Deli & Dips', 'Pies, Quiches & Savoury Snacks', 'Desserts', 'Yogurts', 'Ready Meals']\n['Bread', 'Fresh Bread', 'Rolls, Bagels & Thins', 'Baguettes, Ciabatta & Continental Breads', 'Wraps, Tortillas & Pitta Bread', 'Part Baked Bread & Rolls', 'Cakes & Tarts', 'Birthday & Celebration Cakes', 'Doughnuts, Muffins & Cookies', 'Croissants, Brioche & Pastries', 'Crumpets, Pancakes & Waffles']\n"
     ]
    }
   ],
   "source": [
    "#split the lists on the new line and update the lists and update the lists\n",
    "for i in fresh_and_chilled:\n",
    "    fresh_and_chilled = i.split(\"\\n\")\n",
    "    print(fresh_and_chilled) \n",
    "for j in bakery:\n",
    "    bakery = j.split(\"\\n\")\n",
    "    print(bakery) \n",
    "for k in frozen:\n",
    "    frozen = k.split(\"\\n\")\n",
    "#    print(k, len(k)) \n",
    "for l in food_cupboard:\n",
    "     food_cupboard = l.split(\"\\n\")\n",
    "#     print(k, len(k)) \n",
    "\n",
    "\n",
    "# df.assign(var1=df['a'].str.split(',')).explode('var1')\n",
    "\n",
    "#  pd.concat([Series(row['var2'], row['var1'].split(','))              \n",
    "#                   for _, row in a.iterrows()]).reset_index()"
   ]
  },
  {
   "cell_type": "code",
   "execution_count": null,
   "metadata": {},
   "outputs": [],
   "source": []
  },
  {
   "cell_type": "code",
   "execution_count": 414,
   "metadata": {},
   "outputs": [
    {
     "output_type": "stream",
     "name": "stdout",
     "text": [
      "Number of subcategories in each category:- fresh_and_chilled:  14, bakery : 11 , frozen: 12, food_cupboard: 13\n[['Fresh Meat', 'Fresh Chicken & Poultry', 'Chilled Fish & Seafood', 'Milk, Butter & Eggs', 'Cheese', 'Fresh Vegetables', 'Fresh Salad & Herbs', 'Fresh Fruit', 'In Season Fruit & Vegetables', 'Cooked Meats, Deli & Dips', 'Pies, Quiches & Savoury Snacks', 'Desserts', 'Yogurts', 'Ready Meals'], ['Bread', 'Fresh Bread', 'Rolls, Bagels & Thins', 'Baguettes, Ciabatta & Continental Breads', 'Wraps, Tortillas & Pitta Bread', 'Part Baked Bread & Rolls', 'Cakes & Tarts', 'Birthday & Celebration Cakes', 'Doughnuts, Muffins & Cookies', 'Croissants, Brioche & Pastries', 'Crumpets, Pancakes & Waffles'], ['Frozen Fish & Seafood', 'Frozen Vegetables, Herbs & Rice', 'Frozen Fruits & Smoothie Mixes', 'Frozen Vegetarian Food', 'Ice Cream, Frozen Yogurt & Sorbets', 'Frozen Ready Meals', 'Frozen Meat & Poultry', 'Frozen Desserts', 'Frozen Chips & Potatoes', 'Yorkshire Puddings', 'Frozen Snacks & Party Food', 'Frozen Bread, Croissants & Pastry'], ['Breakfast Cereal', 'Crisps, Snacks & Nuts', 'Chocolate & Sweets', 'Biscuits & Crackers', 'Tins, Cans & Packets', 'Rice, Pasta & Pulses', 'Sugar & Home Baking', 'Jam, Honey & Spreads', 'Dried Herbs, Oils & Vinegar', 'Condiments, Dressings & Marinades', 'Jarred Goods, Pickles & Olives', 'Desserts', 'Cooking Sauces & Meal Kits']]\n"
     ]
    }
   ],
   "source": [
    "# check length of each list \n",
    "print(f\"Number of subcategories in each category:- fresh_and_chilled:  {len(fresh_and_chilled)}, bakery : {len(bakery)} , frozen: {len(frozen)}, food_cupboard: {len(food_cupboard)}\") \n",
    "#create combined list\n",
    "subcategories_List = [fresh_and_chilled, bakery, frozen, food_cupboard]\n",
    "print(subcategories_List)"
   ]
  },
  {
   "cell_type": "code",
   "execution_count": 407,
   "metadata": {},
   "outputs": [
    {
     "output_type": "execute_result",
     "data": {
      "text/plain": [
       "(11, 4)"
      ]
     },
     "metadata": {},
     "execution_count": 407
    }
   ],
   "source": [
    "df = pd.DataFrame((zip(fresh_and_chilled, bakery, frozen, food_cupboard)), columns =['fresh_and_chilled', 'bakery', 'frozen', 'food_cupboard'])\n",
    "df.shape"
   ]
  },
  {
   "cell_type": "code",
   "execution_count": 382,
   "metadata": {},
   "outputs": [
    {
     "output_type": "error",
     "ename": "KeyError",
     "evalue": "'fresh_and_chilled'",
     "traceback": [
      "\u001b[0;31m---------------------------------------------------------------------------\u001b[0m",
      "\u001b[0;31mKeyError\u001b[0m                                  Traceback (most recent call last)",
      "\u001b[0;32m<ipython-input-382-9f23e0356b3e>\u001b[0m in \u001b[0;36m<module>\u001b[0;34m\u001b[0m\n\u001b[1;32m      7\u001b[0m \u001b[0;31m#ss = fresh_and_chilled.split(\"\\n\")\u001b[0m\u001b[0;34m\u001b[0m\u001b[0;34m\u001b[0m\u001b[0;34m\u001b[0m\u001b[0m\n\u001b[1;32m      8\u001b[0m \u001b[0msub1\u001b[0m \u001b[0;34m=\u001b[0m \u001b[0mpd\u001b[0m\u001b[0;34m.\u001b[0m\u001b[0mDataFrame\u001b[0m\u001b[0;34m(\u001b[0m\u001b[0mfresh_and_chilled\u001b[0m\u001b[0;34m)\u001b[0m\u001b[0;34m\u001b[0m\u001b[0;34m\u001b[0m\u001b[0m\n\u001b[0;32m----> 9\u001b[0;31m \u001b[0msub2\u001b[0m \u001b[0;34m=\u001b[0m \u001b[0msub1\u001b[0m\u001b[0;34m.\u001b[0m\u001b[0massign\u001b[0m\u001b[0;34m(\u001b[0m\u001b[0mfresh_and_chilled\u001b[0m\u001b[0;34m=\u001b[0m\u001b[0msub1\u001b[0m\u001b[0;34m[\u001b[0m\u001b[0;34m'fresh_and_chilled'\u001b[0m\u001b[0;34m]\u001b[0m\u001b[0;34m.\u001b[0m\u001b[0mstr\u001b[0m\u001b[0;34m.\u001b[0m\u001b[0msplit\u001b[0m\u001b[0;34m(\u001b[0m\u001b[0;34m'\\n'\u001b[0m\u001b[0;34m)\u001b[0m\u001b[0;34m)\u001b[0m\u001b[0;34m.\u001b[0m\u001b[0mexplode\u001b[0m\u001b[0;34m(\u001b[0m\u001b[0;34m'fresh_and_chilled'\u001b[0m\u001b[0;34m)\u001b[0m\u001b[0;34m\u001b[0m\u001b[0;34m\u001b[0m\u001b[0m\n\u001b[0m\u001b[1;32m     10\u001b[0m \u001b[0;34m\u001b[0m\u001b[0m\n\u001b[1;32m     11\u001b[0m \u001b[0msub3\u001b[0m \u001b[0;34m=\u001b[0m \u001b[0msub2\u001b[0m\u001b[0;34m.\u001b[0m\u001b[0massign\u001b[0m\u001b[0;34m(\u001b[0m\u001b[0mbakery\u001b[0m\u001b[0;34m=\u001b[0m\u001b[0msub1\u001b[0m\u001b[0;34m[\u001b[0m\u001b[0;34m'bakery'\u001b[0m\u001b[0;34m]\u001b[0m\u001b[0;34m.\u001b[0m\u001b[0mstr\u001b[0m\u001b[0;34m.\u001b[0m\u001b[0msplit\u001b[0m\u001b[0;34m(\u001b[0m\u001b[0;34m'\\n'\u001b[0m\u001b[0;34m)\u001b[0m\u001b[0;34m)\u001b[0m\u001b[0;34m.\u001b[0m\u001b[0mexplode\u001b[0m\u001b[0;34m(\u001b[0m\u001b[0;34m'bakery'\u001b[0m\u001b[0;34m)\u001b[0m\u001b[0;34m\u001b[0m\u001b[0;34m\u001b[0m\u001b[0m\n",
      "\u001b[0;32m/Library/Frameworks/Python.framework/Versions/3.8/lib/python3.8/site-packages/pandas/core/frame.py\u001b[0m in \u001b[0;36m__getitem__\u001b[0;34m(self, key)\u001b[0m\n\u001b[1;32m   2897\u001b[0m             \u001b[0;32mif\u001b[0m \u001b[0mself\u001b[0m\u001b[0;34m.\u001b[0m\u001b[0mcolumns\u001b[0m\u001b[0;34m.\u001b[0m\u001b[0mnlevels\u001b[0m \u001b[0;34m>\u001b[0m \u001b[0;36m1\u001b[0m\u001b[0;34m:\u001b[0m\u001b[0;34m\u001b[0m\u001b[0;34m\u001b[0m\u001b[0m\n\u001b[1;32m   2898\u001b[0m                 \u001b[0;32mreturn\u001b[0m \u001b[0mself\u001b[0m\u001b[0;34m.\u001b[0m\u001b[0m_getitem_multilevel\u001b[0m\u001b[0;34m(\u001b[0m\u001b[0mkey\u001b[0m\u001b[0;34m)\u001b[0m\u001b[0;34m\u001b[0m\u001b[0;34m\u001b[0m\u001b[0m\n\u001b[0;32m-> 2899\u001b[0;31m             \u001b[0mindexer\u001b[0m \u001b[0;34m=\u001b[0m \u001b[0mself\u001b[0m\u001b[0;34m.\u001b[0m\u001b[0mcolumns\u001b[0m\u001b[0;34m.\u001b[0m\u001b[0mget_loc\u001b[0m\u001b[0;34m(\u001b[0m\u001b[0mkey\u001b[0m\u001b[0;34m)\u001b[0m\u001b[0;34m\u001b[0m\u001b[0;34m\u001b[0m\u001b[0m\n\u001b[0m\u001b[1;32m   2900\u001b[0m             \u001b[0;32mif\u001b[0m \u001b[0mis_integer\u001b[0m\u001b[0;34m(\u001b[0m\u001b[0mindexer\u001b[0m\u001b[0;34m)\u001b[0m\u001b[0;34m:\u001b[0m\u001b[0;34m\u001b[0m\u001b[0;34m\u001b[0m\u001b[0m\n\u001b[1;32m   2901\u001b[0m                 \u001b[0mindexer\u001b[0m \u001b[0;34m=\u001b[0m \u001b[0;34m[\u001b[0m\u001b[0mindexer\u001b[0m\u001b[0;34m]\u001b[0m\u001b[0;34m\u001b[0m\u001b[0;34m\u001b[0m\u001b[0m\n",
      "\u001b[0;32m/Library/Frameworks/Python.framework/Versions/3.8/lib/python3.8/site-packages/pandas/core/indexes/range.py\u001b[0m in \u001b[0;36mget_loc\u001b[0;34m(self, key, method, tolerance)\u001b[0m\n\u001b[1;32m    352\u001b[0m                 \u001b[0;32mexcept\u001b[0m \u001b[0mValueError\u001b[0m \u001b[0;32mas\u001b[0m \u001b[0merr\u001b[0m\u001b[0;34m:\u001b[0m\u001b[0;34m\u001b[0m\u001b[0;34m\u001b[0m\u001b[0m\n\u001b[1;32m    353\u001b[0m                     \u001b[0;32mraise\u001b[0m \u001b[0mKeyError\u001b[0m\u001b[0;34m(\u001b[0m\u001b[0mkey\u001b[0m\u001b[0;34m)\u001b[0m \u001b[0;32mfrom\u001b[0m \u001b[0merr\u001b[0m\u001b[0;34m\u001b[0m\u001b[0;34m\u001b[0m\u001b[0m\n\u001b[0;32m--> 354\u001b[0;31m             \u001b[0;32mraise\u001b[0m \u001b[0mKeyError\u001b[0m\u001b[0;34m(\u001b[0m\u001b[0mkey\u001b[0m\u001b[0;34m)\u001b[0m\u001b[0;34m\u001b[0m\u001b[0;34m\u001b[0m\u001b[0m\n\u001b[0m\u001b[1;32m    355\u001b[0m         \u001b[0;32mreturn\u001b[0m \u001b[0msuper\u001b[0m\u001b[0;34m(\u001b[0m\u001b[0;34m)\u001b[0m\u001b[0;34m.\u001b[0m\u001b[0mget_loc\u001b[0m\u001b[0;34m(\u001b[0m\u001b[0mkey\u001b[0m\u001b[0;34m,\u001b[0m \u001b[0mmethod\u001b[0m\u001b[0;34m=\u001b[0m\u001b[0mmethod\u001b[0m\u001b[0;34m,\u001b[0m \u001b[0mtolerance\u001b[0m\u001b[0;34m=\u001b[0m\u001b[0mtolerance\u001b[0m\u001b[0;34m)\u001b[0m\u001b[0;34m\u001b[0m\u001b[0;34m\u001b[0m\u001b[0m\n\u001b[1;32m    356\u001b[0m \u001b[0;34m\u001b[0m\u001b[0m\n",
      "\u001b[0;31mKeyError\u001b[0m: 'fresh_and_chilled'"
     ]
    }
   ],
   "source": [
    "# df = pd.DataFrame((zip(fresh_and_chilled,frozen)), columns =['a', 'b'])\n",
    "# df2 = df['a'].str.split(\"\\n\").tolist()\n",
    "# df3 = df['b'].str.split(\"\\n\").tolist()\n",
    "# df4 = pd.DataFrame(df2)\n",
    "# df5 =pd.DataFrame(df3)\n",
    "# #df6 = pd.concat(df4, df5)\n",
    "# #ss = fresh_and_chilled.split(\"\\n\")\n",
    "# sub1 = pd.DataFrame(fresh_and_chilled)\n",
    "# sub2 = sub1.assign(fresh_and_chilled=sub1['fresh_and_chilled'].str.split('\\n')).explode('fresh_and_chilled')\n",
    "\n",
    "# sub3 = sub2.assign(bakery=sub1['bakery'].str.split('\\n')).explode('bakery')\n",
    "# print(df)\n",
    "# print(sub2)\n",
    "#print(sub2)"
   ]
  },
  {
   "cell_type": "code",
   "execution_count": 373,
   "metadata": {},
   "outputs": [
    {
     "output_type": "error",
     "ename": "ValueError",
     "evalue": "Length of values (2) does not match length of index (14)",
     "traceback": [
      "\u001b[0;31m---------------------------------------------------------------------------\u001b[0m",
      "\u001b[0;31mValueError\u001b[0m                                Traceback (most recent call last)",
      "\u001b[0;32m<ipython-input-373-da508fc39d26>\u001b[0m in \u001b[0;36m<module>\u001b[0;34m\u001b[0m\n\u001b[0;32m----> 1\u001b[0;31m \u001b[0msub2\u001b[0m\u001b[0;34m[\u001b[0m\u001b[0;34m'bakery'\u001b[0m\u001b[0;34m]\u001b[0m\u001b[0;34m,\u001b[0m \u001b[0msub2\u001b[0m\u001b[0;34m[\u001b[0m\u001b[0;34m'frozen'\u001b[0m\u001b[0;34m]\u001b[0m \u001b[0;34m=\u001b[0m \u001b[0mzip\u001b[0m\u001b[0;34m(\u001b[0m\u001b[0;34m*\u001b[0m\u001b[0;34m[\u001b[0m\u001b[0;34m(\u001b[0m\u001b[0;36m1\u001b[0m\u001b[0;34m,\u001b[0m \u001b[0;36m3\u001b[0m\u001b[0;34m)\u001b[0m\u001b[0;34m,\u001b[0m \u001b[0;34m(\u001b[0m\u001b[0;36m4\u001b[0m\u001b[0;34m,\u001b[0m\u001b[0;36m5\u001b[0m\u001b[0;34m)\u001b[0m\u001b[0;34m]\u001b[0m \u001b[0;34m)\u001b[0m\u001b[0;34m\u001b[0m\u001b[0;34m\u001b[0m\u001b[0m\n\u001b[0m",
      "\u001b[0;32m/Library/Frameworks/Python.framework/Versions/3.8/lib/python3.8/site-packages/pandas/core/frame.py\u001b[0m in \u001b[0;36m__setitem__\u001b[0;34m(self, key, value)\u001b[0m\n\u001b[1;32m   3035\u001b[0m         \u001b[0;32melse\u001b[0m\u001b[0;34m:\u001b[0m\u001b[0;34m\u001b[0m\u001b[0;34m\u001b[0m\u001b[0m\n\u001b[1;32m   3036\u001b[0m             \u001b[0;31m# set column\u001b[0m\u001b[0;34m\u001b[0m\u001b[0;34m\u001b[0m\u001b[0;34m\u001b[0m\u001b[0m\n\u001b[0;32m-> 3037\u001b[0;31m             \u001b[0mself\u001b[0m\u001b[0;34m.\u001b[0m\u001b[0m_set_item\u001b[0m\u001b[0;34m(\u001b[0m\u001b[0mkey\u001b[0m\u001b[0;34m,\u001b[0m \u001b[0mvalue\u001b[0m\u001b[0;34m)\u001b[0m\u001b[0;34m\u001b[0m\u001b[0;34m\u001b[0m\u001b[0m\n\u001b[0m\u001b[1;32m   3038\u001b[0m \u001b[0;34m\u001b[0m\u001b[0m\n\u001b[1;32m   3039\u001b[0m     \u001b[0;32mdef\u001b[0m \u001b[0m_setitem_slice\u001b[0m\u001b[0;34m(\u001b[0m\u001b[0mself\u001b[0m\u001b[0;34m,\u001b[0m \u001b[0mkey\u001b[0m\u001b[0;34m:\u001b[0m \u001b[0mslice\u001b[0m\u001b[0;34m,\u001b[0m \u001b[0mvalue\u001b[0m\u001b[0;34m)\u001b[0m\u001b[0;34m:\u001b[0m\u001b[0;34m\u001b[0m\u001b[0;34m\u001b[0m\u001b[0m\n",
      "\u001b[0;32m/Library/Frameworks/Python.framework/Versions/3.8/lib/python3.8/site-packages/pandas/core/frame.py\u001b[0m in \u001b[0;36m_set_item\u001b[0;34m(self, key, value)\u001b[0m\n\u001b[1;32m   3111\u001b[0m         \"\"\"\n\u001b[1;32m   3112\u001b[0m         \u001b[0mself\u001b[0m\u001b[0;34m.\u001b[0m\u001b[0m_ensure_valid_index\u001b[0m\u001b[0;34m(\u001b[0m\u001b[0mvalue\u001b[0m\u001b[0;34m)\u001b[0m\u001b[0;34m\u001b[0m\u001b[0;34m\u001b[0m\u001b[0m\n\u001b[0;32m-> 3113\u001b[0;31m         \u001b[0mvalue\u001b[0m \u001b[0;34m=\u001b[0m \u001b[0mself\u001b[0m\u001b[0;34m.\u001b[0m\u001b[0m_sanitize_column\u001b[0m\u001b[0;34m(\u001b[0m\u001b[0mkey\u001b[0m\u001b[0;34m,\u001b[0m \u001b[0mvalue\u001b[0m\u001b[0;34m)\u001b[0m\u001b[0;34m\u001b[0m\u001b[0;34m\u001b[0m\u001b[0m\n\u001b[0m\u001b[1;32m   3114\u001b[0m         \u001b[0mNDFrame\u001b[0m\u001b[0;34m.\u001b[0m\u001b[0m_set_item\u001b[0m\u001b[0;34m(\u001b[0m\u001b[0mself\u001b[0m\u001b[0;34m,\u001b[0m \u001b[0mkey\u001b[0m\u001b[0;34m,\u001b[0m \u001b[0mvalue\u001b[0m\u001b[0;34m)\u001b[0m\u001b[0;34m\u001b[0m\u001b[0;34m\u001b[0m\u001b[0m\n\u001b[1;32m   3115\u001b[0m \u001b[0;34m\u001b[0m\u001b[0m\n",
      "\u001b[0;32m/Library/Frameworks/Python.framework/Versions/3.8/lib/python3.8/site-packages/pandas/core/frame.py\u001b[0m in \u001b[0;36m_sanitize_column\u001b[0;34m(self, key, value, broadcast)\u001b[0m\n\u001b[1;32m   3756\u001b[0m \u001b[0;34m\u001b[0m\u001b[0m\n\u001b[1;32m   3757\u001b[0m             \u001b[0;31m# turn me into an ndarray\u001b[0m\u001b[0;34m\u001b[0m\u001b[0;34m\u001b[0m\u001b[0;34m\u001b[0m\u001b[0m\n\u001b[0;32m-> 3758\u001b[0;31m             \u001b[0mvalue\u001b[0m \u001b[0;34m=\u001b[0m \u001b[0msanitize_index\u001b[0m\u001b[0;34m(\u001b[0m\u001b[0mvalue\u001b[0m\u001b[0;34m,\u001b[0m \u001b[0mself\u001b[0m\u001b[0;34m.\u001b[0m\u001b[0mindex\u001b[0m\u001b[0;34m)\u001b[0m\u001b[0;34m\u001b[0m\u001b[0;34m\u001b[0m\u001b[0m\n\u001b[0m\u001b[1;32m   3759\u001b[0m             \u001b[0;32mif\u001b[0m \u001b[0;32mnot\u001b[0m \u001b[0misinstance\u001b[0m\u001b[0;34m(\u001b[0m\u001b[0mvalue\u001b[0m\u001b[0;34m,\u001b[0m \u001b[0;34m(\u001b[0m\u001b[0mnp\u001b[0m\u001b[0;34m.\u001b[0m\u001b[0mndarray\u001b[0m\u001b[0;34m,\u001b[0m \u001b[0mIndex\u001b[0m\u001b[0;34m)\u001b[0m\u001b[0;34m)\u001b[0m\u001b[0;34m:\u001b[0m\u001b[0;34m\u001b[0m\u001b[0;34m\u001b[0m\u001b[0m\n\u001b[1;32m   3760\u001b[0m                 \u001b[0;32mif\u001b[0m \u001b[0misinstance\u001b[0m\u001b[0;34m(\u001b[0m\u001b[0mvalue\u001b[0m\u001b[0;34m,\u001b[0m \u001b[0mlist\u001b[0m\u001b[0;34m)\u001b[0m \u001b[0;32mand\u001b[0m \u001b[0mlen\u001b[0m\u001b[0;34m(\u001b[0m\u001b[0mvalue\u001b[0m\u001b[0;34m)\u001b[0m \u001b[0;34m>\u001b[0m \u001b[0;36m0\u001b[0m\u001b[0;34m:\u001b[0m\u001b[0;34m\u001b[0m\u001b[0;34m\u001b[0m\u001b[0m\n",
      "\u001b[0;32m/Library/Frameworks/Python.framework/Versions/3.8/lib/python3.8/site-packages/pandas/core/internals/construction.py\u001b[0m in \u001b[0;36msanitize_index\u001b[0;34m(data, index)\u001b[0m\n\u001b[1;32m    745\u001b[0m     \"\"\"\n\u001b[1;32m    746\u001b[0m     \u001b[0;32mif\u001b[0m \u001b[0mlen\u001b[0m\u001b[0;34m(\u001b[0m\u001b[0mdata\u001b[0m\u001b[0;34m)\u001b[0m \u001b[0;34m!=\u001b[0m \u001b[0mlen\u001b[0m\u001b[0;34m(\u001b[0m\u001b[0mindex\u001b[0m\u001b[0;34m)\u001b[0m\u001b[0;34m:\u001b[0m\u001b[0;34m\u001b[0m\u001b[0;34m\u001b[0m\u001b[0m\n\u001b[0;32m--> 747\u001b[0;31m         raise ValueError(\n\u001b[0m\u001b[1;32m    748\u001b[0m             \u001b[0;34m\"Length of values \"\u001b[0m\u001b[0;34m\u001b[0m\u001b[0;34m\u001b[0m\u001b[0m\n\u001b[1;32m    749\u001b[0m             \u001b[0;34mf\"({len(data)}) \"\u001b[0m\u001b[0;34m\u001b[0m\u001b[0;34m\u001b[0m\u001b[0m\n",
      "\u001b[0;31mValueError\u001b[0m: Length of values (2) does not match length of index (14)"
     ]
    }
   ],
   "source": [
    "sub2['bakery'], sub2['frozen'] = zip(*[(1, 3), (4,5)] )"
   ]
  },
  {
   "cell_type": "code",
   "execution_count": 103,
   "metadata": {},
   "outputs": [],
   "source": [
    "driver.quit()"
   ]
  },
  {
   "cell_type": "code",
   "execution_count": null,
   "metadata": {},
   "outputs": [],
   "source": []
  },
  {
   "cell_type": "code",
   "execution_count": null,
   "metadata": {},
   "outputs": [],
   "source": []
  },
  {
   "source": [
    "how to create a dataframe from list in a dictionery\n",
    "\n",
    "\n"
   ],
   "cell_type": "markdown",
   "metadata": {}
  },
  {
   "cell_type": "code",
   "execution_count": null,
   "metadata": {},
   "outputs": [],
   "source": [
    " list of strings \n",
    "lst = ['Geeks', 'For', 'Geeks', 'is', 'portal', 'for', 'Geeks'] \n",
    "  \n",
    "# list of int \n",
    "lst2 = [11, 22, 33, 44, 55, 66, 77] \n",
    "  \n",
    "# Calling DataFrame constructor after zipping \n",
    "# both lists, with columns specified \n",
    "df = pd.DataFrame(list(zip(lst, lst2)), \n",
    "               columns =['Name', 'val']) "
   ]
  },
  {
   "cell_type": "code",
   "execution_count": 367,
   "metadata": {},
   "outputs": [],
   "source": [
    "driver = webdriver.Chrome('chrome_driver/chromedriver') \n",
    "URL1 = \"https://www.eventbrite.co.uk/myevent?eid=128754436987\"\n",
    "URL2 = https://www.eventbrite.co.uk/myevent?eid=136437878367\n",
    "XPATH = \"//*[@id=\"repeat_events_upcoming\"]/div/table/tbody/tr[1]/td[2]/div/span[1]\" \n",
    "\n",
    "driver.get(URL)\n",
    "\n"
   ]
  },
  {
   "cell_type": "code",
   "execution_count": null,
   "metadata": {},
   "outputs": [],
   "source": []
  }
 ],
 "metadata": {
  "kernelspec": {
   "name": "python3",
   "display_name": "Python 3.8.1 64-bit",
   "metadata": {
    "interpreter": {
     "hash": "082e9a3bcad0a290d0001e938aa60b99250c6c2ef33a923c00b70f9826caf4b7"
    }
   }
  }
 },
 "nbformat": 4,
 "nbformat_minor": 2
}