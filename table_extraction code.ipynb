{
 "metadata": {
  "language_info": {
   "codemirror_mode": {
    "name": "ipython",
    "version": 3
   },
   "file_extension": ".py",
   "mimetype": "text/x-python",
   "name": "python",
   "nbconvert_exporter": "python",
   "pygments_lexer": "ipython3",
   "version": "3.8.1-final"
  },
  "orig_nbformat": 2,
  "kernelspec": {
   "name": "python3",
   "display_name": "Python 3",
   "language": "python"
  }
 },
 "nbformat": 4,
 "nbformat_minor": 2,
 "cells": [
  {
   "cell_type": "code",
   "execution_count": null,
   "metadata": {},
   "outputs": [],
   "source": []
  },
  {
   "cell_type": "code",
   "execution_count": null,
   "metadata": {},
   "outputs": [],
   "source": [
    "def get_product_data_method_2_works():\n",
    "    product_data = {'product_name' : [], 'weight' : [], 'servings':[], 'price' : [], }\n",
    "    ingredients= {'product_name': []}\n",
    "#nutritional value typical \n",
    "    nutrition_waitrose = {'product_name' : {'energy': [], 'fat' : [], 'fat_saturates': [], 'sugars': [], 'fiber' : [], 'protein' : [], 'salt' : []} }\n",
    "\n",
    "#define an empty nested dictionary for nutritional value typical\n",
    "    nutrition_typical = {'product_name' : {'energy': [], 'fat_saturates': [], 'carbohydrates_sugars' : [], 'fiber' : [], 'protein' : [], 'salt' : [] }} \n",
    "\n",
    "    product_name_list = []\n",
    "    \n",
    "    XPATH_prod_data = {'product_name': \"//*[@id ='productName']/span[1]\",\n",
    "    'weight': \"//*[@id='productName']/span[2]\", 'price' : \"//*[@id='main']/div/article/section[2]/div[3]/div[1]/section[1]/span[1]/span\",  }\n",
    "\n",
    "    for i in list[:10]: # list of 7500 products (all_product_links_2 )\n",
    "        driver.get(i) \n",
    "        for item, xpath in XPATH_prod_data.items():\n",
    "            product_elem = driver.find_element_by_xpath(xpath)\n",
    "            names = product_elem.text\n",
    "            if item == 'product_name':\n",
    "                product_data[\"product_name\"].append(names)\n",
    "            elif item == 'weight' :\n",
    "                product_data[\"weight\"].append(names)\n",
    "            elif item == 'servings':\n",
    "                product_data[\"servings\"].append(names)\n",
    "            else:\n",
    "                product_data[\"price\"].append(names) \n",
    "            #get weight \n",
    "\n",
    "        print(f'Done = {i}')\n",
    "    return product_data\n",
    "\n",
    "def get_ingredients():\n",
    "    XPATHing = []\n",
    "    pass\n",
    "def get_nutrition_waitrose():\n",
    "    XPATH_nutri_w = []\n",
    "    pass\n",
    "def get_nutrition_typical():\n",
    "    XPATH_nutri_w = []\n",
    "    pass\n",
    "\n",
    "get_product_data_works()\n"
   ]
  },
  {
   "cell_type": "code",
   "execution_count": 18,
   "metadata": {},
   "outputs": [
    {
     "output_type": "stream",
     "name": "stdout",
     "text": [
      "['0', 'https://www.waitrose.com/ecom/products/essential-small-whole-chicken-without-giblets/895677-706845-706846', 'https://www.waitrose.com/ecom/products/waitrose-crackling-pork-boneless-leg-roast/050735-25241-25242', 'https://www.waitrose.com/ecom/products/essential-british-chicken-large/645021-507910-507911', 'https://www.waitrose.com/ecom/products/no1-corn-fed-free-range-whole-chicken/037011-18529-18530']\n"
     ]
    }
   ],
   "source": [
    "import csv\n",
    "all_prod_link_list2 = []\n",
    "with open('/Users/sz742/Ai-core-Project-1-Web_Scraping/all_product_links_method2.csv', newline='') as file:\n",
    "    for row in csv.reader(file):\n",
    "        all_prod_link_list2.append(row[0])\n",
    "print(all_prod_link_list2[:5])"
   ]
  },
  {
   "cell_type": "code",
   "execution_count": 19,
   "metadata": {},
   "outputs": [
    {
     "output_type": "stream",
     "name": "stdout",
     "text": [
      "  Carbohydrate   Energy    Fat  Fibre Of which Saturates Of which Sugars  \\\n0         0.0g  205kcal   9.8g   0.0g               2.4g            0.0g   \n1        <0.5g  275kcal  22.5g  <0.5g               7.7g           <0.5g   \n2         0.0g  205kcal   9.8g   0.0g               2.4g            0.0g   \n3         0.0g  190kcal   9.1g   0.5g               2.5g            0.0g   \n4         0.0g  187kcal  12.3g   0.0g               5.4g            0.0g   \n\n  Protein   Salt                                   product_name  \n0   29.3g  0.18g  Essential Small Whole Chicken Without Giblets  \n1   17.8g  0.44g     Waitrose Crackling Pork Boneless Leg Roast  \n2   29.3g  0.18g                Essential British Chicken Large  \n3   26.9g  0.17g         No.1 Corn Fed Free Range Whole Chicken  \n4   19.0g  0.14g             Waitrose 2 British Lamb Leg Shanks  \n"
     ]
    }
   ],
   "source": [
    "import requests\n",
    "import pandas as pd\n",
    "from bs4 import BeautifulSoup\n",
    "\n",
    "## Debugging notes \n",
    "# some product does not have 'fat saturates'  so the length of nutrition_list is the same for those products\n",
    "#  solution: calculated the length of the list and used an if statemement. For products that do not have fat_saturates, fatsaturates quantity is = none  \n",
    "nutrition_typical1 = {'product_name' : [], 'Energy': [], 'Fat' : [], 'Of which Saturates': [], 'Carbohydrates' : [], 'Of which Sugars' : [], 'Fiber' : [], 'protein' : [], 'Salt': [] }\n",
    "url1 = 'https://www.waitrose.com/ecom/products/waitrose-beech-smoked-gammon-joint/779841-110961-110962'\n",
    "url2 = \"https://www.waitrose.com/ecom/products/no1-pheasant-topped-with-bacon/078233-39825-39826\"\n",
    "url3 = 'https://www.waitrose.com/ecom/products/duchy-from-waitrose-british-beef-rump-steak/066141-33502-33503'\n",
    "url = [url1, url2, url3]\n",
    "\n",
    "nutri_df= pd.DataFrame()\n",
    "\n",
    "\n",
    "for ur in all_prod_link_list2[1: 30]:\n",
    "    r = requests.get(ur) # make a HTTP GET request to this website\n",
    "    html_string = r.text \n",
    "    soup = BeautifulSoup(html_string, 'lxml')  \n",
    "\n",
    "    table_nutrition = soup.find('table', {'class' : 'table table-striped'}).find('tbody')\n",
    "    nutrition = {}\n",
    "    product_name = soup.find('span', {'class' : 'name___30fwb'}).text\n",
    "    # print(product_name)\n",
    "    for row in table_nutrition.find_all('tr'):\n",
    "        key = row.find('th').text\n",
    "        value = row.find('td').text\n",
    "        nutrition[key] = value\n",
    "    nutrition.update({'product_name': product_name})\n",
    "    nutri_df = nutri_df.append(nutrition, ignore_index=True)\n",
    "    # nutri_df['product_name'] = product_name\n",
    "\n",
    "    with open('nutrition_typical.csv', 'a') as f:\n",
    "        nutrition_typical_df.to_csv(f, mode='a', header=f.tell()==0) \n",
    "print(nutri_df.head())\n",
    "\n",
    "\n",
    "\n",
    "\n",
    "\n",
    "\n"
   ]
  },
  {
   "cell_type": "code",
   "execution_count": null,
   "metadata": {},
   "outputs": [],
   "source": [
    "I would like this values to store in   nutrition_typical nested dictionary in code block 1 "
   ]
  },
  {
   "cell_type": "code",
   "execution_count": 20,
   "metadata": {},
   "outputs": [
    {
     "output_type": "execute_result",
     "data": {
      "text/plain": [
       "<bound method NDFrame.head of    Carbohydrate   Energy    Fat  Fibre Of which Saturates Of which Sugars  \\\n",
       "0          0.0g  205kcal   9.8g   0.0g               2.4g            0.0g   \n",
       "1         <0.5g  275kcal  22.5g  <0.5g               7.7g           <0.5g   \n",
       "2          0.0g  205kcal   9.8g   0.0g               2.4g            0.0g   \n",
       "3          0.0g  190kcal   9.1g   0.5g               2.5g            0.0g   \n",
       "4          0.0g  187kcal  12.3g   0.0g               5.4g            0.0g   \n",
       "5          0.0g  173kcal   7.2g   0.0g               2.1g            0.0g   \n",
       "6          0.0g  205kcal   9.8g   0.0g               2.4g            0.0g   \n",
       "7          0.0g  179kcal  11.2g   0.0g               4.1g            0.0g   \n",
       "8          0.0g  153kcal   8.0g   0.0g               3.5g            0.0g   \n",
       "9          0.0g  179kcal  11.2g   0.0g               4.1g            0.0g   \n",
       "10         0.0g  187kcal  12.3g   0.0g               5.4g            0.0g   \n",
       "11           0g  187kcal  12.3g     0g               5.4g              0g   \n",
       "12         0.0g  141kcal   3.3g   0.0g               1.2g            0.0g   \n",
       "13        <0.5g  173kcal   8.2g   0.0g               2.1g           <0.5g   \n",
       "14         0.0g  246kcal  18.8g   0.0g               6.9g            0.0g   \n",
       "15         0.0g  198kcal  12.9g   0.0g               5.7g            0.0g   \n",
       "16        <0.5g  178kcal   9.5g   0.0g               2.5g           <0.5g   \n",
       "17         0.0g  208kcal  14.2g   0.5g               6.7g            0.0g   \n",
       "18         0.0g  197kcal  11.3g   0.0g               3.6g            0.0g   \n",
       "19        <0.5g  185kcal  10.0g   0.0g               4.0g           <0.5g   \n",
       "20        <0.1g  207kcal  12.2g  <0.5g              3.2g)          <0.1g)   \n",
       "21         0.0g  205kcal   9.8g   0.0g               2.4g            0.0g   \n",
       "22         0.0g  187kcal  12.3g   0.0g               5.4g            0.0g   \n",
       "23        <0.5g  212kcal    13g  <0.5g               6.2g           <0.5g   \n",
       "24         5.1g  251kcal  16.2g     0g               5.8g            5.1g   \n",
       "25        12.2g  222kcal   7.9g  <0.5g               3.5g           11.5g   \n",
       "26         0.0g  169kcal   7.3g   0.0g               2.3g            0.0g   \n",
       "27           0g  316kcal  27.9g     0g              13.6g              0g   \n",
       "28         0.0g  235kcal  18.3g   0.0g               8.5g            0.0g   \n",
       "\n",
       "   Protein   Salt                                       product_name  \n",
       "0    29.3g  0.18g      Essential Small Whole Chicken Without Giblets  \n",
       "1    17.8g  0.44g         Waitrose Crackling Pork Boneless Leg Roast  \n",
       "2    29.3g  0.18g                    Essential British Chicken Large  \n",
       "3    26.9g  0.17g             No.1 Corn Fed Free Range Whole Chicken  \n",
       "4    19.0g  0.14g                 Waitrose 2 British Lamb Leg Shanks  \n",
       "5    26.9g  0.16g     Duchy Organic Free Range British Whole Chicken  \n",
       "6    29.3g  0.18g             Essential British Medium Whole Chicken  \n",
       "7    19.6g  0.13g               Essential British Beef Topside Small  \n",
       "8    20.2g  0.18g          Waitrose Welsh Extra Trimmed Rack of Lamb  \n",
       "9    19.6g  0.13g               Essential British Beef Topside Large  \n",
       "10   19.0g  0.14g                       Waitrose Welsh Lamb Half Leg  \n",
       "11   19.0g  0.20g          Duchy from Waitrose British Lamb Half Leg  \n",
       "12   27.7g  0.10g                        No.1 Free Range Pork Fillet  \n",
       "13   24.7g  0.33g  Waitrose Whole British Chicken with Garlic and...  \n",
       "14   19.3g  0.14g          Waitrose British Boneless Pork Loin Roast  \n",
       "15   20.4g  0.13g    Duchy from Waitrose British Beef Roasting Joint  \n",
       "16   23.0g  0.33g        Waitrose Stock Brined Whole British Chicken  \n",
       "17   19.7g  0.14g                                 No.1 Côte De Boeuf  \n",
       "18   23.7g  2.58g            Essential Unsmoked British Gammon Joint  \n",
       "19   23.5g  0.27g           Easy to Cook Butter Chicken Breast Joint  \n",
       "20   24.2g   0.2g                       Gressingham Corn Fed Poussin  \n",
       "21   29.3g  0.18g              Essential British Chicken Extra Large  \n",
       "22   19.0g  0.14g         Waitrose succulent whole Welsh leg of lamb  \n",
       "23     23g  0.58g   Gressingham Spatchcock Poussin Sea Salt & Pepper  \n",
       "24   21.2g  1.15g   Easy to Cook Gammon Joint with Maple Syrup Glaze  \n",
       "25   25.4g  0.30g  Easy to Cook Lamb Joint with Redcurrant, Rosemary  \n",
       "26   25.9g  2.60g              Essential Smoked British Gammon Joint  \n",
       "27   16.3g  0.14g                        Waitrose Duchy Rack Of Lamb  \n",
       "28   17.6g  0.16g              Essential British Lamb Whole Shoulder  >"
      ]
     },
     "metadata": {},
     "execution_count": 20
    }
   ],
   "source": [
    "nutri_df.head"
   ]
  },
  {
   "cell_type": "code",
   "execution_count": null,
   "metadata": {},
   "outputs": [],
   "source": []
  }
 ]
}