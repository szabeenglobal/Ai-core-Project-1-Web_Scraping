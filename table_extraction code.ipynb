{
 "metadata": {
  "language_info": {
   "codemirror_mode": {
    "name": "ipython",
    "version": 3
   },
   "file_extension": ".py",
   "mimetype": "text/x-python",
   "name": "python",
   "nbconvert_exporter": "python",
   "pygments_lexer": "ipython3",
   "version": "3.8.1-final"
  },
  "orig_nbformat": 2,
  "kernelspec": {
   "name": "python3",
   "display_name": "Python 3",
   "language": "python"
  }
 },
 "nbformat": 4,
 "nbformat_minor": 2,
 "cells": [
  {
   "cell_type": "code",
   "execution_count": null,
   "metadata": {},
   "outputs": [],
   "source": []
  },
  {
   "cell_type": "code",
   "execution_count": null,
   "metadata": {},
   "outputs": [],
   "source": [
    "def get_product_data_method_2_works():\n",
    "    product_data = {'product_name' : [], 'weight' : [], 'servings':[], 'price' : [], }\n",
    "    ingredients= {'product_name': []}\n",
    "#nutritional value typical \n",
    "    nutrition_waitrose = {'product_name' : {'energy': [], 'fat' : [], 'fat_saturates': [], 'sugars': [], 'fiber' : [], 'protein' : [], 'salt' : []} }\n",
    "\n",
    "#define an empty nested dictionary for nutritional value typical\n",
    "    nutrition_typical = {'product_name' : {'energy': [], 'fat_saturates': [], 'carbohydrates_sugars' : [], 'fiber' : [], 'protein' : [], 'salt' : [] }} \n",
    "\n",
    "    product_name_list = []\n",
    "    \n",
    "    XPATH_prod_data = {'product_name': \"//*[@id ='productName']/span[1]\",\n",
    "    'weight': \"//*[@id='productName']/span[2]\", 'price' : \"//*[@id='main']/div/article/section[2]/div[3]/div[1]/section[1]/span[1]/span\",  }\n",
    "\n",
    "    for i in list[:10]: # list of 7500 products (all_product_links_2 )\n",
    "        driver.get(i) \n",
    "        for item, xpath in XPATH_prod_data.items():\n",
    "            product_elem = driver.find_element_by_xpath(xpath)\n",
    "            names = product_elem.text\n",
    "            if item == 'product_name':\n",
    "                product_data[\"product_name\"].append(names)\n",
    "            elif item == 'weight' :\n",
    "                product_data[\"weight\"].append(names)\n",
    "            elif item == 'servings':\n",
    "                product_data[\"servings\"].append(names)\n",
    "            else:\n",
    "                product_data[\"price\"].append(names) \n",
    "            #get weight \n",
    "\n",
    "        print(f'Done = {i}')\n",
    "    return product_data\n",
    "\n",
    "def get_ingredients():\n",
    "    XPATHing = []\n",
    "    pass\n",
    "def get_nutrition_waitrose():\n",
    "    XPATH_nutri_w = []\n",
    "    pass\n",
    "def get_nutrition_typical():\n",
    "    XPATH_nutri_w = []\n",
    "    pass\n",
    "\n",
    "get_product_data_works()\n"
   ]
  },
  {
   "cell_type": "code",
   "execution_count": 5,
   "metadata": {},
   "outputs": [
    {
     "output_type": "stream",
     "name": "stdout",
     "text": [
      "{'Energy': '228kcal', 'Fat': '13.4g', 'Of which Saturates': '4.2g', 'Carbohydrate': '0.0g', 'Of which Sugars': '0.0g', 'Fibre': '0.0g', 'Protein': '26.9g', 'Salt': '2.4g'}\n",
      "{'Energy': '192kcal', 'Fat': '10.6g', 'Carbohydrate': '0.8g', 'Of which Sugars': '<0.5g', 'Fibre': '0.5g', 'Protein': '23.1g', 'Salt': '0.64g'}\n",
      "{'Energy': '197kcal', 'Fat': '13.5g', 'Of which Saturates': '5.8g', 'Protein': '18.9g', 'Salt': '0.15g'}\n",
      "['821kj', '197kcal', '13.5g', '5.8g', '18.9g', '0.15g']\n",
      "\n",
      "\n",
      "['Energy', 'Energy', 'Fat', 'Of which Saturates', 'Protein', 'Salt']\n",
      "\n",
      "\n",
      "{'product_name': ['None', 'None', 'None'], 'Energy': ['228kcal', '192kcal', '197kcal'], 'Fat': ['13.4g', '10.6g', '13.5g'], 'Of which Saturates': ['4.2g', 'None', '5.8g'], 'Carbohydrates': ['None', 'None', 'None'], 'Of which Sugars': ['0.0g', '<0.5g', 'None'], 'Fiber': ['None', 'None', 'None'], 'protein': ['None', 'None', 'None'], 'Salt': ['2.4g', '0.64g', '0.15g']}\n"
     ]
    },
    {
     "output_type": "execute_result",
     "data": {
      "text/plain": [
       "  product_name   Energy    Fat Of which Saturates Carbohydrates  \\\n",
       "0         None  228kcal  13.4g               4.2g          None   \n",
       "1         None  192kcal  10.6g               None          None   \n",
       "2         None  197kcal  13.5g               5.8g          None   \n",
       "\n",
       "  Of which Sugars Fiber protein   Salt  \n",
       "0            0.0g  None    None   2.4g  \n",
       "1           <0.5g  None    None  0.64g  \n",
       "2            None  None    None  0.15g  "
      ],
      "text/html": "<div>\n<style scoped>\n    .dataframe tbody tr th:only-of-type {\n        vertical-align: middle;\n    }\n\n    .dataframe tbody tr th {\n        vertical-align: top;\n    }\n\n    .dataframe thead th {\n        text-align: right;\n    }\n</style>\n<table border=\"1\" class=\"dataframe\">\n  <thead>\n    <tr style=\"text-align: right;\">\n      <th></th>\n      <th>product_name</th>\n      <th>Energy</th>\n      <th>Fat</th>\n      <th>Of which Saturates</th>\n      <th>Carbohydrates</th>\n      <th>Of which Sugars</th>\n      <th>Fiber</th>\n      <th>protein</th>\n      <th>Salt</th>\n    </tr>\n  </thead>\n  <tbody>\n    <tr>\n      <th>0</th>\n      <td>None</td>\n      <td>228kcal</td>\n      <td>13.4g</td>\n      <td>4.2g</td>\n      <td>None</td>\n      <td>0.0g</td>\n      <td>None</td>\n      <td>None</td>\n      <td>2.4g</td>\n    </tr>\n    <tr>\n      <th>1</th>\n      <td>None</td>\n      <td>192kcal</td>\n      <td>10.6g</td>\n      <td>None</td>\n      <td>None</td>\n      <td>&lt;0.5g</td>\n      <td>None</td>\n      <td>None</td>\n      <td>0.64g</td>\n    </tr>\n    <tr>\n      <th>2</th>\n      <td>None</td>\n      <td>197kcal</td>\n      <td>13.5g</td>\n      <td>5.8g</td>\n      <td>None</td>\n      <td>None</td>\n      <td>None</td>\n      <td>None</td>\n      <td>0.15g</td>\n    </tr>\n  </tbody>\n</table>\n</div>"
     },
     "metadata": {},
     "execution_count": 5
    }
   ],
   "source": [
    "import requests\n",
    "import pandas as pd\n",
    "from bs4 import BeautifulSoup\n",
    "\n",
    "## Debugging notes \n",
    "# some product does not have 'fat saturates'  so the length of nutrition_list is the same for those products\n",
    "#  solution: calculated the length of the list and used an if statemement. For products that do not have fat_saturates, fatsaturates quantity is = none  \n",
    "nutrition_typical1 = {'product_name' : [], 'Energy': [], 'Fat' : [], 'Of which Saturates': [], 'Carbohydrates' : [], 'Of which Sugars' : [], 'Fiber' : [], 'protein' : [], 'Salt': [] }\n",
    "url1 = 'https://www.waitrose.com/ecom/products/waitrose-beech-smoked-gammon-joint/779841-110961-110962'\n",
    "url2 = \"https://www.waitrose.com/ecom/products/no1-pheasant-topped-with-bacon/078233-39825-39826\"\n",
    "url3 = 'https://www.waitrose.com/ecom/products/duchy-from-waitrose-british-beef-rump-steak/066141-33502-33503'\n",
    "url = [url1, url2, url3]\n",
    "nutri_typi = {}\n",
    "for ur in url:\n",
    "    r = requests.get(ur) # make a HTTP GET request to this website\n",
    "    html_string = r.text \n",
    "    soup = BeautifulSoup(html_string, 'lxml')  \n",
    "    length_td = []\n",
    "    nutrition_list1 = []\n",
    "    nutrition_list1_label = [] \n",
    "    \n",
    "\n",
    "    table_nutrition = soup.find('table', {'class' : 'table table-striped'}).find('tbody')\n",
    "    for row in table_nutrition.find_all('tr'):\n",
    "        length_td.append(row.find('td'))\n",
    "        nutrition_list1.append(row.find('td').text)\n",
    "        length_td\n",
    "    len(nutrition_list1)\n",
    "    for row in table_nutrition.find_all('tr'):\n",
    "        nutrition_list1_label.append(row.find('th').text)\n",
    "    nutrition_list_dict = dict(zip(nutrition_list1_label, nutrition_list1))\n",
    "    print(nutrition_list_dict)\n",
    "    for item, v in  nutrition_typical1.items():\n",
    "            if item in  nutrition_list_dict.keys():\n",
    "                nutrition_typical1[item].append(nutrition_list_dict[item])\n",
    "            else:\n",
    "                nutrition_typical1[item].append(\"None\")\n",
    "print(nutrition_list1)\n",
    "print()\n",
    "print()\n",
    "print(nutrition_list1_label)\n",
    "print()\n",
    "print()\n",
    "print(nutrition_typical1)\n",
    "\n",
    "nutrition_typical_df = pd.DataFrame(nutrition_typical1)\n",
    "nutrition_typical_df\n",
    "\n",
    "\n"
   ]
  },
  {
   "cell_type": "code",
   "execution_count": null,
   "metadata": {},
   "outputs": [],
   "source": [
    "I would like this values to store in   nutrition_typical nested dictionary in code block 1 "
   ]
  },
  {
   "cell_type": "code",
   "execution_count": null,
   "metadata": {},
   "outputs": [],
   "source": []
  }
 ]
}